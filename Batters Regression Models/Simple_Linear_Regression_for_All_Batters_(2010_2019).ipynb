{
  "nbformat": 4,
  "nbformat_minor": 0,
  "metadata": {
    "colab": {
      "name": "Simple Linear Regression for All Batters (2010 - 2019).ipynb",
      "provenance": [],
      "collapsed_sections": [],
      "mount_file_id": "1Xs5XpthaYb-DMLeZ3B0A3qTj0eKoLwb_",
      "authorship_tag": "ABX9TyMsIWkOJxACDs+U7Tfh5tZq",
      "include_colab_link": true
    },
    "kernelspec": {
      "name": "python3",
      "display_name": "Python 3"
    }
  },
  "cells": [
    {
      "cell_type": "markdown",
      "metadata": {
        "id": "view-in-github",
        "colab_type": "text"
      },
      "source": [
        "<a href=\"https://colab.research.google.com/github/MBoerenko/Final-Project/blob/main/Simple_Linear_Regression_for_All_Batters_(2010_2019).ipynb\" target=\"_parent\"><img src=\"https://colab.research.google.com/assets/colab-badge.svg\" alt=\"Open In Colab\"/></a>"
      ]
    },
    {
      "cell_type": "code",
      "metadata": {
        "id": "AboUh2AXR8UA"
      },
      "source": [
        "#Runs Scored = index 7\n",
        "\n",
        "import numpy as np\n",
        "import matplotlib.pyplot as plt  # To visualize\n",
        "import pandas as pd  # To read data\n",
        "from sklearn.linear_model import LinearRegression"
      ],
      "execution_count": null,
      "outputs": []
    },
    {
      "cell_type": "code",
      "metadata": {
        "id": "MFGhVKlWSBuB"
      },
      "source": [
        "#Age vs. Runs Scored\n",
        "\n",
        "data = pd.read_csv('/content/drive/My Drive/Batters_Data_Sets/Simple_Linear_Regression_for_Batters/all_batters.csv')  # load data set\n",
        "age_X = data.iloc[:, 4].values.reshape(-1, 1)  # values converts it into a numpy array\n",
        "runs_Y = data.iloc[:, 7].values.reshape(-1, 1)  # -1 means that calculate the dimension of rows, but have 1 column\n",
        "simple_age_vs_runs = LinearRegression()  # create object for the class\n",
        "simple_age_vs_runs.fit(age_X, runs_Y)  # perform linear regression\n",
        "runs_Y_pred = simple_age_vs_runs.predict(age_X)  # make predictions\n"
      ],
      "execution_count": null,
      "outputs": []
    },
    {
      "cell_type": "code",
      "metadata": {
        "id": "k_tSWZ90SEfk",
        "outputId": "eb058530-e428-4498-d062-eee38f38ac49",
        "colab": {
          "base_uri": "https://localhost:8080/",
          "height": 265
        }
      },
      "source": [
        "plt.scatter(age_X, runs_Y)\n",
        "plt.plot(age_X, runs_Y_pred, color='red')\n",
        "plt.show()"
      ],
      "execution_count": null,
      "outputs": [
        {
          "output_type": "display_data",
          "data": {
            "image/png": "[encoded data removed]",
            "text/plain": [
              "<Figure size 432x288 with 1 Axes>"
            ]
          },
          "metadata": {
            "tags": [],
            "needs_background": "light"
          }
        }
      ]
    },
    {
      "cell_type": "code",
      "metadata": {
        "id": "C74U3JdcS7tO",
        "outputId": "c2c52e0a-36d1-476d-cd60-ef9214f2c2e4",
        "colab": {
          "base_uri": "https://localhost:8080/"
        }
      },
      "source": [
        "print('Weight coefficients: ', simple_age_vs_runs.coef_)\n",
        "print('y-axis intercept: ', simple_age_vs_runs.intercept_) \n",
        "age_predictions = simple_age_vs_runs.predict(age_X)\n",
        "print(f\"True output: {runs_Y_pred[4]}\")\n",
        "print(f\"Predicted output: {age_predictions[4]}\")\n",
        "print(f\"Prediction Error: {age_predictions[4]-runs_Y_pred[4]}\")\n",
        "\n",
        "from sklearn.metrics import mean_squared_error, r2_score\n",
        "\n",
        "# Use our model to predict a value\n",
        "age_predicted = simple_age_vs_runs.predict(age_X)\n",
        "\n",
        "# Score the prediction with mse and r2\n",
        "age_mse = mean_squared_error(runs_Y, age_predicted)\n",
        "age_r2 = r2_score(runs_Y, age_predicted)\n",
        "\n",
        "print(f\"Mean Squared Error (MSE): {age_mse}\")\n",
        "print(f\"R-squared (R2 ): {age_r2}\")\n",
        "\n",
        "linear_regressor_age = simple_age_vs_runs.score(age_X, runs_Y)\n",
        "print(f\"Linear Regressor Score (X, Y): {linear_regressor_age}\")"
      ],
      "execution_count": null,
      "outputs": [
        {
          "output_type": "stream",
          "text": [
            "Weight coefficients:  [[0.08102424]]\n",
            "y-axis intercept:  [27.90449587]\n",
            "True output: [29.76805347]\n",
            "Predicted output: [29.76805347]\n",
            "Prediction Error: [0.]\n",
            "Mean Squared Error (MSE): 846.0979571474179\n",
            "R-squared (R2 ): 0.0001964879353808513\n",
            "Linear Regressor Score (X, Y): 0.0001964879353808513\n"
          ],
          "name": "stdout"
        }
      ]
    },
    {
      "cell_type": "code",
      "metadata": {
        "id": "kmEzNNEGTUwn"
      },
      "source": [
        ""
      ],
      "execution_count": null,
      "outputs": []
    },
    {
      "cell_type": "code",
      "metadata": {
        "id": "hxZlybAUUqA0"
      },
      "source": [
        "#Games Played vs. Runs Scored\n",
        "\n",
        "games_X = data.iloc[:, 5].values.reshape(-1, 1)  # values converts it into a numpy array\n",
        "runs_Y = data.iloc[:, 7].values.reshape(-1, 1)  # -1 means that calculate the dimension of rows, but have 1 column\n",
        "simple_games_vs_runs = LinearRegression()  # create object for the class\n",
        "simple_games_vs_runs.fit(games_X, runs_Y)  # perform linear regression\n",
        "games_Y_pred = simple_games_vs_runs.predict(games_X)  # make predictions\n"
      ],
      "execution_count": null,
      "outputs": []
    },
    {
      "cell_type": "code",
      "metadata": {
        "id": "alj-BN51UzOc",
        "outputId": "776f4edb-302c-4578-81cd-a27605c6ce8b",
        "colab": {
          "base_uri": "https://localhost:8080/",
          "height": 265
        }
      },
      "source": [
        "plt.scatter(games_X, runs_Y)\n",
        "plt.plot(games_X, games_Y_pred, color='red')\n",
        "plt.show()"
      ],
      "execution_count": null,
      "outputs": [
        {
          "output_type": "display_data",
          "data": {
            "image/png": "[encoded data removed]",
            "text/plain": [
              "<Figure size 432x288 with 1 Axes>"
            ]
          },
          "metadata": {
            "tags": [],
            "needs_background": "light"
          }
        }
      ]
    },
    {
      "cell_type": "code",
      "metadata": {
        "id": "V9YvSX5nU2IM",
        "outputId": "1abadfb0-20ca-4a51-c1ed-1f67ec1cb03e",
        "colab": {
          "base_uri": "https://localhost:8080/"
        }
      },
      "source": [
        "print('Weight coefficients: ', simple_games_vs_runs.coef_)\n",
        "print('y-axis intercept: ', simple_games_vs_runs.intercept_) \n",
        "games_predictions = simple_games_vs_runs.predict(age_X)\n",
        "print(f\"True output: {runs_Y_pred[5]}\")\n",
        "print(f\"Predicted output: {games_predictions[5]}\")\n",
        "print(f\"Prediction Error: {games_predictions[5]-runs_Y_pred[5]}\")\n",
        "\n",
        "from sklearn.metrics import mean_squared_error, r2_score\n",
        "\n",
        "# Use our model to predict a value\n",
        "games_predicted = simple_games_vs_runs.predict(age_X)\n",
        "\n",
        "# Score the prediction with mse and r2\n",
        "games_mse = mean_squared_error(runs_Y, games_predicted)\n",
        "games_r2 = r2_score(runs_Y, games_predicted)\n",
        "\n",
        "print(f\"Mean Squared Error (MSE): {games_mse}\")\n",
        "print(f\"R-squared (R2 ): {games_r2}\")\n",
        "\n",
        "linear_regressor_games = simple_games_vs_runs.score(games_X, runs_Y)\n",
        "print(f\"Linear Regressor Score (X, Y): {linear_regressor_games}\")"
      ],
      "execution_count": null,
      "outputs": [
        {
          "output_type": "stream",
          "text": [
            "Weight coefficients:  [[0.52034458]]\n",
            "y-axis intercept:  [-7.28396109]\n",
            "True output: [30.41624742]\n",
            "Predicted output: [8.8467208]\n",
            "Prediction Error: [-21.56952662]\n",
            "Mean Squared Error (MSE): 1260.2581757569542\n",
            "R-squared (R2 ): -0.48920174027842234\n",
            "Linear Regressor Score (X, Y): 0.8360802926259737\n"
          ],
          "name": "stdout"
        }
      ]
    },
    {
      "cell_type": "code",
      "metadata": {
        "id": "pAFLHXZAVPQM"
      },
      "source": [
        ""
      ],
      "execution_count": null,
      "outputs": []
    },
    {
      "cell_type": "code",
      "metadata": {
        "id": "2y8wmaDgWihv"
      },
      "source": [
        "#At Bats vs Runs Scored\n",
        "\n",
        "bats_X = data.iloc[:, 6].values.reshape(-1, 1)  # values converts it into a numpy array\n",
        "runs_Y = data.iloc[:, 7].values.reshape(-1, 1)  # -1 means that calculate the dimension of rows, but have 1 column\n",
        "simple_bats_vs_runs = LinearRegression()  # create object for the class\n",
        "simple_bats_vs_runs.fit(bats_X, runs_Y)  # perform linear regression\n",
        "runs_Y_pred = simple_bats_vs_runs.predict(bats_X)  # make predictions\n"
      ],
      "execution_count": null,
      "outputs": []
    },
    {
      "cell_type": "code",
      "metadata": {
        "id": "LJFoMhiUW2pZ",
        "outputId": "63fb7e68-2c41-4411-c26f-c46fafd81504",
        "colab": {
          "base_uri": "https://localhost:8080/",
          "height": 265
        }
      },
      "source": [
        "plt.scatter(bats_X, runs_Y)\n",
        "plt.plot(bats_X, runs_Y_pred, color='red')\n",
        "plt.show()"
      ],
      "execution_count": null,
      "outputs": [
        {
          "output_type": "display_data",
          "data": {
            "image/png": "[encoded data removed]",
            "text/plain": [
              "<Figure size 432x288 with 1 Axes>"
            ]
          },
          "metadata": {
            "tags": [],
            "needs_background": "light"
          }
        }
      ]
    },
    {
      "cell_type": "code",
      "metadata": {
        "id": "XA4PhbrlW8EA",
        "outputId": "9e7f1e48-390d-450c-9f6f-502f790bac64",
        "colab": {
          "base_uri": "https://localhost:8080/"
        }
      },
      "source": [
        "print('Weight coefficients: ', simple_bats_vs_runs.coef_)\n",
        "print('y-axis intercept: ', simple_bats_vs_runs.intercept_) \n",
        "bats_predictions = simple_bats_vs_runs.predict(age_X)\n",
        "print(f\"True output: {runs_Y_pred[6]}\")\n",
        "print(f\"Predicted output: {bats_predictions[6]}\")\n",
        "print(f\"Prediction Error: {bats_predictions[6]-runs_Y_pred[6]}\")\n",
        "\n",
        "from sklearn.metrics import mean_squared_error, r2_score\n",
        "\n",
        "# Use our model to predict a value\n",
        "bats_predicted = simple_bats_vs_runs.predict(bats_X)\n",
        "\n",
        "# Score the prediction with mse and r2\n",
        "bats_mse = mean_squared_error(runs_Y, bats_predicted)\n",
        "bats_r2 = r2_score(runs_Y, bats_predicted)\n",
        "\n",
        "print(f\"Mean Squared Error (MSE): {bats_mse}\")\n",
        "print(f\"R-squared (R2 ): {bats_r2}\")\n",
        "\n",
        "linear_regressor_bats = simple_bats_vs_runs.score(games_X, runs_Y)\n",
        "print(f\"Linear Regressor Score (X, Y): {linear_regressor_bats}\")"
      ],
      "execution_count": null,
      "outputs": [
        {
          "output_type": "stream",
          "text": [
            "Weight coefficients:  [[0.14286386]]\n",
            "y-axis intercept:  [-2.77815245]\n",
            "True output: [88.08326343]\n",
            "Predicted output: [1.5077634]\n",
            "Prediction Error: [-86.57550003]\n",
            "Mean Squared Error (MSE): 72.4761445528674\n",
            "R-squared (R2 ): 0.9143575477842283\n",
            "Linear Regressor Score (X, Y): -0.23025894273993308\n"
          ],
          "name": "stdout"
        }
      ]
    },
    {
      "cell_type": "code",
      "metadata": {
        "id": "nh2n2EEdXSnz"
      },
      "source": [
        ""
      ],
      "execution_count": null,
      "outputs": []
    },
    {
      "cell_type": "code",
      "metadata": {
        "id": "CW9qQ3EBYDTx"
      },
      "source": [
        "#Hitters vs Runs Scored\n",
        "\n",
        "hit_X = data.iloc[:, 8].values.reshape(-1, 1)  # values converts it into a numpy array\n",
        "runs_Y = data.iloc[:, 7].values.reshape(-1, 1)  # -1 means that calculate the dimension of rows, but have 1 column\n",
        "simple_hit_vs_runs = LinearRegression()  # create object for the class\n",
        "simple_hit_vs_runs.fit(hit_X, runs_Y)  # perform linear regression\n",
        "runs_Y_pred = simple_hit_vs_runs.predict(hit_X)  # make predictions"
      ],
      "execution_count": null,
      "outputs": []
    },
    {
      "cell_type": "code",
      "metadata": {
        "id": "XvEN0M1JYagk",
        "outputId": "db10cb41-6a5f-4f11-e008-f6963b01cd5b",
        "colab": {
          "base_uri": "https://localhost:8080/",
          "height": 265
        }
      },
      "source": [
        "plt.scatter(hit_X, runs_Y)\n",
        "plt.plot(hit_X, runs_Y_pred, color='red')\n",
        "plt.show()"
      ],
      "execution_count": null,
      "outputs": [
        {
          "output_type": "display_data",
          "data": {
            "image/png": "[encoded data removed]",
            "text/plain": [
              "<Figure size 432x288 with 1 Axes>"
            ]
          },
          "metadata": {
            "tags": [],
            "needs_background": "light"
          }
        }
      ]
    },
    {
      "cell_type": "code",
      "metadata": {
        "id": "NoUXg3zIYfu9",
        "outputId": "832abf70-01f7-49d1-c20d-6f2696b71336",
        "colab": {
          "base_uri": "https://localhost:8080/"
        }
      },
      "source": [
        "print('Weight coefficients: ', simple_hit_vs_runs.coef_)\n",
        "print('y-axis intercept: ', simple_hit_vs_runs.intercept_) \n",
        "hit_predictions = simple_hit_vs_runs.predict(hit_X)\n",
        "print(f\"True output: {runs_Y_pred[8]}\")\n",
        "print(f\"Predicted output: {hit_predictions[8]}\")\n",
        "print(f\"Prediction Error: {hit_predictions[8]-runs_Y_pred[8]}\")\n",
        "\n",
        "from sklearn.metrics import mean_squared_error, r2_score\n",
        "\n",
        "# Use our model to predict a value\n",
        "hit_predicted = simple_hit_vs_runs.predict(hit_X)\n",
        "\n",
        "# Score the prediction with mse and r2\n",
        "hit_mse = mean_squared_error(runs_Y, hit_predicted)\n",
        "hit_r2 = r2_score(runs_Y, hit_predicted)\n",
        "\n",
        "print(f\"Mean Squared Error (MSE): {hit_mse}\")\n",
        "print(f\"R-squared (R2 ): {hit_r2}\")\n",
        "\n",
        "linear_regressor_hit = simple_hit_vs_runs.score(games_X, runs_Y)\n",
        "print(f\"Linear Regressor Score (X, Y): {linear_regressor_hit}\")"
      ],
      "execution_count": null,
      "outputs": [
        {
          "output_type": "stream",
          "text": [
            "Weight coefficients:  [[0.5138539]]\n",
            "y-axis intercept:  [-0.30312488]\n",
            "True output: [95.27370127]\n",
            "Predicted output: [95.27370127]\n",
            "Prediction Error: [0.]\n",
            "Mean Squared Error (MSE): 61.66674625357657\n",
            "R-squared (R2 ): 0.9271306248158435\n",
            "Linear Regressor Score (X, Y): 0.7859097594104201\n"
          ],
          "name": "stdout"
        }
      ]
    },
    {
      "cell_type": "code",
      "metadata": {
        "id": "NFrzVmcbY5-A"
      },
      "source": [
        ""
      ],
      "execution_count": null,
      "outputs": []
    },
    {
      "cell_type": "code",
      "metadata": {
        "id": "yrRWsiRJZJrD"
      },
      "source": [
        "#Double vs Runs Scored\n",
        "\n",
        "double_X = data.iloc[:, 9].values.reshape(-1, 1)  # values converts it into a numpy array\n",
        "runs_Y = data.iloc[:, 7].values.reshape(-1, 1)  # -1 means that calculate the dimension of rows, but have 1 column\n",
        "simple_double_vs_runs = LinearRegression()  # create object for the class\n",
        "simple_double_vs_runs.fit(double_X, runs_Y)  # perform linear regression\n",
        "runs_Y_pred = simple_double_vs_runs.predict(double_X)  # make predictions"
      ],
      "execution_count": null,
      "outputs": []
    },
    {
      "cell_type": "code",
      "metadata": {
        "id": "-eyyQZcxZnvV",
        "outputId": "8cfe0529-6b45-4a11-8f27-dbc0227275e6",
        "colab": {
          "base_uri": "https://localhost:8080/",
          "height": 265
        }
      },
      "source": [
        "plt.scatter(double_X, runs_Y)\n",
        "plt.plot(double_X, runs_Y_pred, color='red')\n",
        "plt.show()"
      ],
      "execution_count": null,
      "outputs": [
        {
          "output_type": "display_data",
          "data": {
            "image/png": "[encoded data removed]",
            "text/plain": [
              "<Figure size 432x288 with 1 Axes>"
            ]
          },
          "metadata": {
            "tags": [],
            "needs_background": "light"
          }
        }
      ]
    },
    {
      "cell_type": "code",
      "metadata": {
        "id": "VtVBX4WXZpzs",
        "outputId": "c5d86200-0e6b-4ec4-ed30-4ec5008b455b",
        "colab": {
          "base_uri": "https://localhost:8080/"
        }
      },
      "source": [
        "print('Weight coefficients: ', simple_double_vs_runs.coef_)\n",
        "print('y-axis intercept: ', simple_double_vs_runs.intercept_) \n",
        "double_predictions = simple_double_vs_runs.predict(double_X)\n",
        "print(f\"True output: {runs_Y_pred[9]}\")\n",
        "print(f\"Predicted output: {double_predictions[9]}\")\n",
        "print(f\"Prediction Error: {double_predictions[9]-runs_Y_pred[9]}\")\n",
        "\n",
        "from sklearn.metrics import mean_squared_error, r2_score\n",
        "\n",
        "# Use our model to predict a value\n",
        "double_predicted = simple_double_vs_runs.predict(double_X)\n",
        "\n",
        "# Score the prediction with mse and r2\n",
        "double_mse = mean_squared_error(runs_Y, double_predicted)\n",
        "double_r2 = r2_score(runs_Y, double_predicted)\n",
        "\n",
        "print(f\"Mean Squared Error (MSE): {double_mse}\")\n",
        "print(f\"R-squared (R2 ): {double_r2}\")\n",
        "\n",
        "linear_regressor_double = simple_double_vs_runs.score(double_X, runs_Y)\n",
        "print(f\"Linear Regressor Score (X, Y): {linear_regressor_double}\")"
      ],
      "execution_count": null,
      "outputs": [
        {
          "output_type": "stream",
          "text": [
            "Weight coefficients:  [[2.34568686]]\n",
            "y-axis intercept:  [2.56941667]\n",
            "True output: [54.17452763]\n",
            "Predicted output: [54.17452763]\n",
            "Prediction Error: [0.]\n",
            "Mean Squared Error (MSE): 123.95552970540557\n",
            "R-squared (R2 ): 0.8535262106563604\n",
            "Linear Regressor Score (X, Y): 0.8535262106563604\n"
          ],
          "name": "stdout"
        }
      ]
    },
    {
      "cell_type": "code",
      "metadata": {
        "id": "odnmwaM4aDIk"
      },
      "source": [
        ""
      ],
      "execution_count": null,
      "outputs": []
    },
    {
      "cell_type": "code",
      "metadata": {
        "id": "xw8Oip-3eCGJ"
      },
      "source": [
        "#Triple vs. Runs Scored\n",
        "\n",
        "triple_X = data.iloc[:, 10].values.reshape(-1, 1)  # values converts it into a numpy array\n",
        "runs_Y = data.iloc[:, 7].values.reshape(-1, 1)  # -1 means that calculate the dimension of rows, but have 1 column\n",
        "simple_triple_vs_runs = LinearRegression()  # create object for the class\n",
        "simple_triple_vs_runs.fit(triple_X, runs_Y)  # perform linear regression\n",
        "runs_Y_pred = simple_triple_vs_runs.predict(triple_X)  # make predictions"
      ],
      "execution_count": null,
      "outputs": []
    },
    {
      "cell_type": "code",
      "metadata": {
        "id": "nSAInquveO-L",
        "outputId": "e3b510ff-368f-4858-aa71-0cdac46aadee",
        "colab": {
          "base_uri": "https://localhost:8080/",
          "height": 265
        }
      },
      "source": [
        "plt.scatter(triple_X, runs_Y)\n",
        "plt.plot(triple_X, runs_Y_pred, color='red')\n",
        "plt.show()"
      ],
      "execution_count": null,
      "outputs": [
        {
          "output_type": "display_data",
          "data": {
            "image/png": "[encoded data removed]",
            "text/plain": [
              "<Figure size 432x288 with 1 Axes>"
            ]
          },
          "metadata": {
            "tags": [],
            "needs_background": "light"
          }
        }
      ]
    },
    {
      "cell_type": "code",
      "metadata": {
        "id": "UqzxtqUQeTTO",
        "outputId": "9c066249-16d0-45c0-fabe-1866cd4255ec",
        "colab": {
          "base_uri": "https://localhost:8080/"
        }
      },
      "source": [
        "print('Weight coefficients: ', simple_triple_vs_runs.coef_)\n",
        "print('y-axis intercept: ', simple_triple_vs_runs.intercept_) \n",
        "triple_predictions = simple_triple_vs_runs.predict(double_X)\n",
        "print(f\"True output: {runs_Y_pred[10]}\")\n",
        "print(f\"Predicted output: {triple_predictions[10]}\")\n",
        "print(f\"Prediction Error: {triple_predictions[10]-runs_Y_pred[10]}\")\n",
        "\n",
        "from sklearn.metrics import mean_squared_error, r2_score\n",
        "\n",
        "# Use our model to predict a value\n",
        "triple_predicted = simple_triple_vs_runs.predict(triple_X)\n",
        "\n",
        "# Score the prediction with mse and r2\n",
        "triple_mse = mean_squared_error(runs_Y, triple_predicted)\n",
        "triple_r2 = r2_score(runs_Y, triple_predicted)\n",
        "\n",
        "print(f\"Mean Squared Error (MSE): {triple_mse}\")\n",
        "print(f\"R-squared (R2 ): {triple_r2}\")\n",
        "\n",
        "linear_regressor_triple = simple_triple_vs_runs.score(triple_X, runs_Y)\n",
        "print(f\"Linear Regressor Score (X, Y): {linear_regressor_triple}\")"
      ],
      "execution_count": null,
      "outputs": [
        {
          "output_type": "stream",
          "text": [
            "Weight coefficients:  [[8.88657997]]\n",
            "y-axis intercept:  [19.70223151]\n",
            "True output: [37.47539145]\n",
            "Predicted output: [277.41305054]\n",
            "Prediction Error: [239.93765909]\n",
            "Mean Squared Error (MSE): 556.7595390563569\n",
            "R-squared (R2 ): 0.3420972857554867\n",
            "Linear Regressor Score (X, Y): 0.3420972857554867\n"
          ],
          "name": "stdout"
        }
      ]
    },
    {
      "cell_type": "code",
      "metadata": {
        "id": "CEJpDdn0erlR"
      },
      "source": [
        ""
      ],
      "execution_count": null,
      "outputs": []
    },
    {
      "cell_type": "code",
      "metadata": {
        "id": "zcEl8VHqe3dW"
      },
      "source": [
        "#Home Runs vs. Runs Scored\n",
        "\n",
        "home_X = data.iloc[:, 11].values.reshape(-1, 1)  # values converts it into a numpy array\n",
        "runs_Y = data.iloc[:, 7].values.reshape(-1, 1)  # -1 means that calculate the dimension of rows, but have 1 column\n",
        "simple_home_vs_runs = LinearRegression()  # create object for the class\n",
        "simple_home_vs_runs.fit(home_X, runs_Y)  # perform linear regression\n",
        "runs_Y_pred = simple_home_vs_runs.predict(home_X)  # make predictions"
      ],
      "execution_count": null,
      "outputs": []
    },
    {
      "cell_type": "code",
      "metadata": {
        "id": "9SsPJ2NRfJPK",
        "outputId": "1eb11b46-bf50-418b-d998-69f72b038bc0",
        "colab": {
          "base_uri": "https://localhost:8080/",
          "height": 267
        }
      },
      "source": [
        "plt.scatter(home_X, runs_Y)\n",
        "plt.plot(home_X, runs_Y_pred, color='red')\n",
        "plt.show()"
      ],
      "execution_count": null,
      "outputs": [
        {
          "output_type": "display_data",
          "data": {
            "image/png": "[encoded data removed]",
            "text/plain": [
              "<Figure size 432x288 with 1 Axes>"
            ]
          },
          "metadata": {
            "tags": [],
            "needs_background": "light"
          }
        }
      ]
    },
    {
      "cell_type": "code",
      "metadata": {
        "id": "MPC83_JAfNGT",
        "outputId": "a713cf10-6cae-424e-f866-b95076f34624",
        "colab": {
          "base_uri": "https://localhost:8080/"
        }
      },
      "source": [
        "print('Weight coefficients: ', simple_home_vs_runs.coef_)\n",
        "print('y-axis intercept: ', simple_home_vs_runs.intercept_) \n",
        "home_predictions = simple_home_vs_runs.predict(home_X)\n",
        "print(f\"True output: {runs_Y_pred[11]}\")\n",
        "print(f\"Predicted output: {home_predictions[11]}\")\n",
        "print(f\"Prediction Error: {home_predictions[11]-runs_Y_pred[11]}\")\n",
        "\n",
        "from sklearn.metrics import mean_squared_error, r2_score\n",
        "\n",
        "# Use our model to predict a value\n",
        "home_predicted = simple_home_vs_runs.predict(home_X)\n",
        "\n",
        "# Score the prediction with mse and r2\n",
        "home_mse = mean_squared_error(runs_Y, home_predicted)\n",
        "home_r2 = r2_score(runs_Y, home_predicted)\n",
        "\n",
        "print(f\"Mean Squared Error (MSE): {home_mse}\")\n",
        "print(f\"R-squared (R2 ): {home_r2}\")\n",
        "\n",
        "linear_regressor_home = simple_home_vs_runs.score(home_X, runs_Y)\n",
        "print(f\"Linear Regressor Score (X, Y): {linear_regressor_home}\")"
      ],
      "execution_count": null,
      "outputs": [
        {
          "output_type": "stream",
          "text": [
            "Weight coefficients:  [[2.68368625]]\n",
            "y-axis intercept:  [10.44114605]\n",
            "True output: [50.69643982]\n",
            "Predicted output: [50.69643982]\n",
            "Prediction Error: [0.]\n",
            "Mean Squared Error (MSE): 238.77731332675276\n",
            "R-squared (R2 ): 0.7178454404141212\n",
            "Linear Regressor Score (X, Y): 0.7178454404141212\n"
          ],
          "name": "stdout"
        }
      ]
    },
    {
      "cell_type": "code",
      "metadata": {
        "id": "Tv-TQ77Kf_A3"
      },
      "source": [
        ""
      ],
      "execution_count": null,
      "outputs": []
    },
    {
      "cell_type": "code",
      "metadata": {
        "id": "-YXaBQrFgDey"
      },
      "source": [
        "#Runs Batted In vs. Runs Scored\n",
        "\n",
        "rbi_X = data.iloc[:, 12].values.reshape(-1, 1)  # values converts it into a numpy array\n",
        "runs_Y = data.iloc[:, 7].values.reshape(-1, 1)  # -1 means that calculate the dimension of rows, but have 1 column\n",
        "simple_rbi_vs_runs = LinearRegression()  # create object for the class\n",
        "simple_rbi_vs_runs.fit(rbi_X, runs_Y)  # perform linear regression\n",
        "runs_Y_pred = simple_rbi_vs_runs.predict(rbi_X)  # make predictions"
      ],
      "execution_count": null,
      "outputs": []
    },
    {
      "cell_type": "code",
      "metadata": {
        "id": "X0oXfAVvg4fL",
        "outputId": "e94fa7a6-a011-48b0-b892-62cde5b58cd4",
        "colab": {
          "base_uri": "https://localhost:8080/",
          "height": 265
        }
      },
      "source": [
        "plt.scatter(rbi_X, runs_Y)\n",
        "plt.plot(rbi_X, runs_Y_pred, color='red')\n",
        "plt.show()"
      ],
      "execution_count": null,
      "outputs": [
        {
          "output_type": "display_data",
          "data": {
            "image/png": "[encoded data removed]",
            "text/plain": [
              "<Figure size 432x288 with 1 Axes>"
            ]
          },
          "metadata": {
            "tags": [],
            "needs_background": "light"
          }
        }
      ]
    },
    {
      "cell_type": "code",
      "metadata": {
        "id": "HUjVjv0vhTlU",
        "outputId": "db9d2935-85c3-4384-abba-4ef5a8c73772",
        "colab": {
          "base_uri": "https://localhost:8080/"
        }
      },
      "source": [
        "print('Weight coefficients: ', simple_rbi_vs_runs.coef_)\n",
        "print('y-axis intercept: ', simple_rbi_vs_runs.intercept_) \n",
        "rbi_predictions = simple_rbi_vs_runs.predict(rbi_X)\n",
        "print(f\"True output: {runs_Y_pred[12]}\")\n",
        "print(f\"Predicted output: {rbi_predictions[12]}\")\n",
        "print(f\"Prediction Error: {rbi_predictions[12]-runs_Y_pred[12]}\")\n",
        "\n",
        "from sklearn.metrics import mean_squared_error, r2_score\n",
        "\n",
        "# Use our model to predict a value\n",
        "rbi_predicted = simple_rbi_vs_runs.predict(rbi_X)\n",
        "\n",
        "# Score the prediction with mse and r2\n",
        "rbi_mse = mean_squared_error(runs_Y, rbi_predicted)\n",
        "rbi_r2 = r2_score(runs_Y, rbi_predicted)\n",
        "\n",
        "print(f\"Mean Squared Error (MSE): {rbi_mse}\")\n",
        "print(f\"R-squared (R2 ): {rbi_r2}\")\n",
        "\n",
        "linear_regressor_rbi = simple_rbi_vs_runs.score(rbi_X, runs_Y)\n",
        "print(f\"Linear Regressor Score (X, Y): {linear_regressor_rbi}\")"
      ],
      "execution_count": null,
      "outputs": [
        {
          "output_type": "stream",
          "text": [
            "Weight coefficients:  [[0.9303896]]\n",
            "y-axis intercept:  [3.46201531]\n",
            "True output: [112.3175987]\n",
            "Predicted output: [112.3175987]\n",
            "Prediction Error: [0.]\n",
            "Mean Squared Error (MSE): 118.61138467313017\n",
            "R-squared (R2 ): 0.8598411945505015\n",
            "Linear Regressor Score (X, Y): 0.8598411945505015\n"
          ],
          "name": "stdout"
        }
      ]
    },
    {
      "cell_type": "code",
      "metadata": {
        "id": "nQ1xP2v1hokY"
      },
      "source": [
        ""
      ],
      "execution_count": null,
      "outputs": []
    },
    {
      "cell_type": "code",
      "metadata": {
        "id": "cvQRp7hHhpad"
      },
      "source": [
        "#Stolen Base In vs. Runs Scored\n",
        "\n",
        "stolen_X = data.iloc[:, 12].values.reshape(-1, 1)  # values converts it into a numpy array\n",
        "runs_Y = data.iloc[:, 7].values.reshape(-1, 1)  # -1 means that calculate the dimension of rows, but have 1 column\n",
        "simple_stolen_vs_runs = LinearRegression()  # create object for the class\n",
        "simple_stolen_vs_runs.fit(stolen_X, runs_Y)  # perform linear regression\n",
        "runs_Y_pred = simple_stolen_vs_runs.predict(stolen_X)  # make predictions"
      ],
      "execution_count": null,
      "outputs": []
    },
    {
      "cell_type": "code",
      "metadata": {
        "id": "-hUOLybLiYUz",
        "outputId": "8e300f4d-2859-4925-d8a9-666898d44599",
        "colab": {
          "base_uri": "https://localhost:8080/",
          "height": 265
        }
      },
      "source": [
        "plt.scatter(stolen_X, runs_Y)\n",
        "plt.plot(stolen_X, runs_Y_pred, color='red')\n",
        "plt.show()"
      ],
      "execution_count": null,
      "outputs": [
        {
          "output_type": "display_data",
          "data": {
            "image/png": "[encoded data removed]",
            "text/plain": [
              "<Figure size 432x288 with 1 Axes>"
            ]
          },
          "metadata": {
            "tags": [],
            "needs_background": "light"
          }
        }
      ]
    },
    {
      "cell_type": "code",
      "metadata": {
        "id": "vBS0gCPXiey7",
        "outputId": "a050d2e0-6203-46b0-ba0d-288f71e276f6",
        "colab": {
          "base_uri": "https://localhost:8080/"
        }
      },
      "source": [
        "print('Weight coefficients: ', simple_stolen_vs_runs.coef_)\n",
        "print('y-axis intercept: ', simple_stolen_vs_runs.intercept_) \n",
        "stolen_predictions = simple_stolen_vs_runs.predict(stolen_X)\n",
        "print(f\"True output: {runs_Y_pred[13]}\")\n",
        "print(f\"Predicted output: {stolen_predictions[13]}\")\n",
        "print(f\"Prediction Error: {stolen_predictions[13]-runs_Y_pred[13]}\")\n",
        "\n",
        "from sklearn.metrics import mean_squared_error, r2_score\n",
        "\n",
        "# Use our model to predict a value\n",
        "stolen_predicted = simple_stolen_vs_runs.predict(stolen_X)\n",
        "\n",
        "# Score the prediction with mse and r2\n",
        "stolen_mse = mean_squared_error(runs_Y, stolen_predicted)\n",
        "stolen_r2 = r2_score(runs_Y, stolen_predicted)\n",
        "\n",
        "print(f\"Mean Squared Error (MSE): {stolen_mse}\")\n",
        "print(f\"R-squared (R2 ): {stolen_r2}\")\n",
        "\n",
        "linear_regressor_stolen = simple_stolen_vs_runs.score(stolen_X, runs_Y)\n",
        "print(f\"Linear Regressor Score (X, Y): {linear_regressor_stolen}\")"
      ],
      "execution_count": null,
      "outputs": [
        {
          "output_type": "stream",
          "text": [
            "Weight coefficients:  [[0.9303896]]\n",
            "y-axis intercept:  [3.46201531]\n",
            "True output: [69.51967703]\n",
            "Predicted output: [69.51967703]\n",
            "Prediction Error: [0.]\n",
            "Mean Squared Error (MSE): 118.61138467313017\n",
            "R-squared (R2 ): 0.8598411945505015\n",
            "Linear Regressor Score (X, Y): 0.8598411945505015\n"
          ],
          "name": "stdout"
        }
      ]
    },
    {
      "cell_type": "code",
      "metadata": {
        "id": "r-fAo3Zui1tD"
      },
      "source": [
        ""
      ],
      "execution_count": null,
      "outputs": []
    },
    {
      "cell_type": "code",
      "metadata": {
        "id": "t1qio4cbjEYl"
      },
      "source": [
        "#Caught Stealing In vs. Runs Scored\n",
        "\n",
        "caught_X = data.iloc[:, 14].values.reshape(-1, 1)  # values converts it into a numpy array\n",
        "runs_Y = data.iloc[:, 7].values.reshape(-1, 1)  # -1 means that calculate the dimension of rows, but have 1 column\n",
        "simple_caught_vs_runs = LinearRegression()  # create object for the class\n",
        "simple_caught_vs_runs.fit(caught_X, runs_Y)  # perform linear regression\n",
        "runs_Y_pred = simple_caught_vs_runs.predict(caught_X)  # make predictions"
      ],
      "execution_count": null,
      "outputs": []
    },
    {
      "cell_type": "code",
      "metadata": {
        "id": "QxPKk9_gjbG2",
        "outputId": "80b3b26c-5a44-44d1-fe42-68f50c98a23a",
        "colab": {
          "base_uri": "https://localhost:8080/",
          "height": 265
        }
      },
      "source": [
        "plt.scatter(caught_X, runs_Y)\n",
        "plt.plot(caught_X, runs_Y_pred, color='red')\n",
        "plt.show()"
      ],
      "execution_count": null,
      "outputs": [
        {
          "output_type": "display_data",
          "data": {
            "image/png": "[encoded data removed]",
            "text/plain": [
              "<Figure size 432x288 with 1 Axes>"
            ]
          },
          "metadata": {
            "tags": [],
            "needs_background": "light"
          }
        }
      ]
    },
    {
      "cell_type": "code",
      "metadata": {
        "id": "7AAvrI6qjjUO",
        "outputId": "98e7faad-3d1c-461b-ae9c-45f742601a10",
        "colab": {
          "base_uri": "https://localhost:8080/"
        }
      },
      "source": [
        "print('Weight coefficients: ', simple_caught_vs_runs.coef_)\n",
        "print('y-axis intercept: ', simple_caught_vs_runs.intercept_) \n",
        "caught_predictions = simple_caught_vs_runs.predict(caught_X)\n",
        "print(f\"True output: {runs_Y_pred[14]}\")\n",
        "print(f\"Predicted output: {caught_predictions[14]}\")\n",
        "print(f\"Prediction Error: {caught_predictions[14]-runs_Y_pred[14]}\")\n",
        "\n",
        "from sklearn.metrics import mean_squared_error, r2_score\n",
        "\n",
        "# Use our model to predict a value\n",
        "caught_predicted = simple_caught_vs_runs.predict(caught_X)\n",
        "\n",
        "# Score the prediction with mse and r2\n",
        "caught_mse = mean_squared_error(runs_Y, caught_predicted)\n",
        "caught_r2 = r2_score(runs_Y, caught_predicted)\n",
        "\n",
        "print(f\"Mean Squared Error (MSE): {caught_mse}\")\n",
        "print(f\"R-squared (R2 ): {caught_r2}\")\n",
        "\n",
        "linear_regressor_caught = simple_caught_vs_runs.score(caught_X, runs_Y)\n",
        "print(f\"Linear Regressor Score (X, Y): {linear_regressor_caught}\")"
      ],
      "execution_count": null,
      "outputs": [
        {
          "output_type": "stream",
          "text": [
            "Weight coefficients:  [[7.33161137]]\n",
            "y-axis intercept:  [19.68398987]\n",
            "True output: [34.3472126]\n",
            "Predicted output: [34.3472126]\n",
            "Prediction Error: [0.]\n",
            "Mean Squared Error (MSE): 556.5149166559802\n",
            "R-squared (R2 ): 0.3423863472441244\n",
            "Linear Regressor Score (X, Y): 0.3423863472441244\n"
          ],
          "name": "stdout"
        }
      ]
    },
    {
      "cell_type": "code",
      "metadata": {
        "id": "8IoJKCc7j4pV"
      },
      "source": [
        ""
      ],
      "execution_count": null,
      "outputs": []
    },
    {
      "cell_type": "code",
      "metadata": {
        "id": "2-022ji6j_vi"
      },
      "source": [
        "#Walks In vs. Runs Scored\n",
        "\n",
        "walk_X = data.iloc[:, 15].values.reshape(-1, 1)  # values converts it into a numpy array\n",
        "runs_Y = data.iloc[:, 7].values.reshape(-1, 1)  # -1 means that calculate the dimension of rows, but have 1 column\n",
        "simple_walk_vs_runs = LinearRegression()  # create object for the class\n",
        "simple_walk_vs_runs.fit(walk_X, runs_Y)  # perform linear regression\n",
        "runs_Y_pred = simple_walk_vs_runs.predict(walk_X)  # make predictions"
      ],
      "execution_count": null,
      "outputs": []
    },
    {
      "cell_type": "code",
      "metadata": {
        "id": "OLdsblU6kMAA",
        "outputId": "d637a1cd-0f6e-444a-ffdd-c7e8e25cce3a",
        "colab": {
          "base_uri": "https://localhost:8080/",
          "height": 265
        }
      },
      "source": [
        "plt.scatter(walk_X, runs_Y)\n",
        "plt.plot(walk_X, runs_Y_pred, color='red')\n",
        "plt.show()"
      ],
      "execution_count": null,
      "outputs": [
        {
          "output_type": "display_data",
          "data": {
            "image/png": "[encoded data removed]",
            "text/plain": [
              "<Figure size 432x288 with 1 Axes>"
            ]
          },
          "metadata": {
            "tags": [],
            "needs_background": "light"
          }
        }
      ]
    },
    {
      "cell_type": "code",
      "metadata": {
        "id": "7I4GBezUkQau",
        "outputId": "eccac5ac-2d00-4579-e291-1ed703e41cab",
        "colab": {
          "base_uri": "https://localhost:8080/"
        }
      },
      "source": [
        "print('Weight coefficients: ', simple_walk_vs_runs.coef_)\n",
        "print('y-axis intercept: ', simple_walk_vs_runs.intercept_) \n",
        "walk_predictions = simple_walk_vs_runs.predict(walk_X)\n",
        "print(f\"True output: {runs_Y_pred[15]}\")\n",
        "print(f\"Predicted output: {walk_predictions[15]}\")\n",
        "print(f\"Prediction Error: {walk_predictions[15]-runs_Y_pred[15]}\")\n",
        "\n",
        "from sklearn.metrics import mean_squared_error, r2_score\n",
        "\n",
        "# Use our model to predict a value\n",
        "walk_predicted = simple_walk_vs_runs.predict(walk_X)\n",
        "\n",
        "# Score the prediction with mse and r2\n",
        "walk_mse = mean_squared_error(runs_Y, walk_predicted)\n",
        "walk_r2 = r2_score(runs_Y, walk_predicted)\n",
        "\n",
        "print(f\"Mean Squared Error (MSE): {walk_mse}\")\n",
        "print(f\"R-squared (R2 ): {walk_r2}\")\n",
        "\n",
        "linear_regressor_walk = simple_walk_vs_runs.score(walk_X, runs_Y)\n",
        "print(f\"Linear Regressor Score (X, Y): {linear_regressor_walk}\")"
      ],
      "execution_count": null,
      "outputs": [
        {
          "output_type": "stream",
          "text": [
            "Weight coefficients:  [[1.1658104]]\n",
            "y-axis intercept:  [5.38214521]\n",
            "True output: [78.82820018]\n",
            "Predicted output: [78.82820018]\n",
            "Prediction Error: [0.]\n",
            "Mean Squared Error (MSE): 183.86962418960817\n",
            "R-squared (R2 ): 0.7827278810049861\n",
            "Linear Regressor Score (X, Y): 0.7827278810049861\n"
          ],
          "name": "stdout"
        }
      ]
    },
    {
      "cell_type": "code",
      "metadata": {
        "id": "guWOhIi-kjjp"
      },
      "source": [
        ""
      ],
      "execution_count": null,
      "outputs": []
    },
    {
      "cell_type": "code",
      "metadata": {
        "id": "pFu_Gi3DkkaQ"
      },
      "source": [
        "#Stike Out vs. Runs Scored\n",
        "\n",
        "strike_X = data.iloc[:, 16].values.reshape(-1, 1)  # values converts it into a numpy array\n",
        "runs_Y = data.iloc[:, 7].values.reshape(-1, 1)  # -1 means that calculate the dimension of rows, but have 1 column\n",
        "simple_strike_vs_runs = LinearRegression()  # create object for the class\n",
        "simple_strike_vs_runs.fit(strike_X, runs_Y)  # perform linear regression\n",
        "runs_Y_pred = simple_strike_vs_runs.predict(strike_X)  # make predictions"
      ],
      "execution_count": null,
      "outputs": []
    },
    {
      "cell_type": "code",
      "metadata": {
        "id": "Q1sPaj6Vk0MT",
        "outputId": "5b4985ab-4bf3-414d-8691-90ec54e2c342",
        "colab": {
          "base_uri": "https://localhost:8080/",
          "height": 265
        }
      },
      "source": [
        "plt.scatter(strike_X, runs_Y)\n",
        "plt.plot(strike_X, runs_Y_pred, color='red')\n",
        "plt.show()"
      ],
      "execution_count": null,
      "outputs": [
        {
          "output_type": "display_data",
          "data": {
            "image/png": "[encoded data removed]",
            "text/plain": [
              "<Figure size 432x288 with 1 Axes>"
            ]
          },
          "metadata": {
            "tags": [],
            "needs_background": "light"
          }
        }
      ]
    },
    {
      "cell_type": "code",
      "metadata": {
        "id": "qu5JxoULk-H7",
        "outputId": "2abcd5c3-929a-4f93-d053-3b3e08784473",
        "colab": {
          "base_uri": "https://localhost:8080/"
        }
      },
      "source": [
        "print('Weight coefficients: ', simple_strike_vs_runs.coef_)\n",
        "print('y-axis intercept: ', simple_strike_vs_runs.intercept_) \n",
        "strike_predictions = simple_strike_vs_runs.predict(strike_X)\n",
        "print(f\"True output: {runs_Y_pred[16]}\")\n",
        "print(f\"Predicted output: {strike_predictions[16]}\")\n",
        "print(f\"Prediction Error: {strike_predictions[16]-runs_Y_pred[16]}\")\n",
        "\n",
        "from sklearn.metrics import mean_squared_error, r2_score\n",
        "\n",
        "# Use our model to predict a value\n",
        "strike_predicted = simple_strike_vs_runs.predict(strike_X)\n",
        "\n",
        "# Score the prediction with mse and r2\n",
        "strike_mse = mean_squared_error(runs_Y, strike_predicted)\n",
        "strike_r2 = r2_score(runs_Y, strike_predicted)\n",
        "\n",
        "print(f\"Mean Squared Error (MSE): {strike_mse}\")\n",
        "print(f\"R-squared (R2 ): {strike_r2}\")\n",
        "\n",
        "linear_regressor_strike = simple_strike_vs_runs.score(strike_X, runs_Y)\n",
        "print(f\"Linear Regressor Score (X, Y): {linear_regressor_strike}\")"
      ],
      "execution_count": null,
      "outputs": [
        {
          "output_type": "stream",
          "text": [
            "Weight coefficients:  [[0.57235088]]\n",
            "y-axis intercept:  [0.78073039]\n",
            "True output: [55.72641499]\n",
            "Predicted output: [55.72641499]\n",
            "Prediction Error: [0.]\n",
            "Mean Squared Error (MSE): 212.662233641039\n",
            "R-squared (R2 ): 0.7487046904182846\n",
            "Linear Regressor Score (X, Y): 0.7487046904182846\n"
          ],
          "name": "stdout"
        }
      ]
    },
    {
      "cell_type": "code",
      "metadata": {
        "id": "tTdsPmzslToJ"
      },
      "source": [
        ""
      ],
      "execution_count": null,
      "outputs": []
    },
    {
      "cell_type": "code",
      "metadata": {
        "id": "7Nfbw4rxlUby"
      },
      "source": [
        "#Sacrifice Bunt vs. Runs Scored\n",
        "\n",
        "bunt_X = data.iloc[:, 17].values.reshape(-1, 1)  # values converts it into a numpy array\n",
        "runs_Y = data.iloc[:, 7].values.reshape(-1, 1)  # -1 means that calculate the dimension of rows, but have 1 column\n",
        "simple_bunt_vs_runs = LinearRegression()  # create object for the class\n",
        "simple_bunt_vs_runs.fit(bunt_X, runs_Y)  # perform linear regression\n",
        "runs_Y_pred = simple_bunt_vs_runs.predict(bunt_X)  # make predictions"
      ],
      "execution_count": null,
      "outputs": []
    },
    {
      "cell_type": "code",
      "metadata": {
        "id": "ZCKmlkagljmW",
        "outputId": "3670859c-a48d-4f87-e36c-576150cd37d2",
        "colab": {
          "base_uri": "https://localhost:8080/",
          "height": 265
        }
      },
      "source": [
        "plt.scatter(bunt_X, runs_Y)\n",
        "plt.plot(bunt_X, runs_Y_pred, color='red')\n",
        "plt.show()"
      ],
      "execution_count": null,
      "outputs": [
        {
          "output_type": "display_data",
          "data": {
            "image/png": "[encoded data removed]",
            "text/plain": [
              "<Figure size 432x288 with 1 Axes>"
            ]
          },
          "metadata": {
            "tags": [],
            "needs_background": "light"
          }
        }
      ]
    },
    {
      "cell_type": "code",
      "metadata": {
        "id": "H6ujdiRalm67",
        "outputId": "f652dd76-0ed4-421e-f10e-e971be197b73",
        "colab": {
          "base_uri": "https://localhost:8080/"
        }
      },
      "source": [
        "print('Weight coefficients: ', simple_bunt_vs_runs.coef_)\n",
        "print('y-axis intercept: ', simple_bunt_vs_runs.intercept_) \n",
        "bunt_predictions = simple_bunt_vs_runs.predict(bunt_X)\n",
        "print(f\"True output: {runs_Y_pred[17]}\")\n",
        "print(f\"Predicted output: {bunt_predictions[17]}\")\n",
        "print(f\"Prediction Error: {bunt_predictions[17]-runs_Y_pred[17]}\")\n",
        "\n",
        "from sklearn.metrics import mean_squared_error, r2_score\n",
        "\n",
        "# Use our model to predict a value\n",
        "bunt_predicted = simple_bunt_vs_runs.predict(bunt_X)\n",
        "\n",
        "# Score the prediction with mse and r2\n",
        "bunt_mse = mean_squared_error(runs_Y, bunt_predicted)\n",
        "bunt_r2 = r2_score(runs_Y, bunt_predicted)\n",
        "\n",
        "print(f\"Mean Squared Error (MSE): {bunt_mse}\")\n",
        "print(f\"R-squared (R2 ): {bunt_r2}\")\n",
        "\n",
        "linear_regressor_bunt = simple_bunt_vs_runs.score(bunt_X, runs_Y)\n",
        "print(f\"Linear Regressor Score (X, Y): {linear_regressor_bunt}\")"
      ],
      "execution_count": null,
      "outputs": [
        {
          "output_type": "stream",
          "text": [
            "Weight coefficients:  [[3.09227755]]\n",
            "y-axis intercept:  [27.58041411]\n",
            "True output: [30.67269165]\n",
            "Predicted output: [30.67269165]\n",
            "Prediction Error: [0.]\n",
            "Mean Squared Error (MSE): 810.8032957019377\n",
            "R-squared (R2 ): 0.041902919409691264\n",
            "Linear Regressor Score (X, Y): 0.041902919409691264\n"
          ],
          "name": "stdout"
        }
      ]
    },
    {
      "cell_type": "code",
      "metadata": {
        "id": "WR0Oc78KmClS"
      },
      "source": [
        ""
      ],
      "execution_count": null,
      "outputs": []
    },
    {
      "cell_type": "code",
      "metadata": {
        "id": "jLbckwrNmGM8"
      },
      "source": [
        "#Sacrifice Fly vs. Runs Scored\n",
        "\n",
        "fly_X = data.iloc[:, 18].values.reshape(-1, 1)  # values converts it into a numpy array\n",
        "runs_Y = data.iloc[:, 7].values.reshape(-1, 1)  # -1 means that calculate the dimension of rows, but have 1 column\n",
        "simple_fly_vs_runs = LinearRegression()  # create object for the class\n",
        "simple_fly_vs_runs.fit(fly_X, runs_Y)  # perform linear regression\n",
        "runs_Y_pred = simple_fly_vs_runs.predict(fly_X)  # make predictions"
      ],
      "execution_count": null,
      "outputs": []
    },
    {
      "cell_type": "code",
      "metadata": {
        "id": "cbz91GJgmJf_",
        "outputId": "b43c83ae-18a7-4a94-d95d-003dfa1e280a",
        "colab": {
          "base_uri": "https://localhost:8080/",
          "height": 265
        }
      },
      "source": [
        "plt.scatter(fly_X, runs_Y)\n",
        "plt.plot(fly_X, runs_Y_pred, color='red')\n",
        "plt.show()"
      ],
      "execution_count": null,
      "outputs": [
        {
          "output_type": "display_data",
          "data": {
            "image/png": "[encoded data removed]",
            "text/plain": [
              "<Figure size 432x288 with 1 Axes>"
            ]
          },
          "metadata": {
            "tags": [],
            "needs_background": "light"
          }
        }
      ]
    },
    {
      "cell_type": "code",
      "metadata": {
        "id": "162Q7LlXmYK5",
        "outputId": "0ea1caf9-c53e-4a32-a455-3730728d9dc9",
        "colab": {
          "base_uri": "https://localhost:8080/"
        }
      },
      "source": [
        "print('Weight coefficients: ', simple_fly_vs_runs.coef_)\n",
        "print('y-axis intercept: ', simple_fly_vs_runs.intercept_) \n",
        "fly_predictions = simple_fly_vs_runs.predict(fly_X)\n",
        "print(f\"True output: {runs_Y_pred[18]}\")\n",
        "print(f\"Predicted output: {fly_predictions[18]}\")\n",
        "print(f\"Prediction Error: {fly_predictions[18]-runs_Y_pred[18]}\")\n",
        "\n",
        "from sklearn.metrics import mean_squared_error, r2_score\n",
        "\n",
        "# Use our model to predict a value\n",
        "fly_predicted = simple_fly_vs_runs.predict(fly_X)\n",
        "\n",
        "# Score the prediction with mse and r2\n",
        "fly_mse = mean_squared_error(runs_Y, fly_predicted)\n",
        "fly_r2 = r2_score(runs_Y, fly_predicted)\n",
        "\n",
        "print(f\"Mean Squared Error (MSE): {fly_mse}\")\n",
        "print(f\"R-squared (R2 ): {fly_r2}\")\n",
        "\n",
        "linear_regressor_fly = simple_fly_vs_runs.score(fly_X, runs_Y)\n",
        "print(f\"Linear Regressor Score (X, Y): {linear_regressor_fly}\")"
      ],
      "execution_count": null,
      "outputs": [
        {
          "output_type": "stream",
          "text": [
            "Weight coefficients:  [[9.58947533]]\n",
            "y-axis intercept:  [13.6485426]\n",
            "True output: [42.4169686]\n",
            "Predicted output: [42.4169686]\n",
            "Prediction Error: [0.]\n",
            "Mean Squared Error (MSE): 427.3507025309489\n",
            "R-squared (R2 ): 0.4950150515500167\n",
            "Linear Regressor Score (X, Y): 0.4950150515500167\n"
          ],
          "name": "stdout"
        }
      ]
    },
    {
      "cell_type": "code",
      "metadata": {
        "id": "Wm9S5dLBmzGS"
      },
      "source": [
        ""
      ],
      "execution_count": null,
      "outputs": []
    },
    {
      "cell_type": "code",
      "metadata": {
        "id": "EjOIYFXMm6Ta"
      },
      "source": [
        "#Hit by Pitch vs. Runs Scored\n",
        "\n",
        "pitch_X = data.iloc[:, 19].values.reshape(-1, 1)  # values converts it into a numpy array\n",
        "runs_Y = data.iloc[:, 7].values.reshape(-1, 1)  # -1 means that calculate the dimension of rows, but have 1 column\n",
        "simple_pitch_vs_runs = LinearRegression()  # create object for the class\n",
        "simple_pitch_vs_runs.fit(pitch_X, runs_Y)  # perform linear regression\n",
        "runs_Y_pred = simple_pitch_vs_runs.predict(pitch_X)  # make predictions"
      ],
      "execution_count": null,
      "outputs": []
    },
    {
      "cell_type": "code",
      "metadata": {
        "id": "LNIB2eEPnIHJ",
        "outputId": "1dcf7b49-e1a2-46a1-949c-04af104737a0",
        "colab": {
          "base_uri": "https://localhost:8080/",
          "height": 265
        }
      },
      "source": [
        "plt.scatter(pitch_X, runs_Y)\n",
        "plt.plot(pitch_X, runs_Y_pred, color='red')\n",
        "plt.show()"
      ],
      "execution_count": null,
      "outputs": [
        {
          "output_type": "display_data",
          "data": {
            "image/png": "[encoded data removed]",
            "text/plain": [
              "<Figure size 432x288 with 1 Axes>"
            ]
          },
          "metadata": {
            "tags": [],
            "needs_background": "light"
          }
        }
      ]
    },
    {
      "cell_type": "code",
      "metadata": {
        "id": "7EfuCLcuob4s",
        "outputId": "4d1a994e-71b5-476c-ead9-c7be4ce28692",
        "colab": {
          "base_uri": "https://localhost:8080/"
        }
      },
      "source": [
        "print('Weight coefficients: ', simple_pitch_vs_runs.coef_)\n",
        "print('y-axis intercept: ', simple_pitch_vs_runs.intercept_) \n",
        "pitch_predictions = simple_pitch_vs_runs.predict(fly_X)\n",
        "print(f\"True output: {runs_Y_pred[19]}\")\n",
        "print(f\"Predicted output: {pitch_predictions[19]}\")\n",
        "print(f\"Prediction Error: {pitch_predictions[19]-runs_Y_pred[19]}\")\n",
        "\n",
        "from sklearn.metrics import mean_squared_error, r2_score\n",
        "\n",
        "# Use our model to predict a value\n",
        "pitch_predicted = simple_pitch_vs_runs.predict(pitch_X)\n",
        "\n",
        "# Score the prediction with mse and r2\n",
        "pitch_mse = mean_squared_error(runs_Y, pitch_predicted)\n",
        "pitch_r2 = r2_score(runs_Y, pitch_predicted)\n",
        "\n",
        "print(f\"Mean Squared Error (MSE): {pitch_mse}\")\n",
        "print(f\"R-squared (R2 ): {pitch_r2}\")\n",
        "\n",
        "linear_regressor_pitch = simple_pitch_vs_runs.score(pitch_X, runs_Y)\n",
        "print(f\"Linear Regressor Score (X, Y): {linear_regressor_pitch}\")"
      ],
      "execution_count": null,
      "outputs": [
        {
          "output_type": "stream",
          "text": [
            "Weight coefficients:  [[5.47638901]]\n",
            "y-axis intercept:  [17.4479255]\n",
            "True output: [50.30625956]\n",
            "Predicted output: [28.40070352]\n",
            "Prediction Error: [-21.90555604]\n",
            "Mean Squared Error (MSE): 526.6940654011793\n",
            "R-squared (R2 ): 0.3776245741721582\n",
            "Linear Regressor Score (X, Y): 0.3776245741721582\n"
          ],
          "name": "stdout"
        }
      ]
    },
    {
      "cell_type": "code",
      "metadata": {
        "id": "ZE3nO8cjo2QT"
      },
      "source": [
        ""
      ],
      "execution_count": null,
      "outputs": []
    },
    {
      "cell_type": "code",
      "metadata": {
        "id": "FSvzlr85o3MC"
      },
      "source": [
        "#Batting Average vs. Runs Scored\n",
        "\n",
        "ba_X = data.iloc[:, 20].values.reshape(-1, 1)  # values converts it into a numpy array\n",
        "ba_Y = data.iloc[:, 7].values.reshape(-1, 1)  # -1 means that calculate the dimension of rows, but have 1 column\n",
        "simple_ba_vs_runs = LinearRegression()  # create object for the class\n",
        "simple_ba_vs_runs.fit(ba_X, runs_Y)  # perform linear regression\n",
        "runs_Y_pred = simple_ba_vs_runs.predict(ba_X)  # make predictions"
      ],
      "execution_count": null,
      "outputs": []
    },
    {
      "cell_type": "code",
      "metadata": {
        "id": "yvj9FKJ-pLku",
        "outputId": "b0334698-921f-4f8d-a640-5661e82f7208",
        "colab": {
          "base_uri": "https://localhost:8080/",
          "height": 265
        }
      },
      "source": [
        "plt.scatter(ba_X, runs_Y)\n",
        "plt.plot(ba_X, runs_Y_pred, color='red')\n",
        "plt.show()"
      ],
      "execution_count": null,
      "outputs": [
        {
          "output_type": "display_data",
          "data": {
            "image/png": "[encoded data removed]",
            "text/plain": [
              "<Figure size 432x288 with 1 Axes>"
            ]
          },
          "metadata": {
            "tags": [],
            "needs_background": "light"
          }
        }
      ]
    },
    {
      "cell_type": "code",
      "metadata": {
        "id": "g0hDNT7SpRRS",
        "outputId": "0fc73e9b-c2b1-41ec-d8c0-bfcca50ddf17",
        "colab": {
          "base_uri": "https://localhost:8080/"
        }
      },
      "source": [
        "print('Weight coefficients: ', simple_ba_vs_runs.coef_)\n",
        "print('y-axis intercept: ', simple_ba_vs_runs.intercept_) \n",
        "ba_predictions = simple_ba_vs_runs.predict(ba_X)\n",
        "print(f\"True output: {runs_Y_pred[20]}\")\n",
        "print(f\"Predicted output: {ba_predictions[20]}\")\n",
        "print(f\"Prediction Error: {ba_predictions[20]-runs_Y_pred[20]}\")\n",
        "\n",
        "from sklearn.metrics import mean_squared_error, r2_score\n",
        "\n",
        "# Use our model to predict a value\n",
        "ba_predicted = simple_ba_vs_runs.predict(ba_X)\n",
        "\n",
        "# Score the prediction with mse and r2\n",
        "ba_mse = mean_squared_error(runs_Y, ba_predicted)\n",
        "ba_r2 = r2_score(runs_Y, ba_predicted)\n",
        "\n",
        "print(f\"Mean Squared Error (MSE): {ba_mse}\")\n",
        "print(f\"R-squared (R2 ): {ba_r2}\")\n",
        "\n",
        "linear_regressor_ba = simple_ba_vs_runs.score(ba_X, runs_Y)\n",
        "print(f\"Linear Regressor Score (X, Y): {linear_regressor_ba}\")"
      ],
      "execution_count": null,
      "outputs": [
        {
          "output_type": "stream",
          "text": [
            "Weight coefficients:  [[170.47604025]]\n",
            "y-axis intercept:  [-8.74943027]\n",
            "True output: [41.54100161]\n",
            "Predicted output: [41.54100161]\n",
            "Prediction Error: [0.]\n",
            "Mean Squared Error (MSE): 687.0370229674356\n",
            "R-squared (R2 ): 0.18815307060056896\n",
            "Linear Regressor Score (X, Y): 0.18815307060056896\n"
          ],
          "name": "stdout"
        }
      ]
    },
    {
      "cell_type": "code",
      "metadata": {
        "id": "nn_yd33Hp13Z"
      },
      "source": [
        ""
      ],
      "execution_count": null,
      "outputs": []
    },
    {
      "cell_type": "code",
      "metadata": {
        "id": "7jN70Iukp2pK"
      },
      "source": [
        "#On Base Percentage vs. Runs Scored\n",
        "\n",
        "obp_X = data.iloc[:, 21].values.reshape(-1, 1)  # values converts it into a numpy array\n",
        "obp_Y = data.iloc[:, 7].values.reshape(-1, 1)  # -1 means that calculate the dimension of rows, but have 1 column\n",
        "simple_obp_vs_runs = LinearRegression()  # create object for the class\n",
        "simple_obp_vs_runs.fit(obp_X, runs_Y)  # perform linear regression\n",
        "runs_Y_pred = simple_obp_vs_runs.predict(obp_X)  # make predictions"
      ],
      "execution_count": null,
      "outputs": []
    },
    {
      "cell_type": "code",
      "metadata": {
        "id": "XUIgpPLztFpO",
        "outputId": "66167784-df17-4a81-c4d9-d030cfcc0c92",
        "colab": {
          "base_uri": "https://localhost:8080/",
          "height": 265
        }
      },
      "source": [
        "plt.scatter(obp_X, runs_Y)\n",
        "plt.plot(obp_X, runs_Y_pred, color='red')\n",
        "plt.show()"
      ],
      "execution_count": null,
      "outputs": [
        {
          "output_type": "display_data",
          "data": {
            "image/png": "[encoded data removed]",
            "text/plain": [
              "<Figure size 432x288 with 1 Axes>"
            ]
          },
          "metadata": {
            "tags": [],
            "needs_background": "light"
          }
        }
      ]
    },
    {
      "cell_type": "code",
      "metadata": {
        "id": "Dw8M4ybOtNsd",
        "outputId": "1b7a22d8-d774-4731-ae79-40466c044732",
        "colab": {
          "base_uri": "https://localhost:8080/"
        }
      },
      "source": [
        "print('Weight coefficients: ', simple_obp_vs_runs.coef_)\n",
        "print('y-axis intercept: ', simple_obp_vs_runs.intercept_) \n",
        "obp_predictions = simple_obp_vs_runs.predict(obp_X)\n",
        "print(f\"True output: {runs_Y_pred[21]}\")\n",
        "print(f\"Predicted output: {obp_predictions[21]}\")\n",
        "print(f\"Prediction Error: {obp_predictions[21]-runs_Y_pred[21]}\")\n",
        "\n",
        "from sklearn.metrics import mean_squared_error, r2_score\n",
        "\n",
        "# Use our model to predict a value\n",
        "obp_predicted = simple_obp_vs_runs.predict(obp_X)\n",
        "\n",
        "# Score the prediction with mse and r2\n",
        "obp_mse = mean_squared_error(runs_Y, obp_predicted)\n",
        "obp_r2 = r2_score(runs_Y, obp_predicted)\n",
        "\n",
        "print(f\"Mean Squared Error (MSE): {obp_mse}\")\n",
        "print(f\"R-squared (R2 ): {obp_r2}\")\n",
        "\n",
        "linear_regressor_obp = simple_obp_vs_runs.score(obp_X, runs_Y)\n",
        "print(f\"Linear Regressor Score (X, Y): {linear_regressor_obp}\")"
      ],
      "execution_count": null,
      "outputs": [
        {
          "output_type": "stream",
          "text": [
            "Weight coefficients:  [[150.93068397]]\n",
            "y-axis intercept:  [-13.977744]\n",
            "True output: [40.05544086]\n",
            "Predicted output: [40.05544086]\n",
            "Prediction Error: [0.]\n",
            "Mean Squared Error (MSE): 688.2223995741895\n",
            "R-squared (R2 ): 0.18675235371602839\n",
            "Linear Regressor Score (X, Y): 0.1867523537160284\n"
          ],
          "name": "stdout"
        }
      ]
    },
    {
      "cell_type": "code",
      "metadata": {
        "id": "4zW_4EXNtsJw"
      },
      "source": [
        ""
      ],
      "execution_count": null,
      "outputs": []
    },
    {
      "cell_type": "code",
      "metadata": {
        "id": "syk_qUDBtwR-"
      },
      "source": [
        "#Slugging Percentage vs. Runs Scored\n",
        "\n",
        "slug_X = data.iloc[:, 22].values.reshape(-1, 1)  # values converts it into a numpy array\n",
        "obp_Y = data.iloc[:, 7].values.reshape(-1, 1)  # -1 means that calculate the dimension of rows, but have 1 column\n",
        "simple_slug_vs_runs = LinearRegression()  # create object for the class\n",
        "simple_slug_vs_runs.fit(slug_X, runs_Y)  # perform linear regression\n",
        "runs_Y_pred = simple_slug_vs_runs.predict(slug_X)  # make predictions"
      ],
      "execution_count": null,
      "outputs": []
    },
    {
      "cell_type": "code",
      "metadata": {
        "id": "Q9NtakJIuEok",
        "outputId": "15df1441-441f-42dc-a8c9-fbd7964c09cd",
        "colab": {
          "base_uri": "https://localhost:8080/",
          "height": 265
        }
      },
      "source": [
        "plt.scatter(slug_X, runs_Y)\n",
        "plt.plot(slug_X, runs_Y_pred, color='red')\n",
        "plt.show()"
      ],
      "execution_count": null,
      "outputs": [
        {
          "output_type": "display_data",
          "data": {
            "image/png": "[encoded data removed]",
            "text/plain": [
              "<Figure size 432x288 with 1 Axes>"
            ]
          },
          "metadata": {
            "tags": [],
            "needs_background": "light"
          }
        }
      ]
    },
    {
      "cell_type": "code",
      "metadata": {
        "id": "Xq5_-UBluJqU",
        "outputId": "f2ce7d39-6f6e-47c5-ff7c-37665f768bcd",
        "colab": {
          "base_uri": "https://localhost:8080/"
        }
      },
      "source": [
        "print('Weight coefficients: ', simple_slug_vs_runs.coef_)\n",
        "print('y-axis intercept: ', simple_slug_vs_runs.intercept_) \n",
        "slug_predictions = simple_slug_vs_runs.predict(obp_X)\n",
        "print(f\"True output: {runs_Y_pred[22]}\")\n",
        "print(f\"Predicted output: {slug_predictions[22]}\")\n",
        "print(f\"Prediction Error: {slug_predictions[22]-runs_Y_pred[22]}\")\n",
        "\n",
        "from sklearn.metrics import mean_squared_error, r2_score\n",
        "\n",
        "# Use our model to predict a value\n",
        "slug_predicted = simple_slug_vs_runs.predict(slug_X)\n",
        "\n",
        "# Score the prediction with mse and r2\n",
        "slug_mse = mean_squared_error(runs_Y, slug_predicted)\n",
        "slug_r2 = r2_score(runs_Y, slug_predicted)\n",
        "\n",
        "print(f\"Mean Squared Error (MSE): {slug_mse}\")\n",
        "print(f\"R-squared (R2 ): {slug_r2}\")\n",
        "\n",
        "linear_regressor_slug = simple_slug_vs_runs.score(slug_X, runs_Y)\n",
        "print(f\"Linear Regressor Score (X, Y): {linear_regressor_slug}\")"
      ],
      "execution_count": null,
      "outputs": [
        {
          "output_type": "stream",
          "text": [
            "Weight coefficients:  [[105.63716872]]\n",
            "y-axis intercept:  [-7.82571388]\n",
            "True output: [32.73895891]\n",
            "Predicted output: [29.14729518]\n",
            "Prediction Error: [-3.59166374]\n",
            "Mean Squared Error (MSE): 638.4961606723574\n",
            "R-squared (R2 ): 0.24551206100031597\n",
            "Linear Regressor Score (X, Y): 0.24551206100031597\n"
          ],
          "name": "stdout"
        }
      ]
    },
    {
      "cell_type": "code",
      "metadata": {
        "id": "LbIRgK-RuZ9O"
      },
      "source": [
        ""
      ],
      "execution_count": null,
      "outputs": []
    },
    {
      "cell_type": "code",
      "metadata": {
        "id": "7hHd1cvTuel6"
      },
      "source": [
        "#On Base Plus Slugging vs. Runs Scored\n",
        "\n",
        "ops_X = data.iloc[:, 23].values.reshape(-1, 1)  # values converts it into a numpy array\n",
        "ops_Y = data.iloc[:, 7].values.reshape(-1, 1)  # -1 means that calculate the dimension of rows, but have 1 column\n",
        "simple_ops_vs_runs = LinearRegression()  # create object for the class\n",
        "simple_ops_vs_runs.fit(ops_X, runs_Y)  # perform linear regression\n",
        "runs_Y_pred = simple_ops_vs_runs.predict(ops_X)  # make predictions"
      ],
      "execution_count": null,
      "outputs": []
    },
    {
      "cell_type": "code",
      "metadata": {
        "id": "59sv2V-Luwp4",
        "outputId": "24342de5-44f7-424d-d3fc-ab3ad7056f1a",
        "colab": {
          "base_uri": "https://localhost:8080/",
          "height": 265
        }
      },
      "source": [
        "plt.scatter(ops_X, runs_Y)\n",
        "plt.plot(ops_X, runs_Y_pred, color='red')\n",
        "plt.show()"
      ],
      "execution_count": null,
      "outputs": [
        {
          "output_type": "display_data",
          "data": {
            "image/png": "[encoded data removed]",
            "text/plain": [
              "<Figure size 432x288 with 1 Axes>"
            ]
          },
          "metadata": {
            "tags": [],
            "needs_background": "light"
          }
        }
      ]
    },
    {
      "cell_type": "code",
      "metadata": {
        "id": "c3NTzWZcu3yw",
        "outputId": "3de95b04-dcf9-4436-aa01-4cdd6f9b9f14",
        "colab": {
          "base_uri": "https://localhost:8080/"
        }
      },
      "source": [
        "print('Weight coefficients: ', simple_ops_vs_runs.coef_)\n",
        "print('y-axis intercept: ', simple_ops_vs_runs.intercept_) \n",
        "ops_predictions = simple_ops_vs_runs.predict(obp_X)\n",
        "print(f\"True output: {runs_Y_pred[23]}\")\n",
        "print(f\"Predicted output: {ops_predictions[23]}\")\n",
        "print(f\"Prediction Error: {ops_predictions[23]-runs_Y_pred[23]}\")\n",
        "\n",
        "from sklearn.metrics import mean_squared_error, r2_score\n",
        "\n",
        "# Use our model to predict a value\n",
        "ops_predicted = simple_ops_vs_runs.predict(ops_X)\n",
        "\n",
        "# Score the prediction with mse and r2\n",
        "ops_mse = mean_squared_error(runs_Y, ops_predicted)\n",
        "ops_r2 = r2_score(runs_Y, ops_predicted)\n",
        "\n",
        "print(f\"Mean Squared Error (MSE): {ops_mse}\")\n",
        "print(f\"R-squared (R2 ): {ops_r2}\")\n",
        "\n",
        "linear_regressor_ops = simple_ops_vs_runs.score(ops_X, runs_Y)\n",
        "print(f\"Linear Regressor Score (X, Y): {linear_regressor_ops}\")"
      ],
      "execution_count": null,
      "outputs": [
        {
          "output_type": "stream",
          "text": [
            "Weight coefficients:  [[70.8767157]]\n",
            "y-axis intercept:  [-16.12402936]\n",
            "True output: [35.97035668]\n",
            "Predicted output: [4.64284834]\n",
            "Prediction Error: [-31.32750834]\n",
            "Mean Squared Error (MSE): 632.6472157041924\n",
            "R-squared (R2 ): 0.25242354881522533\n",
            "Linear Regressor Score (X, Y): 0.25242354881522533\n"
          ],
          "name": "stdout"
        }
      ]
    },
    {
      "cell_type": "code",
      "metadata": {
        "id": "o5uYBwGMvYKr",
        "outputId": "a03d4ebe-470d-4c0c-e70e-e4c794127803",
        "colab": {
          "base_uri": "https://localhost:8080/"
        }
      },
      "source": [
        "#List of R-Squared Values\n",
        "\n",
        "print(f\"R-squared for Age (R2 ): {age_r2}\")\n",
        "print(f\"R-squared for Games Played (R2 ): {games_r2}\")\n",
        "print(f\"R-squared for At Bats (R2 ): {bats_r2}\")\n",
        "print(f\"R-squared for Hits (R2 ): {hit_r2}\")\n",
        "print(f\"R-squared for Doubles (R2 ): {double_r2}\")\n",
        "print(f\"R-squared for Triples (R2 ): {triple_r2}\")\n",
        "print(f\"R-squared for Home Runs (R2 ): {home_r2}\")\n",
        "print(f\"R-squared for RBIs(R2 ): {rbi_r2}\")\n",
        "print(f\"R-squared for Stolen Bases (R2 ): {stolen_r2}\")\n",
        "print(f\"R-squared for Caught Stealing(R2 ): {caught_r2}\")\n",
        "print(f\"R-squared for Walks (R2 ): {walk_r2}\")\n",
        "print(f\"R-squared for Strike Outs (R2 ): {strike_r2}\")\n",
        "print(f\"R-squared for Sacrifice Bunts (R2 ): {bunt_r2}\")\n",
        "print(f\"R-squared for Sacrifice Flys(R2 ): {fly_r2}\")\n",
        "print(f\"R-squared for Hit By Pitcher (R2 ): {pitch_r2}\")\n",
        "print(f\"R-squared for Batting Average (R2 ): {ba_r2}\")\n",
        "print(f\"R-squared for On Base Percentage (R2 ): {obp_r2}\")\n",
        "print(f\"R-squared for Slugging Percentage (R2 ): {slug_r2}\")\n",
        "print(f\"R-squared for On Base plus Slugging Percentage (R2 ): {ops_r2}\")"
      ],
      "execution_count": null,
      "outputs": [
        {
          "output_type": "stream",
          "text": [
            "R-squared for Age (R2 ): 0.0001964879353808513\n",
            "R-squared for Games Played (R2 ): -0.48920174027842234\n",
            "R-squared for At Bats (R2 ): 0.9143575477842283\n",
            "R-squared for Hits (R2 ): 0.9271306248158435\n",
            "R-squared for Doubles (R2 ): 0.8535262106563604\n",
            "R-squared for Triples (R2 ): 0.3420972857554867\n",
            "R-squared for Home Runs (R2 ): 0.7178454404141212\n",
            "R-squared for RBIs(R2 ): 0.8598411945505015\n",
            "R-squared for Stolen Bases (R2 ): 0.8598411945505015\n",
            "R-squared for Caught Stealing(R2 ): 0.3423863472441244\n",
            "R-squared for Walks (R2 ): 0.7827278810049861\n",
            "R-squared for Strike Outs (R2 ): 0.7487046904182846\n",
            "R-squared for Sacrifice Bunts (R2 ): 0.041902919409691264\n",
            "R-squared for Sacrifice Flys(R2 ): 0.4950150515500167\n",
            "R-squared for Hit By Pitcher (R2 ): 0.3776245741721582\n",
            "R-squared for Batting Average (R2 ): 0.18815307060056896\n",
            "R-squared for On Base Percentage (R2 ): 0.18675235371602839\n",
            "R-squared for Slugging Percentage (R2 ): 0.24551206100031597\n",
            "R-squared for On Base plus Slugging Percentage (R2 ): 0.25242354881522533\n"
          ],
          "name": "stdout"
        }
      ]
    },
    {
      "cell_type": "code",
      "metadata": {
        "id": "TK50zcBKG-Tk",
        "outputId": "9e9ff131-d99b-4cde-e8df-a8cd700c66c0",
        "colab": {
          "base_uri": "https://localhost:8080/"
        }
      },
      "source": [
        "print(f\"{age_r2}\")\n",
        "print(f\"{games_r2}\")\n",
        "print(f\"{bats_r2}\")\n",
        "print(f\"{hit_r2}\")\n",
        "print(f\"{double_r2}\")\n",
        "print(f\"{triple_r2}\")\n",
        "print(f\"{home_r2}\")\n",
        "print(f\"{rbi_r2}\")\n",
        "print(f\"{stolen_r2}\")\n",
        "print(f\"{caught_r2}\")\n",
        "print(f\"{walk_r2}\")\n",
        "print(f\"{strike_r2}\")\n",
        "print(f\"{bunt_r2}\")\n",
        "print(f\"{fly_r2}\")\n",
        "print(f\"{pitch_r2}\")\n",
        "print(f\"{ba_r2}\")\n",
        "print(f\"{obp_r2}\")\n",
        "print(f\"{slug_r2}\")\n",
        "print(f\"{ops_r2}\")"
      ],
      "execution_count": null,
      "outputs": [
        {
          "output_type": "stream",
          "text": [
            "0.0001964879353808513\n",
            "-0.48920174027842234\n",
            "0.9143575477842283\n",
            "0.9271306248158435\n",
            "0.8535262106563604\n",
            "0.3420972857554867\n",
            "0.7178454404141212\n",
            "0.8598411945505015\n",
            "0.8598411945505015\n",
            "0.3423863472441244\n",
            "0.7827278810049861\n",
            "0.7487046904182846\n",
            "0.041902919409691264\n",
            "0.4950150515500167\n",
            "0.3776245741721582\n",
            "0.18815307060056896\n",
            "0.18675235371602839\n",
            "0.24551206100031597\n",
            "0.25242354881522533\n"
          ],
          "name": "stdout"
        }
      ]
    },
    {
      "cell_type": "code",
      "metadata": {
        "id": "1I4OeTr3HE_4"
      },
      "source": [
        ""
      ],
      "execution_count": null,
      "outputs": []
    }
  ]
}