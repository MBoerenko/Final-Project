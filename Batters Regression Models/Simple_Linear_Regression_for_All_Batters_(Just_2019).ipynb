{
  "nbformat": 4,
  "nbformat_minor": 0,
  "metadata": {
    "colab": {
      "name": "Simple Linear Regression for All Batters (Just 2019).ipynb",
      "provenance": [],
      "collapsed_sections": [],
      "mount_file_id": "1wvI_A9Hz84O9MF1wiUgY-dviig44QALG",
      "authorship_tag": "ABX9TyNAVHc3b+gKVlnEtad+BlnU",
      "include_colab_link": true
    },
    "kernelspec": {
      "name": "python3",
      "display_name": "Python 3"
    }
  },
  "cells": [
    {
      "cell_type": "markdown",
      "metadata": {
        "id": "view-in-github",
        "colab_type": "text"
      },
      "source": [
        "<a href=\"https://colab.research.google.com/github/MBoerenko/Final-Project/blob/main/Simple_Linear_Regression_for_All_Batters_(Just_2019).ipynb\" target=\"_parent\"><img src=\"https://colab.research.google.com/assets/colab-badge.svg\" alt=\"Open In Colab\"/></a>"
      ]
    },
    {
      "cell_type": "code",
      "metadata": {
        "id": "AboUh2AXR8UA"
      },
      "source": [
        "#Runs Scored = index 6\n",
        "\n",
        "import numpy as np\n",
        "import matplotlib.pyplot as plt  # To visualize\n",
        "import pandas as pd  # To read data\n",
        "from sklearn.linear_model import LinearRegression"
      ],
      "execution_count": null,
      "outputs": []
    },
    {
      "cell_type": "code",
      "metadata": {
        "id": "hgquN9-9xfpo"
      },
      "source": [
        ""
      ],
      "execution_count": null,
      "outputs": []
    },
    {
      "cell_type": "code",
      "metadata": {
        "id": "MFGhVKlWSBuB"
      },
      "source": [
        "#Age vs. Runs Scored\n",
        "\n",
        "data = pd.read_csv('/content/drive/My Drive/Batters_Data_Sets/Simple_Linear_Regression_for_Batters/All_Batters_2019.csv')  # load data set\n",
        "age_X = data.iloc[:, 3].values.reshape(-1, 1)  # values converts it into a numpy array\n",
        "runs_Y = data.iloc[:, 6].values.reshape(-1, 1)  # -1 means that calculate the dimension of rows, but have 1 column\n",
        "simple_age_vs_runs = LinearRegression()  # create object for the class\n",
        "simple_age_vs_runs.fit(age_X, runs_Y)  # perform linear regression\n",
        "runs_Y_pred = simple_age_vs_runs.predict(age_X)  # make predictions\n"
      ],
      "execution_count": null,
      "outputs": []
    },
    {
      "cell_type": "code",
      "metadata": {
        "id": "k_tSWZ90SEfk",
        "outputId": "d4577336-4ccf-4b64-8d00-35ef938b3a8c",
        "colab": {
          "base_uri": "https://localhost:8080/",
          "height": 267
        }
      },
      "source": [
        "plt.scatter(age_X, runs_Y)\n",
        "plt.plot(age_X, runs_Y_pred, color='red')\n",
        "plt.show()"
      ],
      "execution_count": null,
      "outputs": [
        {
          "output_type": "display_data",
          "data": {
            "image/png": "[encoded data removed]",
            "text/plain": [
              "<Figure size 432x288 with 1 Axes>"
            ]
          },
          "metadata": {
            "tags": [],
            "needs_background": "light"
          }
        }
      ]
    },
    {
      "cell_type": "code",
      "metadata": {
        "id": "C74U3JdcS7tO",
        "outputId": "07ba3897-5df7-483f-b78f-c0a9401453b8",
        "colab": {
          "base_uri": "https://localhost:8080/"
        }
      },
      "source": [
        "print('Weight coefficients: ', simple_age_vs_runs.coef_)\n",
        "print('y-axis intercept: ', simple_age_vs_runs.intercept_) \n",
        "age_predictions = simple_age_vs_runs.predict(age_X)\n",
        "print(f\"True output: {runs_Y_pred[3]}\")\n",
        "print(f\"Predicted output: {age_predictions[3]}\")\n",
        "print(f\"Prediction Error: {age_predictions[3]-runs_Y_pred[3]}\")\n",
        "\n",
        "from sklearn.metrics import mean_squared_error, r2_score\n",
        "\n",
        "# Use our model to predict a value\n",
        "age_predicted = simple_age_vs_runs.predict(age_X)\n",
        "\n",
        "# Score the prediction with mse and r2\n",
        "age_mse = mean_squared_error(runs_Y, age_predicted)\n",
        "age_r2 = r2_score(runs_Y, age_predicted)\n",
        "\n",
        "print(f\"Mean Squared Error (MSE): {age_mse}\")\n",
        "print(f\"R-squared (R2 ): {age_r2}\")\n",
        "\n",
        "linear_regressor_age = simple_age_vs_runs.score(age_X, runs_Y)\n",
        "print(f\"Linear Regressor Score (X, Y): {linear_regressor_age}\")"
      ],
      "execution_count": null,
      "outputs": [
        {
          "output_type": "stream",
          "text": [
            "Weight coefficients:  [[-0.08797318]]\n",
            "y-axis intercept:  [36.02827645]\n",
            "True output: [33.47705433]\n",
            "Predicted output: [33.47705433]\n",
            "Prediction Error: [0.]\n",
            "Mean Squared Error (MSE): 981.0674728942889\n",
            "R-squared (R2 ): 0.00010775928283623948\n",
            "Linear Regressor Score (X, Y): 0.00010775928283623949\n"
          ],
          "name": "stdout"
        }
      ]
    },
    {
      "cell_type": "code",
      "metadata": {
        "id": "8StOqAd5xqmR"
      },
      "source": [
        ""
      ],
      "execution_count": null,
      "outputs": []
    },
    {
      "cell_type": "code",
      "metadata": {
        "id": "hxZlybAUUqA0"
      },
      "source": [
        "#Games Played vs. Runs Scored\n",
        "\n",
        "games_X = data.iloc[:, 4].values.reshape(-1, 1)  # values converts it into a numpy array\n",
        "runs_Y = data.iloc[:, 6].values.reshape(-1, 1)  # -1 means that calculate the dimension of rows, but have 1 column\n",
        "simple_games_vs_runs = LinearRegression()  # create object for the class\n",
        "simple_games_vs_runs.fit(games_X, runs_Y)  # perform linear regression\n",
        "games_Y_pred = simple_games_vs_runs.predict(games_X)  # make predictions\n"
      ],
      "execution_count": null,
      "outputs": []
    },
    {
      "cell_type": "code",
      "metadata": {
        "id": "alj-BN51UzOc",
        "outputId": "b896d076-d1e2-4477-fb74-c3b51fb0f059",
        "colab": {
          "base_uri": "https://localhost:8080/",
          "height": 266
        }
      },
      "source": [
        "plt.scatter(games_X, runs_Y)\n",
        "plt.plot(games_X, games_Y_pred, color='red')\n",
        "plt.show()"
      ],
      "execution_count": null,
      "outputs": [
        {
          "output_type": "display_data",
          "data": {
            "image/png": "[encoded data removed]",
            "text/plain": [
              "<Figure size 432x288 with 1 Axes>"
            ]
          },
          "metadata": {
            "tags": [],
            "needs_background": "light"
          }
        }
      ]
    },
    {
      "cell_type": "code",
      "metadata": {
        "id": "V9YvSX5nU2IM",
        "outputId": "dc784bf2-2dea-40aa-b9c9-3bc650890106",
        "colab": {
          "base_uri": "https://localhost:8080/"
        }
      },
      "source": [
        "print('Weight coefficients: ', simple_games_vs_runs.coef_)\n",
        "print('y-axis intercept: ', simple_games_vs_runs.intercept_) \n",
        "games_predictions = simple_games_vs_runs.predict(age_X)\n",
        "print(f\"True output: {runs_Y_pred[4]}\")\n",
        "print(f\"Predicted output: {games_predictions[4]}\")\n",
        "print(f\"Prediction Error: {games_predictions[4]-runs_Y_pred[4]}\")\n",
        "\n",
        "from sklearn.metrics import mean_squared_error, r2_score\n",
        "\n",
        "# Use our model to predict a value\n",
        "games_predicted = simple_games_vs_runs.predict(age_X)\n",
        "\n",
        "# Score the prediction with mse and r2\n",
        "games_mse = mean_squared_error(runs_Y, games_predicted)\n",
        "games_r2 = r2_score(runs_Y, games_predicted)\n",
        "\n",
        "print(f\"Mean Squared Error (MSE): {games_mse}\")\n",
        "print(f\"R-squared (R2 ): {games_r2}\")\n",
        "\n",
        "linear_regressor_games = simple_games_vs_runs.score(games_X, runs_Y)\n",
        "print(f\"Linear Regressor Score (X, Y): {linear_regressor_games}\")"
      ],
      "execution_count": null,
      "outputs": [
        {
          "output_type": "stream",
          "text": [
            "Weight coefficients:  [[0.5659714]]\n",
            "y-axis intercept:  [-7.47421427]\n",
            "True output: [34.00489339]\n",
            "Predicted output: [5.54312799]\n",
            "Prediction Error: [-28.4617654]\n",
            "Mean Squared Error (MSE): 1581.6517356342756\n",
            "R-squared (R2 ): -0.6120005419320975\n",
            "Linear Regressor Score (X, Y): 0.8388270588150021\n"
          ],
          "name": "stdout"
        }
      ]
    },
    {
      "cell_type": "code",
      "metadata": {
        "id": "pAFLHXZAVPQM"
      },
      "source": [
        ""
      ],
      "execution_count": null,
      "outputs": []
    },
    {
      "cell_type": "code",
      "metadata": {
        "id": "2y8wmaDgWihv"
      },
      "source": [
        "#At Bats vs Runs Scored\n",
        "\n",
        "bats_X = data.iloc[:, 5].values.reshape(-1, 1)  # values converts it into a numpy array\n",
        "runs_Y = data.iloc[:, 6].values.reshape(-1, 1)  # -1 means that calculate the dimension of rows, but have 1 column\n",
        "simple_bats_vs_runs = LinearRegression()  # create object for the class\n",
        "simple_bats_vs_runs.fit(bats_X, runs_Y)  # perform linear regression\n",
        "runs_Y_pred = simple_bats_vs_runs.predict(bats_X)  # make predictions\n"
      ],
      "execution_count": null,
      "outputs": []
    },
    {
      "cell_type": "code",
      "metadata": {
        "id": "LJFoMhiUW2pZ",
        "outputId": "57e7ffe5-16e6-41be-a956-e818b03c0771",
        "colab": {
          "base_uri": "https://localhost:8080/",
          "height": 267
        }
      },
      "source": [
        "plt.scatter(bats_X, runs_Y)\n",
        "plt.plot(bats_X, runs_Y_pred, color='red')\n",
        "plt.show()"
      ],
      "execution_count": null,
      "outputs": [
        {
          "output_type": "display_data",
          "data": {
            "image/png": "[encoded data removed]",
            "text/plain": [
              "<Figure size 432x288 with 1 Axes>"
            ]
          },
          "metadata": {
            "tags": [],
            "needs_background": "light"
          }
        }
      ]
    },
    {
      "cell_type": "code",
      "metadata": {
        "id": "XA4PhbrlW8EA",
        "outputId": "dae5fbd2-3218-4526-c363-0764b74be745",
        "colab": {
          "base_uri": "https://localhost:8080/"
        }
      },
      "source": [
        "print('Weight coefficients: ', simple_bats_vs_runs.coef_)\n",
        "print('y-axis intercept: ', simple_bats_vs_runs.intercept_) \n",
        "bats_predictions = simple_bats_vs_runs.predict(age_X)\n",
        "print(f\"True output: {runs_Y_pred[5]}\")\n",
        "print(f\"Predicted output: {bats_predictions[5]}\")\n",
        "print(f\"Prediction Error: {bats_predictions[5]-runs_Y_pred[5]}\")\n",
        "\n",
        "from sklearn.metrics import mean_squared_error, r2_score\n",
        "\n",
        "# Use our model to predict a value\n",
        "bats_predicted = simple_bats_vs_runs.predict(bats_X)\n",
        "\n",
        "# Score the prediction with mse and r2\n",
        "bats_mse = mean_squared_error(runs_Y, bats_predicted)\n",
        "bats_r2 = r2_score(runs_Y, bats_predicted)\n",
        "\n",
        "print(f\"Mean Squared Error (MSE): {bats_mse}\")\n",
        "print(f\"R-squared (R2 ): {bats_r2}\")\n",
        "\n",
        "linear_regressor_bats = simple_bats_vs_runs.score(games_X, runs_Y)\n",
        "print(f\"Linear Regressor Score (X, Y): {linear_regressor_bats}\")"
      ],
      "execution_count": null,
      "outputs": [
        {
          "output_type": "stream",
          "text": [
            "Weight coefficients:  [[0.15696102]]\n",
            "y-axis intercept:  [-3.20380458]\n",
            "True output: [96.62340729]\n",
            "Predicted output: [1.66198719]\n",
            "Prediction Error: [-94.9614201]\n",
            "Mean Squared Error (MSE): 80.9917862056962\n",
            "R-squared (R2 ): 0.9174541396729957\n",
            "Linear Regressor Score (X, Y): -0.25209687148252113\n"
          ],
          "name": "stdout"
        }
      ]
    },
    {
      "cell_type": "code",
      "metadata": {
        "id": "nh2n2EEdXSnz"
      },
      "source": [
        ""
      ],
      "execution_count": null,
      "outputs": []
    },
    {
      "cell_type": "code",
      "metadata": {
        "id": "CW9qQ3EBYDTx"
      },
      "source": [
        "#Hitters vs Runs Scored\n",
        "\n",
        "hit_X = data.iloc[:, 7].values.reshape(-1, 1)  # values converts it into a numpy array\n",
        "runs_Y = data.iloc[:, 6].values.reshape(-1, 1)  # -1 means that calculate the dimension of rows, but have 1 column\n",
        "simple_hit_vs_runs = LinearRegression()  # create object for the class\n",
        "simple_hit_vs_runs.fit(hit_X, runs_Y)  # perform linear regression\n",
        "runs_Y_pred = simple_hit_vs_runs.predict(hit_X)  # make predictions"
      ],
      "execution_count": null,
      "outputs": []
    },
    {
      "cell_type": "code",
      "metadata": {
        "id": "XvEN0M1JYagk",
        "outputId": "1a84fe0d-e125-4a9e-b8e2-148937a26b8d",
        "colab": {
          "base_uri": "https://localhost:8080/",
          "height": 267
        }
      },
      "source": [
        "plt.scatter(hit_X, runs_Y)\n",
        "plt.plot(hit_X, runs_Y_pred, color='red')\n",
        "plt.show()"
      ],
      "execution_count": null,
      "outputs": [
        {
          "output_type": "display_data",
          "data": {
            "image/png": "[encoded data removed]",
            "text/plain": [
              "<Figure size 432x288 with 1 Axes>"
            ]
          },
          "metadata": {
            "tags": [],
            "needs_background": "light"
          }
        }
      ]
    },
    {
      "cell_type": "code",
      "metadata": {
        "id": "NoUXg3zIYfu9",
        "outputId": "49b1020b-8c4f-4d0e-f074-52b023bd4c3b",
        "colab": {
          "base_uri": "https://localhost:8080/"
        }
      },
      "source": [
        "print('Weight coefficients: ', simple_hit_vs_runs.coef_)\n",
        "print('y-axis intercept: ', simple_hit_vs_runs.intercept_) \n",
        "hit_predictions = simple_hit_vs_runs.predict(hit_X)\n",
        "print(f\"True output: {runs_Y_pred[7]}\")\n",
        "print(f\"Predicted output: {hit_predictions[7]}\")\n",
        "print(f\"Prediction Error: {hit_predictions[7]-runs_Y_pred[7]}\")\n",
        "\n",
        "from sklearn.metrics import mean_squared_error, r2_score\n",
        "\n",
        "# Use our model to predict a value\n",
        "hit_predicted = simple_hit_vs_runs.predict(hit_X)\n",
        "\n",
        "# Score the prediction with mse and r2\n",
        "hit_mse = mean_squared_error(runs_Y, hit_predicted)\n",
        "hit_r2 = r2_score(runs_Y, hit_predicted)\n",
        "\n",
        "print(f\"Mean Squared Error (MSE): {hit_mse}\")\n",
        "print(f\"R-squared (R2 ): {hit_r2}\")\n",
        "\n",
        "linear_regressor_hit = simple_hit_vs_runs.score(games_X, runs_Y)\n",
        "print(f\"Linear Regressor Score (X, Y): {linear_regressor_hit}\")"
      ],
      "execution_count": null,
      "outputs": [
        {
          "output_type": "stream",
          "text": [
            "Weight coefficients:  [[0.56336715]]\n",
            "y-axis intercept:  [-0.19589126]\n",
            "True output: [101.21019558]\n",
            "Predicted output: [101.21019558]\n",
            "Prediction Error: [0.]\n",
            "Mean Squared Error (MSE): 65.76730188797553\n",
            "R-squared (R2 ): 0.9329707520965016\n",
            "Linear Regressor Score (X, Y): 0.7875768876327661\n"
          ],
          "name": "stdout"
        }
      ]
    },
    {
      "cell_type": "code",
      "metadata": {
        "id": "NFrzVmcbY5-A"
      },
      "source": [
        ""
      ],
      "execution_count": null,
      "outputs": []
    },
    {
      "cell_type": "code",
      "metadata": {
        "id": "yrRWsiRJZJrD"
      },
      "source": [
        "#Double vs Runs Scored\n",
        "\n",
        "double_X = data.iloc[:, 8].values.reshape(-1, 1)  # values converts it into a numpy array\n",
        "runs_Y = data.iloc[:, 6].values.reshape(-1, 1)  # -1 means that calculate the dimension of rows, but have 1 column\n",
        "simple_double_vs_runs = LinearRegression()  # create object for the class\n",
        "simple_double_vs_runs.fit(double_X, runs_Y)  # perform linear regression\n",
        "runs_Y_pred = simple_double_vs_runs.predict(double_X)  # make predictions"
      ],
      "execution_count": null,
      "outputs": []
    },
    {
      "cell_type": "code",
      "metadata": {
        "id": "-eyyQZcxZnvV",
        "outputId": "83b116a0-a531-4188-90f8-51ec8ffcabbc",
        "colab": {
          "base_uri": "https://localhost:8080/",
          "height": 265
        }
      },
      "source": [
        "plt.scatter(double_X, runs_Y)\n",
        "plt.plot(double_X, runs_Y_pred, color='red')\n",
        "plt.show()"
      ],
      "execution_count": null,
      "outputs": [
        {
          "output_type": "display_data",
          "data": {
            "image/png": "[encoded data removed]",
            "text/plain": [
              "<Figure size 432x288 with 1 Axes>"
            ]
          },
          "metadata": {
            "tags": [],
            "needs_background": "light"
          }
        }
      ]
    },
    {
      "cell_type": "code",
      "metadata": {
        "id": "VtVBX4WXZpzs",
        "outputId": "d4de3b03-0584-4f9b-fe44-c42f48154183",
        "colab": {
          "base_uri": "https://localhost:8080/"
        }
      },
      "source": [
        "print('Weight coefficients: ', simple_double_vs_runs.coef_)\n",
        "print('y-axis intercept: ', simple_double_vs_runs.intercept_) \n",
        "double_predictions = simple_double_vs_runs.predict(double_X)\n",
        "print(f\"True output: {runs_Y_pred[8]}\")\n",
        "print(f\"Predicted output: {double_predictions[8]}\")\n",
        "print(f\"Prediction Error: {double_predictions[8]-runs_Y_pred[8]}\")\n",
        "\n",
        "from sklearn.metrics import mean_squared_error, r2_score\n",
        "\n",
        "# Use our model to predict a value\n",
        "double_predicted = simple_double_vs_runs.predict(double_X)\n",
        "\n",
        "# Score the prediction with mse and r2\n",
        "double_mse = mean_squared_error(runs_Y, double_predicted)\n",
        "double_r2 = r2_score(runs_Y, double_predicted)\n",
        "\n",
        "print(f\"Mean Squared Error (MSE): {double_mse}\")\n",
        "print(f\"R-squared (R2 ): {double_r2}\")\n",
        "\n",
        "linear_regressor_double = simple_double_vs_runs.score(double_X, runs_Y)\n",
        "print(f\"Linear Regressor Score (X, Y): {linear_regressor_double}\")"
      ],
      "execution_count": null,
      "outputs": [
        {
          "output_type": "stream",
          "text": [
            "Weight coefficients:  [[2.55668999]]\n",
            "y-axis intercept:  [2.30862558]\n",
            "True output: [104.5762251]\n",
            "Predicted output: [104.5762251]\n",
            "Prediction Error: [0.]\n",
            "Mean Squared Error (MSE): 125.58835642497927\n",
            "R-squared (R2 ): 0.8720018484118175\n",
            "Linear Regressor Score (X, Y): 0.8720018484118175\n"
          ],
          "name": "stdout"
        }
      ]
    },
    {
      "cell_type": "code",
      "metadata": {
        "id": "odnmwaM4aDIk"
      },
      "source": [
        ""
      ],
      "execution_count": null,
      "outputs": []
    },
    {
      "cell_type": "code",
      "metadata": {
        "id": "xw8Oip-3eCGJ"
      },
      "source": [
        "#Triple vs. Runs Scored\n",
        "\n",
        "triple_X = data.iloc[:, 9].values.reshape(-1, 1)  # values converts it into a numpy array\n",
        "runs_Y = data.iloc[:, 6].values.reshape(-1, 1)  # -1 means that calculate the dimension of rows, but have 1 column\n",
        "simple_triple_vs_runs = LinearRegression()  # create object for the class\n",
        "simple_triple_vs_runs.fit(triple_X, runs_Y)  # perform linear regression\n",
        "runs_Y_pred = simple_triple_vs_runs.predict(triple_X)  # make predictions"
      ],
      "execution_count": null,
      "outputs": []
    },
    {
      "cell_type": "code",
      "metadata": {
        "id": "nSAInquveO-L",
        "outputId": "5a5ac385-f14c-4087-b31f-cd59272597c0",
        "colab": {
          "base_uri": "https://localhost:8080/",
          "height": 267
        }
      },
      "source": [
        "plt.scatter(triple_X, runs_Y)\n",
        "plt.plot(triple_X, runs_Y_pred, color='red')\n",
        "plt.show()"
      ],
      "execution_count": null,
      "outputs": [
        {
          "output_type": "display_data",
          "data": {
            "image/png": "[encoded data removed]",
            "text/plain": [
              "<Figure size 432x288 with 1 Axes>"
            ]
          },
          "metadata": {
            "tags": [],
            "needs_background": "light"
          }
        }
      ]
    },
    {
      "cell_type": "code",
      "metadata": {
        "id": "UqzxtqUQeTTO",
        "outputId": "96433574-7933-42c9-8420-4fc3816f0d39",
        "colab": {
          "base_uri": "https://localhost:8080/"
        }
      },
      "source": [
        "print('Weight coefficients: ', simple_triple_vs_runs.coef_)\n",
        "print('y-axis intercept: ', simple_triple_vs_runs.intercept_) \n",
        "triple_predictions = simple_triple_vs_runs.predict(double_X)\n",
        "print(f\"True output: {runs_Y_pred[9]}\")\n",
        "print(f\"Predicted output: {triple_predictions[9]}\")\n",
        "print(f\"Prediction Error: {triple_predictions[9]-runs_Y_pred[9]}\")\n",
        "\n",
        "from sklearn.metrics import mean_squared_error, r2_score\n",
        "\n",
        "# Use our model to predict a value\n",
        "triple_predicted = simple_triple_vs_runs.predict(triple_X)\n",
        "\n",
        "# Score the prediction with mse and r2\n",
        "triple_mse = mean_squared_error(runs_Y, triple_predicted)\n",
        "triple_r2 = r2_score(runs_Y, triple_predicted)\n",
        "\n",
        "print(f\"Mean Squared Error (MSE): {triple_mse}\")\n",
        "print(f\"R-squared (R2 ): {triple_r2}\")\n",
        "\n",
        "linear_regressor_triple = simple_triple_vs_runs.score(triple_X, runs_Y)\n",
        "print(f\"Linear Regressor Score (X, Y): {linear_regressor_triple}\")"
      ],
      "execution_count": null,
      "outputs": [
        {
          "output_type": "stream",
          "text": [
            "Weight coefficients:  [[10.87439183]]\n",
            "y-axis intercept:  [21.21916423]\n",
            "True output: [42.9679479]\n",
            "Predicted output: [260.45578457]\n",
            "Prediction Error: [217.48783667]\n",
            "Mean Squared Error (MSE): 628.7855462626794\n",
            "R-squared (R2 ): 0.3591492877361948\n",
            "Linear Regressor Score (X, Y): 0.3591492877361948\n"
          ],
          "name": "stdout"
        }
      ]
    },
    {
      "cell_type": "code",
      "metadata": {
        "id": "CEJpDdn0erlR"
      },
      "source": [
        ""
      ],
      "execution_count": null,
      "outputs": []
    },
    {
      "cell_type": "code",
      "metadata": {
        "id": "zcEl8VHqe3dW"
      },
      "source": [
        "#Home Runs vs. Runs Scored\n",
        "\n",
        "home_X = data.iloc[:, 10].values.reshape(-1, 1)  # values converts it into a numpy array\n",
        "runs_Y = data.iloc[:, 6].values.reshape(-1, 1)  # -1 means that calculate the dimension of rows, but have 1 column\n",
        "simple_home_vs_runs = LinearRegression()  # create object for the class\n",
        "simple_home_vs_runs.fit(home_X, runs_Y)  # perform linear regression\n",
        "runs_Y_pred = simple_home_vs_runs.predict(home_X)  # make predictions"
      ],
      "execution_count": null,
      "outputs": []
    },
    {
      "cell_type": "code",
      "metadata": {
        "id": "9SsPJ2NRfJPK",
        "outputId": "bbd8885d-ce3d-49ca-afc4-d3fa62e2766d",
        "colab": {
          "base_uri": "https://localhost:8080/",
          "height": 265
        }
      },
      "source": [
        "plt.scatter(home_X, runs_Y)\n",
        "plt.plot(home_X, runs_Y_pred, color='red')\n",
        "plt.show()"
      ],
      "execution_count": null,
      "outputs": [
        {
          "output_type": "display_data",
          "data": {
            "image/png": "[encoded data removed]",
            "text/plain": [
              "<Figure size 432x288 with 1 Axes>"
            ]
          },
          "metadata": {
            "tags": [],
            "needs_background": "light"
          }
        }
      ]
    },
    {
      "cell_type": "code",
      "metadata": {
        "id": "MPC83_JAfNGT",
        "outputId": "6d13276a-9b09-4cbf-d5bf-9226df294080",
        "colab": {
          "base_uri": "https://localhost:8080/"
        }
      },
      "source": [
        "print('Weight coefficients: ', simple_home_vs_runs.coef_)\n",
        "print('y-axis intercept: ', simple_home_vs_runs.intercept_) \n",
        "home_predictions = simple_home_vs_runs.predict(home_X)\n",
        "print(f\"True output: {runs_Y_pred[10]}\")\n",
        "print(f\"Predicted output: {home_predictions[10]}\")\n",
        "print(f\"Prediction Error: {home_predictions[10]-runs_Y_pred[10]}\")\n",
        "\n",
        "from sklearn.metrics import mean_squared_error, r2_score\n",
        "\n",
        "# Use our model to predict a value\n",
        "home_predicted = simple_home_vs_runs.predict(home_X)\n",
        "\n",
        "# Score the prediction with mse and r2\n",
        "home_mse = mean_squared_error(runs_Y, home_predicted)\n",
        "home_r2 = r2_score(runs_Y, home_predicted)\n",
        "\n",
        "print(f\"Mean Squared Error (MSE): {home_mse}\")\n",
        "print(f\"R-squared (R2 ): {home_r2}\")\n",
        "\n",
        "linear_regressor_home = simple_home_vs_runs.score(home_X, runs_Y)\n",
        "print(f\"Linear Regressor Score (X, Y): {linear_regressor_home}\")"
      ],
      "execution_count": null,
      "outputs": [
        {
          "output_type": "stream",
          "text": [
            "Weight coefficients:  [[2.61756596]]\n",
            "y-axis intercept:  [7.99019398]\n",
            "True output: [65.57664515]\n",
            "Predicted output: [65.57664515]\n",
            "Prediction Error: [0.]\n",
            "Mean Squared Error (MSE): 180.11174791028225\n",
            "R-squared (R2 ): 0.8164322595812916\n",
            "Linear Regressor Score (X, Y): 0.8164322595812916\n"
          ],
          "name": "stdout"
        }
      ]
    },
    {
      "cell_type": "code",
      "metadata": {
        "id": "Tv-TQ77Kf_A3"
      },
      "source": [
        ""
      ],
      "execution_count": null,
      "outputs": []
    },
    {
      "cell_type": "code",
      "metadata": {
        "id": "-YXaBQrFgDey"
      },
      "source": [
        "#Runs Batted In vs. Runs Scored\n",
        "\n",
        "rbi_X = data.iloc[:, 11].values.reshape(-1, 1)  # values converts it into a numpy array\n",
        "runs_Y = data.iloc[:, 6].values.reshape(-1, 1)  # -1 means that calculate the dimension of rows, but have 1 column\n",
        "simple_rbi_vs_runs = LinearRegression()  # create object for the class\n",
        "simple_rbi_vs_runs.fit(rbi_X, runs_Y)  # perform linear regression\n",
        "runs_Y_pred = simple_rbi_vs_runs.predict(rbi_X)  # make predictions"
      ],
      "execution_count": null,
      "outputs": []
    },
    {
      "cell_type": "code",
      "metadata": {
        "id": "X0oXfAVvg4fL",
        "outputId": "ccfc7f19-5cdc-4cd6-feb5-3244b63ba7f2",
        "colab": {
          "base_uri": "https://localhost:8080/",
          "height": 267
        }
      },
      "source": [
        "plt.scatter(rbi_X, runs_Y)\n",
        "plt.plot(rbi_X, runs_Y_pred, color='red')\n",
        "plt.show()"
      ],
      "execution_count": null,
      "outputs": [
        {
          "output_type": "display_data",
          "data": {
            "image/png": "[encoded data removed]",
            "text/plain": [
              "<Figure size 432x288 with 1 Axes>"
            ]
          },
          "metadata": {
            "tags": [],
            "needs_background": "light"
          }
        }
      ]
    },
    {
      "cell_type": "code",
      "metadata": {
        "id": "HUjVjv0vhTlU",
        "outputId": "b6fc9432-8d8b-4a3b-f731-53eeba6d17da",
        "colab": {
          "base_uri": "https://localhost:8080/"
        }
      },
      "source": [
        "print('Weight coefficients: ', simple_rbi_vs_runs.coef_)\n",
        "print('y-axis intercept: ', simple_rbi_vs_runs.intercept_) \n",
        "rbi_predictions = simple_rbi_vs_runs.predict(rbi_X)\n",
        "print(f\"True output: {runs_Y_pred[11]}\")\n",
        "print(f\"Predicted output: {rbi_predictions[11]}\")\n",
        "print(f\"Prediction Error: {rbi_predictions[11]-runs_Y_pred[11]}\")\n",
        "\n",
        "from sklearn.metrics import mean_squared_error, r2_score\n",
        "\n",
        "# Use our model to predict a value\n",
        "rbi_predicted = simple_rbi_vs_runs.predict(rbi_X)\n",
        "\n",
        "# Score the prediction with mse and r2\n",
        "rbi_mse = mean_squared_error(runs_Y, rbi_predicted)\n",
        "rbi_r2 = r2_score(runs_Y, rbi_predicted)\n",
        "\n",
        "print(f\"Mean Squared Error (MSE): {rbi_mse}\")\n",
        "print(f\"R-squared (R2 ): {rbi_r2}\")\n",
        "\n",
        "linear_regressor_rbi = simple_rbi_vs_runs.score(rbi_X, runs_Y)\n",
        "print(f\"Linear Regressor Score (X, Y): {linear_regressor_rbi}\")"
      ],
      "execution_count": null,
      "outputs": [
        {
          "output_type": "stream",
          "text": [
            "Weight coefficients:  [[0.96466278]]\n",
            "y-axis intercept:  [2.54864316]\n",
            "True output: [72.00436355]\n",
            "Predicted output: [72.00436355]\n",
            "Prediction Error: [0.]\n",
            "Mean Squared Error (MSE): 103.2811281086207\n",
            "R-squared (R2 ): 0.8947371088517857\n",
            "Linear Regressor Score (X, Y): 0.8947371088517857\n"
          ],
          "name": "stdout"
        }
      ]
    },
    {
      "cell_type": "code",
      "metadata": {
        "id": "nQ1xP2v1hokY"
      },
      "source": [
        ""
      ],
      "execution_count": null,
      "outputs": []
    },
    {
      "cell_type": "code",
      "metadata": {
        "id": "cvQRp7hHhpad"
      },
      "source": [
        "#Stolen Base In vs. Runs Scored\n",
        "\n",
        "stolen_X = data.iloc[:, 12].values.reshape(-1, 1)  # values converts it into a numpy array\n",
        "runs_Y = data.iloc[:, 6].values.reshape(-1, 1)  # -1 means that calculate the dimension of rows, but have 1 column\n",
        "simple_stolen_vs_runs = LinearRegression()  # create object for the class\n",
        "simple_stolen_vs_runs.fit(stolen_X, runs_Y)  # perform linear regression\n",
        "runs_Y_pred = simple_stolen_vs_runs.predict(stolen_X)  # make predictions"
      ],
      "execution_count": null,
      "outputs": []
    },
    {
      "cell_type": "code",
      "metadata": {
        "id": "-hUOLybLiYUz",
        "outputId": "0037343e-c266-4d71-d4c2-506bfd708bad",
        "colab": {
          "base_uri": "https://localhost:8080/",
          "height": 265
        }
      },
      "source": [
        "plt.scatter(stolen_X, runs_Y)\n",
        "plt.plot(stolen_X, runs_Y_pred, color='red')\n",
        "plt.show()"
      ],
      "execution_count": null,
      "outputs": [
        {
          "output_type": "display_data",
          "data": {
            "image/png": "[encoded data removed]",
            "text/plain": [
              "<Figure size 432x288 with 1 Axes>"
            ]
          },
          "metadata": {
            "tags": [],
            "needs_background": "light"
          }
        }
      ]
    },
    {
      "cell_type": "code",
      "metadata": {
        "id": "vBS0gCPXiey7",
        "outputId": "f201cb51-5ddf-416b-87a9-c2564d578f0d",
        "colab": {
          "base_uri": "https://localhost:8080/"
        }
      },
      "source": [
        "print('Weight coefficients: ', simple_stolen_vs_runs.coef_)\n",
        "print('y-axis intercept: ', simple_stolen_vs_runs.intercept_) \n",
        "stolen_predictions = simple_stolen_vs_runs.predict(stolen_X)\n",
        "print(f\"True output: {runs_Y_pred[12]}\")\n",
        "print(f\"Predicted output: {stolen_predictions[12]}\")\n",
        "print(f\"Prediction Error: {stolen_predictions[12]-runs_Y_pred[12]}\")\n",
        "\n",
        "from sklearn.metrics import mean_squared_error, r2_score\n",
        "\n",
        "# Use our model to predict a value\n",
        "stolen_predicted = simple_stolen_vs_runs.predict(stolen_X)\n",
        "\n",
        "# Score the prediction with mse and r2\n",
        "stolen_mse = mean_squared_error(runs_Y, stolen_predicted)\n",
        "stolen_r2 = r2_score(runs_Y, stolen_predicted)\n",
        "\n",
        "print(f\"Mean Squared Error (MSE): {stolen_mse}\")\n",
        "print(f\"R-squared (R2 ): {stolen_r2}\")\n",
        "\n",
        "linear_regressor_stolen = simple_stolen_vs_runs.score(stolen_X, runs_Y)\n",
        "print(f\"Linear Regressor Score (X, Y): {linear_regressor_stolen}\")"
      ],
      "execution_count": null,
      "outputs": [
        {
          "output_type": "stream",
          "text": [
            "Weight coefficients:  [[2.86317646]]\n",
            "y-axis intercept:  [24.08750181]\n",
            "True output: [35.54020766]\n",
            "Predicted output: [35.54020766]\n",
            "Prediction Error: [0.]\n",
            "Mean Squared Error (MSE): 694.4691107072729\n",
            "R-squared (R2 ): 0.2922053840339961\n",
            "Linear Regressor Score (X, Y): 0.2922053840339961\n"
          ],
          "name": "stdout"
        }
      ]
    },
    {
      "cell_type": "code",
      "metadata": {
        "id": "r-fAo3Zui1tD"
      },
      "source": [
        ""
      ],
      "execution_count": null,
      "outputs": []
    },
    {
      "cell_type": "code",
      "metadata": {
        "id": "t1qio4cbjEYl"
      },
      "source": [
        "#Caught Stealing In vs. Runs Scored\n",
        "\n",
        "caught_X = data.iloc[:, 13].values.reshape(-1, 1)  # values converts it into a numpy array\n",
        "runs_Y = data.iloc[:, 6].values.reshape(-1, 1)  # -1 means that calculate the dimension of rows, but have 1 column\n",
        "simple_caught_vs_runs = LinearRegression()  # create object for the class\n",
        "simple_caught_vs_runs.fit(caught_X, runs_Y)  # perform linear regression\n",
        "runs_Y_pred = simple_caught_vs_runs.predict(caught_X)  # make predictions"
      ],
      "execution_count": null,
      "outputs": []
    },
    {
      "cell_type": "code",
      "metadata": {
        "id": "QxPKk9_gjbG2",
        "outputId": "c9ac82d6-beaa-44a6-ce59-923b26af4468",
        "colab": {
          "base_uri": "https://localhost:8080/",
          "height": 267
        }
      },
      "source": [
        "plt.scatter(caught_X, runs_Y)\n",
        "plt.plot(caught_X, runs_Y_pred, color='red')\n",
        "plt.show()"
      ],
      "execution_count": null,
      "outputs": [
        {
          "output_type": "display_data",
          "data": {
            "image/png": "[encoded data removed]",
            "text/plain": [
              "<Figure size 432x288 with 1 Axes>"
            ]
          },
          "metadata": {
            "tags": [],
            "needs_background": "light"
          }
        }
      ]
    },
    {
      "cell_type": "code",
      "metadata": {
        "id": "7AAvrI6qjjUO",
        "outputId": "719eb9ab-dc76-4305-9377-6db926518c76",
        "colab": {
          "base_uri": "https://localhost:8080/"
        }
      },
      "source": [
        "print('Weight coefficients: ', simple_caught_vs_runs.coef_)\n",
        "print('y-axis intercept: ', simple_caught_vs_runs.intercept_) \n",
        "caught_predictions = simple_caught_vs_runs.predict(caught_X)\n",
        "print(f\"True output: {runs_Y_pred[13]}\")\n",
        "print(f\"Predicted output: {caught_predictions[13]}\")\n",
        "print(f\"Prediction Error: {caught_predictions[13]-runs_Y_pred[13]}\")\n",
        "\n",
        "from sklearn.metrics import mean_squared_error, r2_score\n",
        "\n",
        "# Use our model to predict a value\n",
        "caught_predicted = simple_caught_vs_runs.predict(caught_X)\n",
        "\n",
        "# Score the prediction with mse and r2\n",
        "caught_mse = mean_squared_error(runs_Y, caught_predicted)\n",
        "caught_r2 = r2_score(runs_Y, caught_predicted)\n",
        "\n",
        "print(f\"Mean Squared Error (MSE): {caught_mse}\")\n",
        "print(f\"R-squared (R2 ): {caught_r2}\")\n",
        "\n",
        "linear_regressor_caught = simple_caught_vs_runs.score(caught_X, runs_Y)\n",
        "print(f\"Linear Regressor Score (X, Y): {linear_regressor_caught}\")"
      ],
      "execution_count": null,
      "outputs": [
        {
          "output_type": "stream",
          "text": [
            "Weight coefficients:  [[9.63950717]]\n",
            "y-axis intercept:  [21.96992445]\n",
            "True output: [41.2489388]\n",
            "Predicted output: [41.2489388]\n",
            "Prediction Error: [0.]\n",
            "Mean Squared Error (MSE): 665.5244952773963\n",
            "R-squared (R2 ): 0.3217053900768978\n",
            "Linear Regressor Score (X, Y): 0.3217053900768978\n"
          ],
          "name": "stdout"
        }
      ]
    },
    {
      "cell_type": "code",
      "metadata": {
        "id": "8IoJKCc7j4pV"
      },
      "source": [
        ""
      ],
      "execution_count": null,
      "outputs": []
    },
    {
      "cell_type": "code",
      "metadata": {
        "id": "2-022ji6j_vi"
      },
      "source": [
        "#Walks In vs. Runs Scored\n",
        "\n",
        "walk_X = data.iloc[:, 14].values.reshape(-1, 1)  # values converts it into a numpy array\n",
        "runs_Y = data.iloc[:, 6].values.reshape(-1, 1)  # -1 means that calculate the dimension of rows, but have 1 column\n",
        "simple_walk_vs_runs = LinearRegression()  # create object for the class\n",
        "simple_walk_vs_runs.fit(walk_X, runs_Y)  # perform linear regression\n",
        "runs_Y_pred = simple_walk_vs_runs.predict(walk_X)  # make predictions"
      ],
      "execution_count": null,
      "outputs": []
    },
    {
      "cell_type": "code",
      "metadata": {
        "id": "OLdsblU6kMAA",
        "outputId": "d7621b2a-f0e3-41f7-f77a-d90d4827cd78",
        "colab": {
          "base_uri": "https://localhost:8080/",
          "height": 265
        }
      },
      "source": [
        "plt.scatter(walk_X, runs_Y)\n",
        "plt.plot(walk_X, runs_Y_pred, color='red')\n",
        "plt.show()"
      ],
      "execution_count": null,
      "outputs": [
        {
          "output_type": "display_data",
          "data": {
            "image/png": "[encoded data removed]",
            "text/plain": [
              "<Figure size 432x288 with 1 Axes>"
            ]
          },
          "metadata": {
            "tags": [],
            "needs_background": "light"
          }
        }
      ]
    },
    {
      "cell_type": "code",
      "metadata": {
        "id": "7I4GBezUkQau",
        "outputId": "b3ba857d-e841-4715-c2f0-99a97e6d677d",
        "colab": {
          "base_uri": "https://localhost:8080/"
        }
      },
      "source": [
        "print('Weight coefficients: ', simple_walk_vs_runs.coef_)\n",
        "print('y-axis intercept: ', simple_walk_vs_runs.intercept_) \n",
        "walk_predictions = simple_walk_vs_runs.predict(walk_X)\n",
        "print(f\"True output: {runs_Y_pred[14]}\")\n",
        "print(f\"Predicted output: {walk_predictions[14]}\")\n",
        "print(f\"Prediction Error: {walk_predictions[14]-runs_Y_pred[14]}\")\n",
        "\n",
        "from sklearn.metrics import mean_squared_error, r2_score\n",
        "\n",
        "# Use our model to predict a value\n",
        "walk_predicted = simple_walk_vs_runs.predict(walk_X)\n",
        "\n",
        "# Score the prediction with mse and r2\n",
        "walk_mse = mean_squared_error(runs_Y, walk_predicted)\n",
        "walk_r2 = r2_score(runs_Y, walk_predicted)\n",
        "\n",
        "print(f\"Mean Squared Error (MSE): {walk_mse}\")\n",
        "print(f\"R-squared (R2 ): {walk_r2}\")\n",
        "\n",
        "linear_regressor_walk = simple_walk_vs_runs.score(walk_X, runs_Y)\n",
        "print(f\"Linear Regressor Score (X, Y): {linear_regressor_walk}\")"
      ],
      "execution_count": null,
      "outputs": [
        {
          "output_type": "stream",
          "text": [
            "Weight coefficients:  [[1.21804961]]\n",
            "y-axis intercept:  [5.84179752]\n",
            "True output: [61.87207945]\n",
            "Predicted output: [61.87207945]\n",
            "Prediction Error: [0.]\n",
            "Mean Squared Error (MSE): 213.12597877476176\n",
            "R-squared (R2 ): 0.7827845501355264\n",
            "Linear Regressor Score (X, Y): 0.7827845501355263\n"
          ],
          "name": "stdout"
        }
      ]
    },
    {
      "cell_type": "code",
      "metadata": {
        "id": "guWOhIi-kjjp"
      },
      "source": [
        ""
      ],
      "execution_count": null,
      "outputs": []
    },
    {
      "cell_type": "code",
      "metadata": {
        "id": "pFu_Gi3DkkaQ"
      },
      "source": [
        "#Stike Out vs. Runs Scored\n",
        "\n",
        "strike_X = data.iloc[:, 15].values.reshape(-1, 1)  # values converts it into a numpy array\n",
        "runs_Y = data.iloc[:, 6].values.reshape(-1, 1)  # -1 means that calculate the dimension of rows, but have 1 column\n",
        "simple_strike_vs_runs = LinearRegression()  # create object for the class\n",
        "simple_strike_vs_runs.fit(strike_X, runs_Y)  # perform linear regression\n",
        "runs_Y_pred = simple_strike_vs_runs.predict(strike_X)  # make predictions"
      ],
      "execution_count": null,
      "outputs": []
    },
    {
      "cell_type": "code",
      "metadata": {
        "id": "Q1sPaj6Vk0MT",
        "outputId": "2ce81d20-0f23-4604-e2b4-ed226125dbed",
        "colab": {
          "base_uri": "https://localhost:8080/",
          "height": 267
        }
      },
      "source": [
        "plt.scatter(strike_X, runs_Y)\n",
        "plt.plot(strike_X, runs_Y_pred, color='red')\n",
        "plt.show()"
      ],
      "execution_count": null,
      "outputs": [
        {
          "output_type": "display_data",
          "data": {
            "image/png": "[encoded data removed]",
            "text/plain": [
              "<Figure size 432x288 with 1 Axes>"
            ]
          },
          "metadata": {
            "tags": [],
            "needs_background": "light"
          }
        }
      ]
    },
    {
      "cell_type": "code",
      "metadata": {
        "id": "qu5JxoULk-H7",
        "outputId": "f092208c-2821-4a1a-f752-d7101cbfc5ba",
        "colab": {
          "base_uri": "https://localhost:8080/"
        }
      },
      "source": [
        "print('Weight coefficients: ', simple_strike_vs_runs.coef_)\n",
        "print('y-axis intercept: ', simple_strike_vs_runs.intercept_) \n",
        "strike_predictions = simple_strike_vs_runs.predict(strike_X)\n",
        "print(f\"True output: {runs_Y_pred[15]}\")\n",
        "print(f\"Predicted output: {strike_predictions[15]}\")\n",
        "print(f\"Prediction Error: {strike_predictions[15]-runs_Y_pred[15]}\")\n",
        "\n",
        "from sklearn.metrics import mean_squared_error, r2_score\n",
        "\n",
        "# Use our model to predict a value\n",
        "strike_predicted = simple_strike_vs_runs.predict(strike_X)\n",
        "\n",
        "# Score the prediction with mse and r2\n",
        "strike_mse = mean_squared_error(runs_Y, strike_predicted)\n",
        "strike_r2 = r2_score(runs_Y, strike_predicted)\n",
        "\n",
        "print(f\"Mean Squared Error (MSE): {strike_mse}\")\n",
        "print(f\"R-squared (R2 ): {strike_r2}\")\n",
        "\n",
        "linear_regressor_strike = simple_strike_vs_runs.score(strike_X, runs_Y)\n",
        "print(f\"Linear Regressor Score (X, Y): {linear_regressor_strike}\")"
      ],
      "execution_count": null,
      "outputs": [
        {
          "output_type": "stream",
          "text": [
            "Weight coefficients:  [[0.58360696]]\n",
            "y-axis intercept:  [-0.66321131]\n",
            "True output: [82.79258345]\n",
            "Predicted output: [82.79258345]\n",
            "Prediction Error: [0.]\n",
            "Mean Squared Error (MSE): 240.2859220780021\n",
            "R-squared (R2 ): 0.7551034605901651\n",
            "Linear Regressor Score (X, Y): 0.7551034605901651\n"
          ],
          "name": "stdout"
        }
      ]
    },
    {
      "cell_type": "code",
      "metadata": {
        "id": "tTdsPmzslToJ"
      },
      "source": [
        ""
      ],
      "execution_count": null,
      "outputs": []
    },
    {
      "cell_type": "code",
      "metadata": {
        "id": "7Nfbw4rxlUby"
      },
      "source": [
        "#Sacrifice Bunt vs. Runs Scored\n",
        "\n",
        "bunt_X = data.iloc[:, 16].values.reshape(-1, 1)  # values converts it into a numpy array\n",
        "runs_Y = data.iloc[:, 6].values.reshape(-1, 1)  # -1 means that calculate the dimension of rows, but have 1 column\n",
        "simple_bunt_vs_runs = LinearRegression()  # create object for the class\n",
        "simple_bunt_vs_runs.fit(bunt_X, runs_Y)  # perform linear regression\n",
        "runs_Y_pred = simple_bunt_vs_runs.predict(bunt_X)  # make predictions"
      ],
      "execution_count": null,
      "outputs": []
    },
    {
      "cell_type": "code",
      "metadata": {
        "id": "ZCKmlkagljmW",
        "outputId": "f79b11cc-d1b5-45d1-96c9-f0aefd58fc3a",
        "colab": {
          "base_uri": "https://localhost:8080/",
          "height": 267
        }
      },
      "source": [
        "plt.scatter(bunt_X, runs_Y)\n",
        "plt.plot(bunt_X, runs_Y_pred, color='red')\n",
        "plt.show()"
      ],
      "execution_count": null,
      "outputs": [
        {
          "output_type": "display_data",
          "data": {
            "image/png": "[encoded data removed]",
            "text/plain": [
              "<Figure size 432x288 with 1 Axes>"
            ]
          },
          "metadata": {
            "tags": [],
            "needs_background": "light"
          }
        }
      ]
    },
    {
      "cell_type": "code",
      "metadata": {
        "id": "H6ujdiRalm67",
        "outputId": "62d50e56-e1dd-44ce-c6a0-4ddce6196588",
        "colab": {
          "base_uri": "https://localhost:8080/"
        }
      },
      "source": [
        "print('Weight coefficients: ', simple_bunt_vs_runs.coef_)\n",
        "print('y-axis intercept: ', simple_bunt_vs_runs.intercept_) \n",
        "bunt_predictions = simple_bunt_vs_runs.predict(bunt_X)\n",
        "print(f\"True output: {runs_Y_pred[16]}\")\n",
        "print(f\"Predicted output: {bunt_predictions[16]}\")\n",
        "print(f\"Prediction Error: {bunt_predictions[16]-runs_Y_pred[16]}\")\n",
        "\n",
        "from sklearn.metrics import mean_squared_error, r2_score\n",
        "\n",
        "# Use our model to predict a value\n",
        "bunt_predicted = simple_bunt_vs_runs.predict(bunt_X)\n",
        "\n",
        "# Score the prediction with mse and r2\n",
        "bunt_mse = mean_squared_error(runs_Y, bunt_predicted)\n",
        "bunt_r2 = r2_score(runs_Y, bunt_predicted)\n",
        "\n",
        "print(f\"Mean Squared Error (MSE): {bunt_mse}\")\n",
        "print(f\"R-squared (R2 ): {bunt_r2}\")\n",
        "\n",
        "linear_regressor_bunt = simple_bunt_vs_runs.score(bunt_X, runs_Y)\n",
        "print(f\"Linear Regressor Score (X, Y): {linear_regressor_bunt}\")"
      ],
      "execution_count": null,
      "outputs": [
        {
          "output_type": "stream",
          "text": [
            "Weight coefficients:  [[3.52122312]]\n",
            "y-axis intercept:  [31.72152982]\n",
            "True output: [31.72152982]\n",
            "Predicted output: [31.72152982]\n",
            "Prediction Error: [0.]\n",
            "Mean Squared Error (MSE): 963.7812844200015\n",
            "R-squared (R2 ): 0.017725635937153594\n",
            "Linear Regressor Score (X, Y): 0.017725635937153594\n"
          ],
          "name": "stdout"
        }
      ]
    },
    {
      "cell_type": "code",
      "metadata": {
        "id": "WR0Oc78KmClS"
      },
      "source": [
        ""
      ],
      "execution_count": null,
      "outputs": []
    },
    {
      "cell_type": "code",
      "metadata": {
        "id": "jLbckwrNmGM8"
      },
      "source": [
        "#Sacrifice Fly vs. Runs Scored\n",
        "\n",
        "fly_X = data.iloc[:, 17].values.reshape(-1, 1)  # values converts it into a numpy array\n",
        "runs_Y = data.iloc[:, 6].values.reshape(-1, 1)  # -1 means that calculate the dimension of rows, but have 1 column\n",
        "simple_fly_vs_runs = LinearRegression()  # create object for the class\n",
        "simple_fly_vs_runs.fit(fly_X, runs_Y)  # perform linear regression\n",
        "runs_Y_pred = simple_fly_vs_runs.predict(fly_X)  # make predictions"
      ],
      "execution_count": null,
      "outputs": []
    },
    {
      "cell_type": "code",
      "metadata": {
        "id": "cbz91GJgmJf_",
        "outputId": "e0b30982-c881-43dd-8241-9eca0047c527",
        "colab": {
          "base_uri": "https://localhost:8080/",
          "height": 265
        }
      },
      "source": [
        "plt.scatter(fly_X, runs_Y)\n",
        "plt.plot(fly_X, runs_Y_pred, color='red')\n",
        "plt.show()"
      ],
      "execution_count": null,
      "outputs": [
        {
          "output_type": "display_data",
          "data": {
            "image/png": "[encoded data removed]",
            "text/plain": [
              "<Figure size 432x288 with 1 Axes>"
            ]
          },
          "metadata": {
            "tags": [],
            "needs_background": "light"
          }
        }
      ]
    },
    {
      "cell_type": "code",
      "metadata": {
        "id": "162Q7LlXmYK5",
        "outputId": "ca2c67a8-de76-4493-aad7-a3ffbb38b3ce",
        "colab": {
          "base_uri": "https://localhost:8080/"
        }
      },
      "source": [
        "print('Weight coefficients: ', simple_fly_vs_runs.coef_)\n",
        "print('y-axis intercept: ', simple_fly_vs_runs.intercept_) \n",
        "fly_predictions = simple_fly_vs_runs.predict(fly_X)\n",
        "print(f\"True output: {runs_Y_pred[17]}\")\n",
        "print(f\"Predicted output: {fly_predictions[17]}\")\n",
        "print(f\"Prediction Error: {fly_predictions[17]-runs_Y_pred[18]}\")\n",
        "\n",
        "from sklearn.metrics import mean_squared_error, r2_score\n",
        "\n",
        "# Use our model to predict a value\n",
        "fly_predicted = simple_fly_vs_runs.predict(fly_X)\n",
        "\n",
        "# Score the prediction with mse and r2\n",
        "fly_mse = mean_squared_error(runs_Y, fly_predicted)\n",
        "fly_r2 = r2_score(runs_Y, fly_predicted)\n",
        "\n",
        "print(f\"Mean Squared Error (MSE): {fly_mse}\")\n",
        "print(f\"R-squared (R2 ): {fly_r2}\")\n",
        "\n",
        "linear_regressor_fly = simple_fly_vs_runs.score(fly_X, runs_Y)\n",
        "print(f\"Linear Regressor Score (X, Y): {linear_regressor_fly}\")"
      ],
      "execution_count": null,
      "outputs": [
        {
          "output_type": "stream",
          "text": [
            "Weight coefficients:  [[10.52871081]]\n",
            "y-axis intercept:  [16.13142977]\n",
            "True output: [79.30369461]\n",
            "Predicted output: [79.30369461]\n",
            "Prediction Error: [31.58613242]\n",
            "Mean Squared Error (MSE): 536.3523758496046\n",
            "R-squared (R2 ): 0.45335607007733103\n",
            "Linear Regressor Score (X, Y): 0.45335607007733103\n"
          ],
          "name": "stdout"
        }
      ]
    },
    {
      "cell_type": "code",
      "metadata": {
        "id": "Wm9S5dLBmzGS"
      },
      "source": [
        ""
      ],
      "execution_count": null,
      "outputs": []
    },
    {
      "cell_type": "code",
      "metadata": {
        "id": "EjOIYFXMm6Ta"
      },
      "source": [
        "#Hit by Pitch vs. Runs Scored\n",
        "\n",
        "pitch_X = data.iloc[:, 18].values.reshape(-1, 1)  # values converts it into a numpy array\n",
        "runs_Y = data.iloc[:, 6].values.reshape(-1, 1)  # -1 means that calculate the dimension of rows, but have 1 column\n",
        "simple_pitch_vs_runs = LinearRegression()  # create object for the class\n",
        "simple_pitch_vs_runs.fit(pitch_X, runs_Y)  # perform linear regression\n",
        "runs_Y_pred = simple_pitch_vs_runs.predict(pitch_X)  # make predictions"
      ],
      "execution_count": null,
      "outputs": []
    },
    {
      "cell_type": "code",
      "metadata": {
        "id": "LNIB2eEPnIHJ",
        "outputId": "d4464284-9410-4afc-ff47-47a2a8ca63cf",
        "colab": {
          "base_uri": "https://localhost:8080/",
          "height": 265
        }
      },
      "source": [
        "plt.scatter(pitch_X, runs_Y)\n",
        "plt.plot(pitch_X, runs_Y_pred, color='red')\n",
        "plt.show()"
      ],
      "execution_count": null,
      "outputs": [
        {
          "output_type": "display_data",
          "data": {
            "image/png": "[encoded data removed]",
            "text/plain": [
              "<Figure size 432x288 with 1 Axes>"
            ]
          },
          "metadata": {
            "tags": [],
            "needs_background": "light"
          }
        }
      ]
    },
    {
      "cell_type": "code",
      "metadata": {
        "id": "7EfuCLcuob4s",
        "outputId": "544260c4-48ae-4558-848c-122adab8d5cc",
        "colab": {
          "base_uri": "https://localhost:8080/"
        }
      },
      "source": [
        "print('Weight coefficients: ', simple_pitch_vs_runs.coef_)\n",
        "print('y-axis intercept: ', simple_pitch_vs_runs.intercept_) \n",
        "pitch_predictions = simple_pitch_vs_runs.predict(fly_X)\n",
        "print(f\"True output: {runs_Y_pred[18]}\")\n",
        "print(f\"Predicted output: {pitch_predictions[18]}\")\n",
        "print(f\"Prediction Error: {pitch_predictions[18]-runs_Y_pred[18]}\")\n",
        "\n",
        "from sklearn.metrics import mean_squared_error, r2_score\n",
        "\n",
        "# Use our model to predict a value\n",
        "pitch_predicted = simple_pitch_vs_runs.predict(pitch_X)\n",
        "\n",
        "# Score the prediction with mse and r2\n",
        "pitch_mse = mean_squared_error(runs_Y, pitch_predicted)\n",
        "pitch_r2 = r2_score(runs_Y, pitch_predicted)\n",
        "\n",
        "print(f\"Mean Squared Error (MSE): {pitch_mse}\")\n",
        "print(f\"R-squared (R2 ): {pitch_r2}\")\n",
        "\n",
        "linear_regressor_pitch = simple_pitch_vs_runs.score(pitch_X, runs_Y)\n",
        "print(f\"Linear Regressor Score (X, Y): {linear_regressor_pitch}\")"
      ],
      "execution_count": null,
      "outputs": [
        {
          "output_type": "stream",
          "text": [
            "Weight coefficients:  [[5.1343133]]\n",
            "y-axis intercept:  [18.86762848]\n",
            "True output: [29.13625509]\n",
            "Predicted output: [34.27056839]\n",
            "Prediction Error: [5.1343133]\n",
            "Mean Squared Error (MSE): 608.6007600957565\n",
            "R-squared (R2 ): 0.37972138050908\n",
            "Linear Regressor Score (X, Y): 0.37972138050908\n"
          ],
          "name": "stdout"
        }
      ]
    },
    {
      "cell_type": "code",
      "metadata": {
        "id": "ZE3nO8cjo2QT"
      },
      "source": [
        ""
      ],
      "execution_count": null,
      "outputs": []
    },
    {
      "cell_type": "code",
      "metadata": {
        "id": "FSvzlr85o3MC"
      },
      "source": [
        "#Batting Average vs. Runs Scored\n",
        "\n",
        "ba_X = data.iloc[:, 19].values.reshape(-1, 1)  # values converts it into a numpy array\n",
        "ba_Y = data.iloc[:, 6].values.reshape(-1, 1)  # -1 means that calculate the dimension of rows, but have 1 column\n",
        "simple_ba_vs_runs = LinearRegression()  # create object for the class\n",
        "simple_ba_vs_runs.fit(ba_X, runs_Y)  # perform linear regression\n",
        "runs_Y_pred = simple_ba_vs_runs.predict(ba_X)  # make predictions"
      ],
      "execution_count": null,
      "outputs": []
    },
    {
      "cell_type": "code",
      "metadata": {
        "id": "yvj9FKJ-pLku",
        "outputId": "8a688772-f7ac-4f6a-f90d-691ed6a410e1",
        "colab": {
          "base_uri": "https://localhost:8080/",
          "height": 266
        }
      },
      "source": [
        "plt.scatter(ba_X, runs_Y)\n",
        "plt.plot(ba_X, runs_Y_pred, color='red')\n",
        "plt.show()"
      ],
      "execution_count": null,
      "outputs": [
        {
          "output_type": "display_data",
          "data": {
            "image/png": "[encoded data removed]",
            "text/plain": [
              "<Figure size 432x288 with 1 Axes>"
            ]
          },
          "metadata": {
            "tags": [],
            "needs_background": "light"
          }
        }
      ]
    },
    {
      "cell_type": "code",
      "metadata": {
        "id": "g0hDNT7SpRRS",
        "outputId": "ae0603a6-834e-42fe-871d-9206fccfbd3c",
        "colab": {
          "base_uri": "https://localhost:8080/"
        }
      },
      "source": [
        "print('Weight coefficients: ', simple_ba_vs_runs.coef_)\n",
        "print('y-axis intercept: ', simple_ba_vs_runs.intercept_) \n",
        "ba_predictions = simple_ba_vs_runs.predict(ba_X)\n",
        "print(f\"True output: {runs_Y_pred[19]}\")\n",
        "print(f\"Predicted output: {ba_predictions[19]}\")\n",
        "print(f\"Prediction Error: {ba_predictions[19]-runs_Y_pred[19]}\")\n",
        "\n",
        "from sklearn.metrics import mean_squared_error, r2_score\n",
        "\n",
        "# Use our model to predict a value\n",
        "ba_predicted = simple_ba_vs_runs.predict(ba_X)\n",
        "\n",
        "# Score the prediction with mse and r2\n",
        "ba_mse = mean_squared_error(runs_Y, ba_predicted)\n",
        "ba_r2 = r2_score(runs_Y, ba_predicted)\n",
        "\n",
        "print(f\"Mean Squared Error (MSE): {ba_mse}\")\n",
        "print(f\"R-squared (R2 ): {ba_r2}\")\n",
        "\n",
        "linear_regressor_ba = simple_ba_vs_runs.score(ba_X, runs_Y)\n",
        "print(f\"Linear Regressor Score (X, Y): {linear_regressor_ba}\")"
      ],
      "execution_count": null,
      "outputs": [
        {
          "output_type": "stream",
          "text": [
            "Weight coefficients:  [[224.80930209]]\n",
            "y-axis intercept:  [-16.99769115]\n",
            "True output: [49.32105297]\n",
            "Predicted output: [49.32105297]\n",
            "Prediction Error: [0.]\n",
            "Mean Squared Error (MSE): 709.027624397675\n",
            "R-squared (R2 ): 0.27736752091285666\n",
            "Linear Regressor Score (X, Y): 0.27736752091285666\n"
          ],
          "name": "stdout"
        }
      ]
    },
    {
      "cell_type": "code",
      "metadata": {
        "id": "nn_yd33Hp13Z"
      },
      "source": [
        ""
      ],
      "execution_count": null,
      "outputs": []
    },
    {
      "cell_type": "code",
      "metadata": {
        "id": "7jN70Iukp2pK"
      },
      "source": [
        "#On Base Percentage vs. Runs Scored\n",
        "\n",
        "obp_X = data.iloc[:, 20].values.reshape(-1, 1)  # values converts it into a numpy array\n",
        "obp_Y = data.iloc[:, 6].values.reshape(-1, 1)  # -1 means that calculate the dimension of rows, but have 1 column\n",
        "simple_obp_vs_runs = LinearRegression()  # create object for the class\n",
        "simple_obp_vs_runs.fit(obp_X, runs_Y)  # perform linear regression\n",
        "runs_Y_pred = simple_obp_vs_runs.predict(obp_X)  # make predictions"
      ],
      "execution_count": null,
      "outputs": []
    },
    {
      "cell_type": "code",
      "metadata": {
        "id": "XUIgpPLztFpO",
        "outputId": "b417590f-5418-42a9-fba3-2f3f7005ecc4",
        "colab": {
          "base_uri": "https://localhost:8080/",
          "height": 266
        }
      },
      "source": [
        "plt.scatter(obp_X, runs_Y)\n",
        "plt.plot(obp_X, runs_Y_pred, color='red')\n",
        "plt.show()"
      ],
      "execution_count": null,
      "outputs": [
        {
          "output_type": "display_data",
          "data": {
            "image/png": "[encoded data removed]",
            "text/plain": [
              "<Figure size 432x288 with 1 Axes>"
            ]
          },
          "metadata": {
            "tags": [],
            "needs_background": "light"
          }
        }
      ]
    },
    {
      "cell_type": "code",
      "metadata": {
        "id": "Dw8M4ybOtNsd",
        "outputId": "9b8d9fd5-fc11-442e-d7f1-17d63d3a2ef7",
        "colab": {
          "base_uri": "https://localhost:8080/"
        }
      },
      "source": [
        "print('Weight coefficients: ', simple_obp_vs_runs.coef_)\n",
        "print('y-axis intercept: ', simple_obp_vs_runs.intercept_) \n",
        "obp_predictions = simple_obp_vs_runs.predict(obp_X)\n",
        "print(f\"True output: {runs_Y_pred[20]}\")\n",
        "print(f\"Predicted output: {obp_predictions[20]}\")\n",
        "print(f\"Prediction Error: {obp_predictions[20]-runs_Y_pred[20]}\")\n",
        "\n",
        "from sklearn.metrics import mean_squared_error, r2_score\n",
        "\n",
        "# Use our model to predict a value\n",
        "obp_predicted = simple_obp_vs_runs.predict(obp_X)\n",
        "\n",
        "# Score the prediction with mse and r2\n",
        "obp_mse = mean_squared_error(runs_Y, obp_predicted)\n",
        "obp_r2 = r2_score(runs_Y, obp_predicted)\n",
        "\n",
        "print(f\"Mean Squared Error (MSE): {obp_mse}\")\n",
        "print(f\"R-squared (R2 ): {obp_r2}\")\n",
        "\n",
        "linear_regressor_obp = simple_obp_vs_runs.score(obp_X, runs_Y)\n",
        "print(f\"Linear Regressor Score (X, Y): {linear_regressor_obp}\")"
      ],
      "execution_count": null,
      "outputs": [
        {
          "output_type": "stream",
          "text": [
            "Weight coefficients:  [[192.3264886]]\n",
            "y-axis intercept:  [-22.92149307]\n",
            "True output: [52.27816398]\n",
            "Predicted output: [52.27816398]\n",
            "Prediction Error: [0.]\n",
            "Mean Squared Error (MSE): 723.9730642178612\n",
            "R-squared (R2 ): 0.2621353073055468\n",
            "Linear Regressor Score (X, Y): 0.2621353073055468\n"
          ],
          "name": "stdout"
        }
      ]
    },
    {
      "cell_type": "code",
      "metadata": {
        "id": "4zW_4EXNtsJw"
      },
      "source": [
        ""
      ],
      "execution_count": null,
      "outputs": []
    },
    {
      "cell_type": "code",
      "metadata": {
        "id": "syk_qUDBtwR-"
      },
      "source": [
        "#Slugging Percentage vs. Runs Scored\n",
        "\n",
        "slug_X = data.iloc[:, 21].values.reshape(-1, 1)  # values converts it into a numpy array\n",
        "obp_Y = data.iloc[:, 6].values.reshape(-1, 1)  # -1 means that calculate the dimension of rows, but have 1 column\n",
        "simple_slug_vs_runs = LinearRegression()  # create object for the class\n",
        "simple_slug_vs_runs.fit(slug_X, runs_Y)  # perform linear regression\n",
        "runs_Y_pred = simple_slug_vs_runs.predict(slug_X)  # make predictions"
      ],
      "execution_count": null,
      "outputs": []
    },
    {
      "cell_type": "code",
      "metadata": {
        "id": "Q9NtakJIuEok",
        "outputId": "49679b9a-1444-4fcc-fd10-66eb573a3230",
        "colab": {
          "base_uri": "https://localhost:8080/",
          "height": 266
        }
      },
      "source": [
        "plt.scatter(slug_X, runs_Y)\n",
        "plt.plot(slug_X, runs_Y_pred, color='red')\n",
        "plt.show()"
      ],
      "execution_count": null,
      "outputs": [
        {
          "output_type": "display_data",
          "data": {
            "image/png": "[encoded data removed]",
            "text/plain": [
              "<Figure size 432x288 with 1 Axes>"
            ]
          },
          "metadata": {
            "tags": [],
            "needs_background": "light"
          }
        }
      ]
    },
    {
      "cell_type": "code",
      "metadata": {
        "id": "Xq5_-UBluJqU",
        "outputId": "400f1226-0232-4cb1-d565-087472876777",
        "colab": {
          "base_uri": "https://localhost:8080/"
        }
      },
      "source": [
        "print('Weight coefficients: ', simple_slug_vs_runs.coef_)\n",
        "print('y-axis intercept: ', simple_slug_vs_runs.intercept_) \n",
        "slug_predictions = simple_slug_vs_runs.predict(obp_X)\n",
        "print(f\"True output: {runs_Y_pred[21]}\")\n",
        "print(f\"Predicted output: {slug_predictions[21]}\")\n",
        "print(f\"Prediction Error: {slug_predictions[21]-runs_Y_pred[21]}\")\n",
        "\n",
        "from sklearn.metrics import mean_squared_error, r2_score\n",
        "\n",
        "# Use our model to predict a value\n",
        "slug_predicted = simple_slug_vs_runs.predict(slug_X)\n",
        "\n",
        "# Score the prediction with mse and r2\n",
        "slug_mse = mean_squared_error(runs_Y, slug_predicted)\n",
        "slug_r2 = r2_score(runs_Y, slug_predicted)\n",
        "\n",
        "print(f\"Mean Squared Error (MSE): {slug_mse}\")\n",
        "print(f\"R-squared (R2 ): {slug_r2}\")\n",
        "\n",
        "linear_regressor_slug = simple_slug_vs_runs.score(slug_X, runs_Y)\n",
        "print(f\"Linear Regressor Score (X, Y): {linear_regressor_slug}\")"
      ],
      "execution_count": null,
      "outputs": [
        {
          "output_type": "stream",
          "text": [
            "Weight coefficients:  [[127.25952478]]\n",
            "y-axis intercept:  [-14.8732412]\n",
            "True output: [59.31906175]\n",
            "Predicted output: [30.68566868]\n",
            "Prediction Error: [-28.63339308]\n",
            "Mean Squared Error (MSE): 648.2864445314336\n",
            "R-squared (R2 ): 0.3392742053339439\n",
            "Linear Regressor Score (X, Y): 0.3392742053339439\n"
          ],
          "name": "stdout"
        }
      ]
    },
    {
      "cell_type": "code",
      "metadata": {
        "id": "LbIRgK-RuZ9O"
      },
      "source": [
        ""
      ],
      "execution_count": null,
      "outputs": []
    },
    {
      "cell_type": "code",
      "metadata": {
        "id": "7hHd1cvTuel6"
      },
      "source": [
        "#On Base Plus Slugging vs. Runs Scored\n",
        "\n",
        "ops_X = data.iloc[:, 22].values.reshape(-1, 1)  # values converts it into a numpy array\n",
        "ops_Y = data.iloc[:, 6].values.reshape(-1, 1)  # -1 means that calculate the dimension of rows, but have 1 column\n",
        "simple_ops_vs_runs = LinearRegression()  # create object for the class\n",
        "simple_ops_vs_runs.fit(ops_X, runs_Y)  # perform linear regression\n",
        "runs_Y_pred = simple_ops_vs_runs.predict(ops_X)  # make predictions"
      ],
      "execution_count": null,
      "outputs": []
    },
    {
      "cell_type": "code",
      "metadata": {
        "id": "59sv2V-Luwp4",
        "outputId": "99afc60b-43e3-4110-c893-03b40a92afd2",
        "colab": {
          "base_uri": "https://localhost:8080/",
          "height": 266
        }
      },
      "source": [
        "plt.scatter(ops_X, runs_Y)\n",
        "plt.plot(ops_X, runs_Y_pred, color='red')\n",
        "plt.show()"
      ],
      "execution_count": null,
      "outputs": [
        {
          "output_type": "display_data",
          "data": {
            "image/png": "[encoded data removed]",
            "text/plain": [
              "<Figure size 432x288 with 1 Axes>"
            ]
          },
          "metadata": {
            "tags": [],
            "needs_background": "light"
          }
        }
      ]
    },
    {
      "cell_type": "code",
      "metadata": {
        "id": "c3NTzWZcu3yw",
        "outputId": "92aa9acb-2e8e-481f-b53d-b97a95f0a4ca",
        "colab": {
          "base_uri": "https://localhost:8080/"
        }
      },
      "source": [
        "print('Weight coefficients: ', simple_ops_vs_runs.coef_)\n",
        "print('y-axis intercept: ', simple_ops_vs_runs.intercept_) \n",
        "ops_predictions = simple_ops_vs_runs.predict(obp_X)\n",
        "print(f\"True output: {runs_Y_pred[22]}\")\n",
        "print(f\"Predicted output: {ops_predictions[22]}\")\n",
        "print(f\"Prediction Error: {ops_predictions[22]-runs_Y_pred[22]}\")\n",
        "\n",
        "from sklearn.metrics import mean_squared_error, r2_score\n",
        "\n",
        "# Use our model to predict a value\n",
        "ops_predicted = simple_ops_vs_runs.predict(ops_X)\n",
        "\n",
        "# Score the prediction with mse and r2\n",
        "ops_mse = mean_squared_error(runs_Y, ops_predicted)\n",
        "ops_r2 = r2_score(runs_Y, ops_predicted)\n",
        "\n",
        "print(f\"Mean Squared Error (MSE): {ops_mse}\")\n",
        "print(f\"R-squared (R2 ): {ops_r2}\")\n",
        "\n",
        "linear_regressor_ops = simple_ops_vs_runs.score(ops_X, runs_Y)\n",
        "print(f\"Linear Regressor Score (X, Y): {linear_regressor_ops}\")"
      ],
      "execution_count": null,
      "outputs": [
        {
          "output_type": "stream",
          "text": [
            "Weight coefficients:  [[83.6942948]]\n",
            "y-axis intercept:  [-22.86225225]\n",
            "True output: [38.56936013]\n",
            "Predicted output: [6.43075093]\n",
            "Prediction Error: [-32.1386092]\n",
            "Mean Squared Error (MSE): 650.3195975327864\n",
            "R-squared (R2 ): 0.3372020400992267\n",
            "Linear Regressor Score (X, Y): 0.3372020400992267\n"
          ],
          "name": "stdout"
        }
      ]
    },
    {
      "cell_type": "code",
      "metadata": {
        "id": "o5uYBwGMvYKr",
        "outputId": "2e88c839-c0d1-4543-9b00-4a2f18bfdecf",
        "colab": {
          "base_uri": "https://localhost:8080/"
        }
      },
      "source": [
        "#List of R-Squared Values\n",
        "\n",
        "print(f\"R-squared for Age (R2 ): {age_r2}\")\n",
        "print(f\"R-squared for Games Played (R2 ): {games_r2}\")\n",
        "print(f\"R-squared for At Bats (R2 ): {bats_r2}\")\n",
        "print(f\"R-squared for Hits (R2 ): {hit_r2}\")\n",
        "print(f\"R-squared for Doubles (R2 ): {double_r2}\")\n",
        "print(f\"R-squared for Triples (R2 ): {triple_r2}\")\n",
        "print(f\"R-squared for Home Runs (R2 ): {home_r2}\")\n",
        "print(f\"R-squared for RBIs(R2 ): {rbi_r2}\")\n",
        "print(f\"R-squared for Stolen Bases (R2 ): {stolen_r2}\")\n",
        "print(f\"R-squared for Caught Stealing(R2 ): {caught_r2}\")\n",
        "print(f\"R-squared for Walks (R2 ): {walk_r2}\")\n",
        "print(f\"R-squared for Strike Outs (R2 ): {strike_r2}\")\n",
        "print(f\"R-squared for Sacrifice Bunts (R2 ): {bunt_r2}\")\n",
        "print(f\"R-squared for Sacrifice Flys(R2 ): {fly_r2}\")\n",
        "print(f\"R-squared for Hit By Pitcher (R2 ): {pitch_r2}\")\n",
        "print(f\"R-squared for Batting Average (R2 ): {ba_r2}\")\n",
        "print(f\"R-squared for On Base Percentage (R2 ): {obp_r2}\")\n",
        "print(f\"R-squared for Slugging Percentage (R2 ): {slug_r2}\")\n",
        "print(f\"R-squared for On Base plus Slugging Percentage (R2 ): {ops_r2}\")"
      ],
      "execution_count": null,
      "outputs": [
        {
          "output_type": "stream",
          "text": [
            "R-squared for Age (R2 ): 0.00010775928283623948\n",
            "R-squared for Games Played (R2 ): -0.6120005419320975\n",
            "R-squared for At Bats (R2 ): 0.9174541396729957\n",
            "R-squared for Hits (R2 ): 0.9329707520965016\n",
            "R-squared for Doubles (R2 ): 0.8720018484118175\n",
            "R-squared for Triples (R2 ): 0.3591492877361948\n",
            "R-squared for Home Runs (R2 ): 0.8164322595812916\n",
            "R-squared for RBIs(R2 ): 0.8947371088517857\n",
            "R-squared for Stolen Bases (R2 ): 0.2922053840339961\n",
            "R-squared for Caught Stealing(R2 ): 0.3217053900768978\n",
            "R-squared for Walks (R2 ): 0.7827845501355264\n",
            "R-squared for Strike Outs (R2 ): 0.7551034605901651\n",
            "R-squared for Sacrifice Bunts (R2 ): 0.017725635937153594\n",
            "R-squared for Sacrifice Flys(R2 ): 0.45335607007733103\n",
            "R-squared for Hit By Pitcher (R2 ): 0.37972138050908\n",
            "R-squared for Batting Average (R2 ): 0.27736752091285666\n",
            "R-squared for On Base Percentage (R2 ): 0.2621353073055468\n",
            "R-squared for Slugging Percentage (R2 ): 0.3392742053339439\n",
            "R-squared for On Base plus Slugging Percentage (R2 ): 0.3372020400992267\n"
          ],
          "name": "stdout"
        }
      ]
    },
    {
      "cell_type": "code",
      "metadata": {
        "id": "AIK1c2S7G8Gu",
        "outputId": "e37d7de6-7f62-4e22-9366-3d86d60a0ba3",
        "colab": {
          "base_uri": "https://localhost:8080/"
        }
      },
      "source": [
        "print(f\"{age_r2}\")\n",
        "print(f\"{games_r2}\")\n",
        "print(f\"{bats_r2}\")\n",
        "print(f\"{hit_r2}\")\n",
        "print(f\"{double_r2}\")\n",
        "print(f\"{triple_r2}\")\n",
        "print(f\"{home_r2}\")\n",
        "print(f\"{rbi_r2}\")\n",
        "print(f\"{stolen_r2}\")\n",
        "print(f\"{caught_r2}\")\n",
        "print(f\"{walk_r2}\")\n",
        "print(f\"{strike_r2}\")\n",
        "print(f\"{bunt_r2}\")\n",
        "print(f\"{fly_r2}\")\n",
        "print(f\"{pitch_r2}\")\n",
        "print(f\"{ba_r2}\")\n",
        "print(f\"{obp_r2}\")\n",
        "print(f\"{slug_r2}\")\n",
        "print(f\"{ops_r2}\")"
      ],
      "execution_count": null,
      "outputs": [
        {
          "output_type": "stream",
          "text": [
            "0.00010775928283623948\n",
            "-0.6120005419320975\n",
            "0.9174541396729957\n",
            "0.9329707520965016\n",
            "0.8720018484118175\n",
            "0.3591492877361948\n",
            "0.8164322595812916\n",
            "0.8947371088517857\n",
            "0.2922053840339961\n",
            "0.3217053900768978\n",
            "0.7827845501355264\n",
            "0.7551034605901651\n",
            "0.017725635937153594\n",
            "0.45335607007733103\n",
            "0.37972138050908\n",
            "0.27736752091285666\n",
            "0.2621353073055468\n",
            "0.3392742053339439\n",
            "0.3372020400992267\n"
          ],
          "name": "stdout"
        }
      ]
    },
    {
      "cell_type": "code",
      "metadata": {
        "id": "qIvNm1pKOKMf"
      },
      "source": [
        ""
      ],
      "execution_count": null,
      "outputs": []
    }
  ]
}