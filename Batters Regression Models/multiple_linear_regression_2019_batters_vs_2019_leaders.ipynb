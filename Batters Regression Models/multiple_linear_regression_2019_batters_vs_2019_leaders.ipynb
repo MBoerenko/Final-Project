{
  "nbformat": 4,
  "nbformat_minor": 0,
  "metadata": {
    "colab": {
      "name": "multiple linear regression 2019 batters vs 2019 leaders.ipynb",
      "provenance": [],
      "collapsed_sections": [],
      "mount_file_id": "1GxuZZsVotq5kTU4cIu6DSbggGNLPnTq_",
      "authorship_tag": "ABX9TyPxZ2+NJc27hit9umGbUlcG",
      "include_colab_link": true
    },
    "kernelspec": {
      "name": "python3",
      "display_name": "Python 3"
    }
  },
  "cells": [
    {
      "cell_type": "markdown",
      "metadata": {
        "id": "view-in-github",
        "colab_type": "text"
      },
      "source": [
        "<a href=\"https://colab.research.google.com/github/MBoerenko/Final-Project/blob/main/multiple_linear_regression_2019_batters_vs_2019_leaders.ipynb\" target=\"_parent\"><img src=\"https://colab.research.google.com/assets/colab-badge.svg\" alt=\"Open In Colab\"/></a>"
      ]
    },
    {
      "cell_type": "code",
      "metadata": {
        "id": "U9DuVGOs6t8C"
      },
      "source": [
        "%matplotlib inline\n",
        "import matplotlib.pyplot as plt\n",
        "import numpy as np\n",
        "import pandas as pd"
      ],
      "execution_count": 47,
      "outputs": []
    },
    {
      "cell_type": "code",
      "metadata": {
        "id": "naxp7XI661bb",
        "outputId": "874e7a68-e040-4a1f-c0ca-ea5cad67e225",
        "colab": {
          "base_uri": "https://localhost:8080/",
          "height": 204
        }
      },
      "source": [
        "data = pd.read_csv('/content/drive/My Drive/Batters_Data_Sets/Multiple_Linear_Regression_for_Batters/multi_2019_batters_leaders.csv')\n",
        "data.head()"
      ],
      "execution_count": 48,
      "outputs": [
        {
          "output_type": "execute_result",
          "data": {
            "text/html": [
              "<div>\n",
              "<style scoped>\n",
              "    .dataframe tbody tr th:only-of-type {\n",
              "        vertical-align: middle;\n",
              "    }\n",
              "\n",
              "    .dataframe tbody tr th {\n",
              "        vertical-align: top;\n",
              "    }\n",
              "\n",
              "    .dataframe thead th {\n",
              "        text-align: right;\n",
              "    }\n",
              "</style>\n",
              "<table border=\"1\" class=\"dataframe\">\n",
              "  <thead>\n",
              "    <tr style=\"text-align: right;\">\n",
              "      <th></th>\n",
              "      <th>players</th>\n",
              "      <th>team</th>\n",
              "      <th>pos</th>\n",
              "      <th>age</th>\n",
              "      <th>g</th>\n",
              "      <th>ab</th>\n",
              "      <th>r</th>\n",
              "      <th>h</th>\n",
              "      <th>2b</th>\n",
              "      <th>3b</th>\n",
              "      <th>hr</th>\n",
              "      <th>rbi</th>\n",
              "      <th>sb</th>\n",
              "      <th>cs</th>\n",
              "      <th>bb</th>\n",
              "      <th>so</th>\n",
              "      <th>sh</th>\n",
              "      <th>sf</th>\n",
              "      <th>hbp</th>\n",
              "      <th>avg</th>\n",
              "      <th>obp</th>\n",
              "      <th>slg</th>\n",
              "      <th>ops</th>\n",
              "    </tr>\n",
              "  </thead>\n",
              "  <tbody>\n",
              "    <tr>\n",
              "      <th>0</th>\n",
              "      <td>Whit Merrifield</td>\n",
              "      <td>KC</td>\n",
              "      <td>2B</td>\n",
              "      <td>31</td>\n",
              "      <td>162</td>\n",
              "      <td>681</td>\n",
              "      <td>105</td>\n",
              "      <td>206</td>\n",
              "      <td>41</td>\n",
              "      <td>10</td>\n",
              "      <td>16</td>\n",
              "      <td>74</td>\n",
              "      <td>20</td>\n",
              "      <td>10</td>\n",
              "      <td>45</td>\n",
              "      <td>126</td>\n",
              "      <td>0</td>\n",
              "      <td>4</td>\n",
              "      <td>5</td>\n",
              "      <td>0.302</td>\n",
              "      <td>0.348</td>\n",
              "      <td>0.463</td>\n",
              "      <td>0.811</td>\n",
              "    </tr>\n",
              "    <tr>\n",
              "      <th>1</th>\n",
              "      <td>Marcus Semien</td>\n",
              "      <td>OAK</td>\n",
              "      <td>SS</td>\n",
              "      <td>30</td>\n",
              "      <td>162</td>\n",
              "      <td>657</td>\n",
              "      <td>123</td>\n",
              "      <td>187</td>\n",
              "      <td>43</td>\n",
              "      <td>7</td>\n",
              "      <td>33</td>\n",
              "      <td>92</td>\n",
              "      <td>10</td>\n",
              "      <td>8</td>\n",
              "      <td>87</td>\n",
              "      <td>102</td>\n",
              "      <td>0</td>\n",
              "      <td>1</td>\n",
              "      <td>2</td>\n",
              "      <td>0.285</td>\n",
              "      <td>0.369</td>\n",
              "      <td>0.522</td>\n",
              "      <td>0.891</td>\n",
              "    </tr>\n",
              "    <tr>\n",
              "      <th>2</th>\n",
              "      <td>Rafael Devers</td>\n",
              "      <td>BOS</td>\n",
              "      <td>3B</td>\n",
              "      <td>24</td>\n",
              "      <td>156</td>\n",
              "      <td>647</td>\n",
              "      <td>129</td>\n",
              "      <td>201</td>\n",
              "      <td>54</td>\n",
              "      <td>4</td>\n",
              "      <td>32</td>\n",
              "      <td>115</td>\n",
              "      <td>8</td>\n",
              "      <td>8</td>\n",
              "      <td>48</td>\n",
              "      <td>119</td>\n",
              "      <td>1</td>\n",
              "      <td>2</td>\n",
              "      <td>4</td>\n",
              "      <td>0.311</td>\n",
              "      <td>0.361</td>\n",
              "      <td>0.555</td>\n",
              "      <td>0.916</td>\n",
              "    </tr>\n",
              "    <tr>\n",
              "      <th>3</th>\n",
              "      <td>Jonathan Villar</td>\n",
              "      <td>BAL</td>\n",
              "      <td>2B</td>\n",
              "      <td>29</td>\n",
              "      <td>162</td>\n",
              "      <td>642</td>\n",
              "      <td>111</td>\n",
              "      <td>176</td>\n",
              "      <td>33</td>\n",
              "      <td>5</td>\n",
              "      <td>24</td>\n",
              "      <td>73</td>\n",
              "      <td>40</td>\n",
              "      <td>9</td>\n",
              "      <td>61</td>\n",
              "      <td>176</td>\n",
              "      <td>2</td>\n",
              "      <td>4</td>\n",
              "      <td>4</td>\n",
              "      <td>0.274</td>\n",
              "      <td>0.339</td>\n",
              "      <td>0.453</td>\n",
              "      <td>0.792</td>\n",
              "    </tr>\n",
              "    <tr>\n",
              "      <th>4</th>\n",
              "      <td>Ozzie Albies</td>\n",
              "      <td>ATL</td>\n",
              "      <td>2B</td>\n",
              "      <td>23</td>\n",
              "      <td>160</td>\n",
              "      <td>640</td>\n",
              "      <td>102</td>\n",
              "      <td>189</td>\n",
              "      <td>43</td>\n",
              "      <td>8</td>\n",
              "      <td>24</td>\n",
              "      <td>86</td>\n",
              "      <td>15</td>\n",
              "      <td>4</td>\n",
              "      <td>54</td>\n",
              "      <td>112</td>\n",
              "      <td>0</td>\n",
              "      <td>4</td>\n",
              "      <td>4</td>\n",
              "      <td>0.295</td>\n",
              "      <td>0.352</td>\n",
              "      <td>0.500</td>\n",
              "      <td>0.852</td>\n",
              "    </tr>\n",
              "  </tbody>\n",
              "</table>\n",
              "</div>"
            ],
            "text/plain": [
              "           players team pos  age    g   ab  ...  sf  hbp    avg    obp    slg    ops\n",
              "0  Whit Merrifield   KC  2B   31  162  681  ...   4    5  0.302  0.348  0.463  0.811\n",
              "1    Marcus Semien  OAK  SS   30  162  657  ...   1    2  0.285  0.369  0.522  0.891\n",
              "2    Rafael Devers  BOS  3B   24  156  647  ...   2    4  0.311  0.361  0.555  0.916\n",
              "3  Jonathan Villar  BAL  2B   29  162  642  ...   4    4  0.274  0.339  0.453  0.792\n",
              "4     Ozzie Albies  ATL  2B   23  160  640  ...   4    4  0.295  0.352  0.500  0.852\n",
              "\n",
              "[5 rows x 23 columns]"
            ]
          },
          "metadata": {
            "tags": []
          },
          "execution_count": 48
        }
      ]
    },
    {
      "cell_type": "code",
      "metadata": {
        "id": "Lshf3gk78vGw",
        "outputId": "cf13e353-3a1f-4e7a-d968-8ea470de8fe6",
        "colab": {
          "base_uri": "https://localhost:8080/"
        }
      },
      "source": [
        "#All X Values\n",
        "# Assign the data to X and y\n",
        "X = data[[\"age\",\"g\",\"ab\",\"h\",\"2b\",\"3b\",\"hr\",\"rbi\",\"sb\",\"cs\",\"bb\",\"so\",\"sh\",\"sf\",\"hbp\",\"avg\",\"obp\",\"slg\",\"ops\"]]\n",
        "y = data[\"r\"].values.reshape(-1, 1)\n",
        "print(X.shape, y.shape)"
      ],
      "execution_count": 49,
      "outputs": [
        {
          "output_type": "stream",
          "text": [
            "(829, 19) (829, 1)\n"
          ],
          "name": "stdout"
        }
      ]
    },
    {
      "cell_type": "code",
      "metadata": {
        "id": "3WggihWA9AmM"
      },
      "source": [
        "# Use train_test_split to create training and testing data\n",
        "\n",
        "### BEGIN SOLUTION\n",
        "from sklearn.model_selection import train_test_split\n",
        "\n",
        "X_train, X_test, y_train, y_test = train_test_split(X, y, test_size = 0.24, shuffle=False)\n",
        "\n",
        "### END SOLUTION"
      ],
      "execution_count": 50,
      "outputs": []
    },
    {
      "cell_type": "code",
      "metadata": {
        "id": "6US50PEh9GGK",
        "outputId": "9792e367-46cb-4b68-d539-d32486961fa3",
        "colab": {
          "base_uri": "https://localhost:8080/",
          "height": 419
        }
      },
      "source": [
        "X_train"
      ],
      "execution_count": 51,
      "outputs": [
        {
          "output_type": "execute_result",
          "data": {
            "text/html": [
              "<div>\n",
              "<style scoped>\n",
              "    .dataframe tbody tr th:only-of-type {\n",
              "        vertical-align: middle;\n",
              "    }\n",
              "\n",
              "    .dataframe tbody tr th {\n",
              "        vertical-align: top;\n",
              "    }\n",
              "\n",
              "    .dataframe thead th {\n",
              "        text-align: right;\n",
              "    }\n",
              "</style>\n",
              "<table border=\"1\" class=\"dataframe\">\n",
              "  <thead>\n",
              "    <tr style=\"text-align: right;\">\n",
              "      <th></th>\n",
              "      <th>age</th>\n",
              "      <th>g</th>\n",
              "      <th>ab</th>\n",
              "      <th>h</th>\n",
              "      <th>2b</th>\n",
              "      <th>3b</th>\n",
              "      <th>hr</th>\n",
              "      <th>rbi</th>\n",
              "      <th>sb</th>\n",
              "      <th>cs</th>\n",
              "      <th>bb</th>\n",
              "      <th>so</th>\n",
              "      <th>sh</th>\n",
              "      <th>sf</th>\n",
              "      <th>hbp</th>\n",
              "      <th>avg</th>\n",
              "      <th>obp</th>\n",
              "      <th>slg</th>\n",
              "      <th>ops</th>\n",
              "    </tr>\n",
              "  </thead>\n",
              "  <tbody>\n",
              "    <tr>\n",
              "      <th>0</th>\n",
              "      <td>31</td>\n",
              "      <td>162</td>\n",
              "      <td>681</td>\n",
              "      <td>206</td>\n",
              "      <td>41</td>\n",
              "      <td>10</td>\n",
              "      <td>16</td>\n",
              "      <td>74</td>\n",
              "      <td>20</td>\n",
              "      <td>10</td>\n",
              "      <td>45</td>\n",
              "      <td>126</td>\n",
              "      <td>0</td>\n",
              "      <td>4</td>\n",
              "      <td>5</td>\n",
              "      <td>0.302</td>\n",
              "      <td>0.348</td>\n",
              "      <td>0.463</td>\n",
              "      <td>0.811</td>\n",
              "    </tr>\n",
              "    <tr>\n",
              "      <th>1</th>\n",
              "      <td>30</td>\n",
              "      <td>162</td>\n",
              "      <td>657</td>\n",
              "      <td>187</td>\n",
              "      <td>43</td>\n",
              "      <td>7</td>\n",
              "      <td>33</td>\n",
              "      <td>92</td>\n",
              "      <td>10</td>\n",
              "      <td>8</td>\n",
              "      <td>87</td>\n",
              "      <td>102</td>\n",
              "      <td>0</td>\n",
              "      <td>1</td>\n",
              "      <td>2</td>\n",
              "      <td>0.285</td>\n",
              "      <td>0.369</td>\n",
              "      <td>0.522</td>\n",
              "      <td>0.891</td>\n",
              "    </tr>\n",
              "    <tr>\n",
              "      <th>2</th>\n",
              "      <td>24</td>\n",
              "      <td>156</td>\n",
              "      <td>647</td>\n",
              "      <td>201</td>\n",
              "      <td>54</td>\n",
              "      <td>4</td>\n",
              "      <td>32</td>\n",
              "      <td>115</td>\n",
              "      <td>8</td>\n",
              "      <td>8</td>\n",
              "      <td>48</td>\n",
              "      <td>119</td>\n",
              "      <td>1</td>\n",
              "      <td>2</td>\n",
              "      <td>4</td>\n",
              "      <td>0.311</td>\n",
              "      <td>0.361</td>\n",
              "      <td>0.555</td>\n",
              "      <td>0.916</td>\n",
              "    </tr>\n",
              "    <tr>\n",
              "      <th>3</th>\n",
              "      <td>29</td>\n",
              "      <td>162</td>\n",
              "      <td>642</td>\n",
              "      <td>176</td>\n",
              "      <td>33</td>\n",
              "      <td>5</td>\n",
              "      <td>24</td>\n",
              "      <td>73</td>\n",
              "      <td>40</td>\n",
              "      <td>9</td>\n",
              "      <td>61</td>\n",
              "      <td>176</td>\n",
              "      <td>2</td>\n",
              "      <td>4</td>\n",
              "      <td>4</td>\n",
              "      <td>0.274</td>\n",
              "      <td>0.339</td>\n",
              "      <td>0.453</td>\n",
              "      <td>0.792</td>\n",
              "    </tr>\n",
              "    <tr>\n",
              "      <th>4</th>\n",
              "      <td>23</td>\n",
              "      <td>160</td>\n",
              "      <td>640</td>\n",
              "      <td>189</td>\n",
              "      <td>43</td>\n",
              "      <td>8</td>\n",
              "      <td>24</td>\n",
              "      <td>86</td>\n",
              "      <td>15</td>\n",
              "      <td>4</td>\n",
              "      <td>54</td>\n",
              "      <td>112</td>\n",
              "      <td>0</td>\n",
              "      <td>4</td>\n",
              "      <td>4</td>\n",
              "      <td>0.295</td>\n",
              "      <td>0.352</td>\n",
              "      <td>0.500</td>\n",
              "      <td>0.852</td>\n",
              "    </tr>\n",
              "    <tr>\n",
              "      <th>...</th>\n",
              "      <td>...</td>\n",
              "      <td>...</td>\n",
              "      <td>...</td>\n",
              "      <td>...</td>\n",
              "      <td>...</td>\n",
              "      <td>...</td>\n",
              "      <td>...</td>\n",
              "      <td>...</td>\n",
              "      <td>...</td>\n",
              "      <td>...</td>\n",
              "      <td>...</td>\n",
              "      <td>...</td>\n",
              "      <td>...</td>\n",
              "      <td>...</td>\n",
              "      <td>...</td>\n",
              "      <td>...</td>\n",
              "      <td>...</td>\n",
              "      <td>...</td>\n",
              "      <td>...</td>\n",
              "    </tr>\n",
              "    <tr>\n",
              "      <th>625</th>\n",
              "      <td>30</td>\n",
              "      <td>12</td>\n",
              "      <td>17</td>\n",
              "      <td>4</td>\n",
              "      <td>1</td>\n",
              "      <td>0</td>\n",
              "      <td>1</td>\n",
              "      <td>2</td>\n",
              "      <td>0</td>\n",
              "      <td>0</td>\n",
              "      <td>2</td>\n",
              "      <td>4</td>\n",
              "      <td>0</td>\n",
              "      <td>0</td>\n",
              "      <td>0</td>\n",
              "      <td>0.235</td>\n",
              "      <td>0.316</td>\n",
              "      <td>0.471</td>\n",
              "      <td>0.787</td>\n",
              "    </tr>\n",
              "    <tr>\n",
              "      <th>626</th>\n",
              "      <td>40</td>\n",
              "      <td>6</td>\n",
              "      <td>17</td>\n",
              "      <td>1</td>\n",
              "      <td>0</td>\n",
              "      <td>0</td>\n",
              "      <td>0</td>\n",
              "      <td>0</td>\n",
              "      <td>0</td>\n",
              "      <td>0</td>\n",
              "      <td>0</td>\n",
              "      <td>8</td>\n",
              "      <td>0</td>\n",
              "      <td>0</td>\n",
              "      <td>0</td>\n",
              "      <td>0.059</td>\n",
              "      <td>0.059</td>\n",
              "      <td>0.059</td>\n",
              "      <td>0.118</td>\n",
              "    </tr>\n",
              "    <tr>\n",
              "      <th>627</th>\n",
              "      <td>37</td>\n",
              "      <td>9</td>\n",
              "      <td>17</td>\n",
              "      <td>4</td>\n",
              "      <td>0</td>\n",
              "      <td>0</td>\n",
              "      <td>1</td>\n",
              "      <td>3</td>\n",
              "      <td>0</td>\n",
              "      <td>0</td>\n",
              "      <td>3</td>\n",
              "      <td>4</td>\n",
              "      <td>0</td>\n",
              "      <td>0</td>\n",
              "      <td>0</td>\n",
              "      <td>0.235</td>\n",
              "      <td>0.350</td>\n",
              "      <td>0.412</td>\n",
              "      <td>0.762</td>\n",
              "    </tr>\n",
              "    <tr>\n",
              "      <th>628</th>\n",
              "      <td>32</td>\n",
              "      <td>8</td>\n",
              "      <td>16</td>\n",
              "      <td>1</td>\n",
              "      <td>0</td>\n",
              "      <td>0</td>\n",
              "      <td>0</td>\n",
              "      <td>2</td>\n",
              "      <td>0</td>\n",
              "      <td>0</td>\n",
              "      <td>1</td>\n",
              "      <td>6</td>\n",
              "      <td>0</td>\n",
              "      <td>0</td>\n",
              "      <td>0</td>\n",
              "      <td>0.063</td>\n",
              "      <td>0.118</td>\n",
              "      <td>0.063</td>\n",
              "      <td>0.181</td>\n",
              "    </tr>\n",
              "    <tr>\n",
              "      <th>629</th>\n",
              "      <td>31</td>\n",
              "      <td>5</td>\n",
              "      <td>16</td>\n",
              "      <td>1</td>\n",
              "      <td>0</td>\n",
              "      <td>0</td>\n",
              "      <td>0</td>\n",
              "      <td>1</td>\n",
              "      <td>0</td>\n",
              "      <td>0</td>\n",
              "      <td>0</td>\n",
              "      <td>3</td>\n",
              "      <td>0</td>\n",
              "      <td>1</td>\n",
              "      <td>0</td>\n",
              "      <td>0.063</td>\n",
              "      <td>0.059</td>\n",
              "      <td>0.063</td>\n",
              "      <td>0.122</td>\n",
              "    </tr>\n",
              "  </tbody>\n",
              "</table>\n",
              "<p>630 rows × 19 columns</p>\n",
              "</div>"
            ],
            "text/plain": [
              "     age    g   ab    h  2b  3b  hr  ...  sh  sf  hbp    avg    obp    slg    ops\n",
              "0     31  162  681  206  41  10  16  ...   0   4    5  0.302  0.348  0.463  0.811\n",
              "1     30  162  657  187  43   7  33  ...   0   1    2  0.285  0.369  0.522  0.891\n",
              "2     24  156  647  201  54   4  32  ...   1   2    4  0.311  0.361  0.555  0.916\n",
              "3     29  162  642  176  33   5  24  ...   2   4    4  0.274  0.339  0.453  0.792\n",
              "4     23  160  640  189  43   8  24  ...   0   4    4  0.295  0.352  0.500  0.852\n",
              "..   ...  ...  ...  ...  ..  ..  ..  ...  ..  ..  ...    ...    ...    ...    ...\n",
              "625   30   12   17    4   1   0   1  ...   0   0    0  0.235  0.316  0.471  0.787\n",
              "626   40    6   17    1   0   0   0  ...   0   0    0  0.059  0.059  0.059  0.118\n",
              "627   37    9   17    4   0   0   1  ...   0   0    0  0.235  0.350  0.412  0.762\n",
              "628   32    8   16    1   0   0   0  ...   0   0    0  0.063  0.118  0.063  0.181\n",
              "629   31    5   16    1   0   0   0  ...   0   1    0  0.063  0.059  0.063  0.122\n",
              "\n",
              "[630 rows x 19 columns]"
            ]
          },
          "metadata": {
            "tags": []
          },
          "execution_count": 51
        }
      ]
    },
    {
      "cell_type": "code",
      "metadata": {
        "id": "Zd6nojob9HO8"
      },
      "source": [
        "# Create the model using LinearRegression\n",
        "\n",
        "### BEGIN SOLUTION\n",
        "from sklearn.linear_model import LinearRegression\n",
        "model = LinearRegression()\n",
        "### END SOLUTION"
      ],
      "execution_count": 52,
      "outputs": []
    },
    {
      "cell_type": "code",
      "metadata": {
        "id": "HiAOQVj_9acf",
        "outputId": "30da145e-bfaa-4299-ecd8-7165309638e8",
        "colab": {
          "base_uri": "https://localhost:8080/"
        }
      },
      "source": [
        "# Fit the model to the training data and calculate the scores for the training and testing data\n",
        "\n",
        "### BEGIN SOLUTION\n",
        "model.fit(X_train, y_train)\n",
        "training_score = model.score(X_train, y_train)\n",
        "testing_score = model.score(X_test, y_test)\n",
        "\n",
        "### END SOLUTION \n",
        "\n",
        "print(f\"Training Score: {training_score}\")\n",
        "print(f\"Testing Score: {testing_score}\")"
      ],
      "execution_count": 53,
      "outputs": [
        {
          "output_type": "stream",
          "text": [
            "Training Score: 0.9742847728392956\n",
            "Testing Score: 0.9762366778427306\n"
          ],
          "name": "stdout"
        }
      ]
    },
    {
      "cell_type": "code",
      "metadata": {
        "id": "O6PBzhwG9cSy",
        "outputId": "71550b09-59e7-432e-ee80-e03c8b7882e2",
        "colab": {
          "base_uri": "https://localhost:8080/",
          "height": 298
        }
      },
      "source": [
        "# Plot the Residuals for the Training and Testing data\n",
        "\n",
        "### BEGIN SOLUTION\n",
        "plt.scatter(model.predict(X_train), model.predict(X_train) - y_train, c=\"blue\", label=\"Training Data\")\n",
        "plt.scatter(model.predict(X_test), model.predict(X_test) - y_test, c=\"orange\", label=\"Testing Data\")\n",
        "plt.legend()\n",
        "plt.hlines(y=0, xmin=y.min(), xmax=y.max())\n",
        "plt.title(\"Residual Plot\")\n",
        "### END SOLUTION"
      ],
      "execution_count": 54,
      "outputs": [
        {
          "output_type": "execute_result",
          "data": {
            "text/plain": [
              "Text(0.5, 1.0, 'Residual Plot')"
            ]
          },
          "metadata": {
            "tags": []
          },
          "execution_count": 54
        },
        {
          "output_type": "display_data",
          "data": {
            "image/png": "[encoded data removed]",
            "text/plain": [
              "<Figure size 432x288 with 1 Axes>"
            ]
          },
          "metadata": {
            "tags": [],
            "needs_background": "light"
          }
        }
      ]
    },
    {
      "cell_type": "code",
      "metadata": {
        "id": "mRAWqZgW9fS3"
      },
      "source": [
        "from sklearn.preprocessing import StandardScaler\n",
        "\n",
        "# Create a StandardScater model and fit it to the training data\n",
        "\n",
        "### BEGIN SOLUTION\n",
        "X_scaler = StandardScaler().fit(X_train)\n",
        "y_scaler = StandardScaler().fit(y_train)\n",
        "### END SOLUTION"
      ],
      "execution_count": 55,
      "outputs": []
    },
    {
      "cell_type": "code",
      "metadata": {
        "id": "PJCdq6EQZkk_"
      },
      "source": [
        "# Transform the training and testing data using the X_scaler and y_scaler models\n",
        "\n",
        "### BEGIN SOLUTION\n",
        "X_train_scaled = X_scaler.transform(X_train)\n",
        "X_test_scaled = X_scaler.transform(X_test)\n",
        "y_train_scaled = y_scaler.transform(y_train)\n",
        "y_test_scaled = y_scaler.transform(y_test)\n",
        "### END SOLUTION"
      ],
      "execution_count": 56,
      "outputs": []
    },
    {
      "cell_type": "code",
      "metadata": {
        "id": "5bHXY9AvZkrI",
        "outputId": "f457ce34-9d12-461f-8a3a-5e0c04764c7d",
        "colab": {
          "base_uri": "https://localhost:8080/"
        }
      },
      "source": [
        "# Create a LinearRegression model and fit it to the scaled training data\n",
        "\n",
        "### BEGIN SOLUTION\n",
        "from sklearn.linear_model import LinearRegression\n",
        "model = LinearRegression()\n",
        "model.fit(X_train_scaled, y_train_scaled)\n",
        "### END SOLUTION"
      ],
      "execution_count": 57,
      "outputs": [
        {
          "output_type": "execute_result",
          "data": {
            "text/plain": [
              "LinearRegression(copy_X=True, fit_intercept=True, n_jobs=None, normalize=False)"
            ]
          },
          "metadata": {
            "tags": []
          },
          "execution_count": 57
        }
      ]
    },
    {
      "cell_type": "code",
      "metadata": {
        "id": "R7VykYAVZkvY",
        "outputId": "b1f5b9ac-bfcc-4124-e9ee-c1397e6d9f14",
        "colab": {
          "base_uri": "https://localhost:8080/",
          "height": 281
        }
      },
      "source": [
        "# Make predictions using a fitted model\n",
        "# Plot the difference between the model predicted values and actual y values, versus the model predicted values\n",
        "# Hint: You can predict values of X training and testing data using the model.predict() method on a fitted model\n",
        "\n",
        "### BEGIN SOLUTION\n",
        "predictions = model.predict(X_test_scaled)\n",
        "model.fit(X_train_scaled, y_train_scaled)\n",
        "plt.scatter(model.predict(X_train_scaled), model.predict(X_train_scaled) - y_train_scaled, c=\"blue\", label=\"Training Data\")\n",
        "plt.scatter(model.predict(X_test_scaled), model.predict(X_test_scaled) - y_test_scaled, c=\"orange\", label=\"Testing Data\")\n",
        "plt.legend()\n",
        "plt.hlines(y=0, xmin=y_test_scaled.min(), xmax=y_test_scaled.max())\n",
        "plt.title(\"Residual Plot\")\n",
        "plt.show()\n",
        "### END SOLUTION"
      ],
      "execution_count": 58,
      "outputs": [
        {
          "output_type": "display_data",
          "data": {
            "image/png": "[encoded data removed]",
            "text/plain": [
              "<Figure size 432x288 with 1 Axes>"
            ]
          },
          "metadata": {
            "tags": [],
            "needs_background": "light"
          }
        }
      ]
    },
    {
      "cell_type": "code",
      "metadata": {
        "id": "RN3OgLjHZkz0",
        "outputId": "bb1784c6-4f4d-4a6b-d10a-735e964c16e4",
        "colab": {
          "base_uri": "https://localhost:8080/"
        }
      },
      "source": [
        "# Used X_test_scaled, y_test_scaled, and model.predict(X_test_scaled) to calculate MSE and R2\n",
        "\n",
        "### BEGIN SOLUTION\n",
        "from sklearn.metrics import mean_squared_error\n",
        "\n",
        "MSE1 = mean_squared_error(y_test_scaled, predictions)\n",
        "r21 = model.score(X_test_scaled, y_test_scaled)\n",
        "### END SOLUTION\n",
        "\n",
        "print(f\"MSE: {MSE1}, R2: {r21}\")"
      ],
      "execution_count": 59,
      "outputs": [
        {
          "output_type": "stream",
          "text": [
            "MSE: 0.043139467927502784, R2: 0.9762366778427306\n"
          ],
          "name": "stdout"
        }
      ]
    },
    {
      "cell_type": "code",
      "metadata": {
        "id": "cILZSaL9Zk4U",
        "outputId": "67895e43-67f7-458a-e9c1-bfebd040ccdf",
        "colab": {
          "base_uri": "https://localhost:8080/"
        }
      },
      "source": [
        "# LASSO model\n",
        "# Note: Use an alpha of .01 when creating the model for this activity\n",
        "from sklearn.linear_model import Lasso\n",
        "\n",
        "### BEGIN SOLUTION\n",
        "lasso1a = Lasso(alpha=.01).fit(X_train_scaled, y_train_scaled)\n",
        "\n",
        "predictions1a = lasso1a.predict(X_test_scaled)\n",
        "\n",
        "MSE1a = mean_squared_error(y_test_scaled, predictions)\n",
        "r21a = lasso1a.score(X_test_scaled, y_test_scaled)\n",
        "### END SOLUTION\n",
        "\n",
        "print(f\"MSE: {MSE1a}, R2: {r21a}\")"
      ],
      "execution_count": 60,
      "outputs": [
        {
          "output_type": "stream",
          "text": [
            "MSE: 0.043139467927502784, R2: 0.9730949771134014\n"
          ],
          "name": "stdout"
        }
      ]
    },
    {
      "cell_type": "code",
      "metadata": {
        "id": "aj-Sz8fdZk9D",
        "outputId": "b43d91c2-f1ce-4862-e4d9-91f2342164ff",
        "colab": {
          "base_uri": "https://localhost:8080/"
        }
      },
      "source": [
        "# Ridge model\n",
        "# Note: Use an alpha of .01 when creating the model for this activity\n",
        "from sklearn.linear_model import Ridge\n",
        "\n",
        "### BEGIN SOLUTION\n",
        "ridge = Ridge(alpha=.01).fit(X_train_scaled, y_train_scaled)\n",
        "\n",
        "predictions1b = ridge.predict(X_test_scaled)\n",
        "\n",
        "MSE1b = mean_squared_error(y_test_scaled, predictions1b)\n",
        "r21b = ridge.score(X_test_scaled, y_test_scaled)\n",
        "### END SOLUTION\n",
        "\n",
        "print(f\"MSE: {MSE1b}, R2: {r21b}\")"
      ],
      "execution_count": 61,
      "outputs": [
        {
          "output_type": "stream",
          "text": [
            "MSE: 0.04313483311149034, R2: 0.9762392309253561\n"
          ],
          "name": "stdout"
        }
      ]
    },
    {
      "cell_type": "code",
      "metadata": {
        "id": "y2XZR_AwZlCM",
        "outputId": "5b2425b6-ce58-465d-987b-2d1dc34eb28a",
        "colab": {
          "base_uri": "https://localhost:8080/"
        }
      },
      "source": [
        "# ElasticNet model\n",
        "# Note: Use an alpha of .01 when creating the model for this activity\n",
        "from sklearn.linear_model import ElasticNet\n",
        "\n",
        "### BEGIN SOLUTION\n",
        "elasticnet = ElasticNet(alpha=.01).fit(X_train_scaled, y_train_scaled)\n",
        "\n",
        "predictions1c = elasticnet.predict(X_test_scaled)\n",
        "\n",
        "MSE1c = mean_squared_error(y_test_scaled, predictions1c)\n",
        "r21c = elasticnet.score(X_test_scaled, y_test_scaled)\n",
        "### END SOLUTION\n",
        "\n",
        "print(f\"MSE: {MSE1c}, R2: {r21c}\")"
      ],
      "execution_count": 62,
      "outputs": [
        {
          "output_type": "stream",
          "text": [
            "MSE: 0.04687978255329813, R2: 0.9741763301914409\n"
          ],
          "name": "stdout"
        }
      ]
    },
    {
      "cell_type": "code",
      "metadata": {
        "id": "GpTch1WNZlH5"
      },
      "source": [
        ""
      ],
      "execution_count": 62,
      "outputs": []
    },
    {
      "cell_type": "code",
      "metadata": {
        "id": "0edNVWNbZlMj"
      },
      "source": [
        ""
      ],
      "execution_count": 62,
      "outputs": []
    },
    {
      "cell_type": "code",
      "metadata": {
        "id": "FXiw_FBOZlSG"
      },
      "source": [
        ""
      ],
      "execution_count": 62,
      "outputs": []
    },
    {
      "cell_type": "code",
      "metadata": {
        "id": "5rNHdTb2UPh1",
        "outputId": "22680a25-e416-40b3-e549-2c7d9470eac3",
        "colab": {
          "base_uri": "https://localhost:8080/"
        }
      },
      "source": [
        "#multiple regression of \"Triple Crown\"\n",
        "\n",
        "# Assign the data to X and y\n",
        "X2 = data[[\"hr\",\"rbi\",\"avg\"]]\n",
        "y2 = data[\"r\"].values.reshape(-1, 1)\n",
        "print(X.shape, y.shape)"
      ],
      "execution_count": 63,
      "outputs": [
        {
          "output_type": "stream",
          "text": [
            "(829, 19) (829, 1)\n"
          ],
          "name": "stdout"
        }
      ]
    },
    {
      "cell_type": "code",
      "metadata": {
        "id": "7DZN4rCkUaJk"
      },
      "source": [
        "# Use train_test_split to create training and testing data\n",
        "\n",
        "### BEGIN SOLUTION\n",
        "from sklearn.model_selection import train_test_split\n",
        "\n",
        "X_train, X_test, y_train, y_test = train_test_split(X2, y2, test_size = 0.24, shuffle=False)\n",
        "\n",
        "### END SOLUTION"
      ],
      "execution_count": 64,
      "outputs": []
    },
    {
      "cell_type": "code",
      "metadata": {
        "id": "L8Py-7u5UfQ9"
      },
      "source": [
        "# Create the model using LinearRegression\n",
        "\n",
        "### BEGIN SOLUTION\n",
        "from sklearn.linear_model import LinearRegression\n",
        "model2 = LinearRegression()\n",
        "### END SOLUTION"
      ],
      "execution_count": 65,
      "outputs": []
    },
    {
      "cell_type": "code",
      "metadata": {
        "id": "LtcP5RFwUi6u",
        "outputId": "9bfa2140-6958-40cc-9d6c-3adc1c3ad81b",
        "colab": {
          "base_uri": "https://localhost:8080/"
        }
      },
      "source": [
        "# Fit the model to the training data and calculate the scores for the training and testing data\n",
        "\n",
        "### BEGIN SOLUTION\n",
        "model2.fit(X_train, y_train)\n",
        "training_score2 = model2.score(X_train, y_train)\n",
        "testing_score2 = model2.score(X_test, y_test)\n",
        "\n",
        "### END SOLUTION \n",
        "\n",
        "print(f\"Training Score: {training_score2}\")\n",
        "print(f\"Testing Score: {testing_score2}\")"
      ],
      "execution_count": 66,
      "outputs": [
        {
          "output_type": "stream",
          "text": [
            "Training Score: 0.8882930549987295\n",
            "Testing Score: 0.8773236083267314\n"
          ],
          "name": "stdout"
        }
      ]
    },
    {
      "cell_type": "code",
      "metadata": {
        "id": "ZdxFr7nOUlAY",
        "outputId": "e11cb9f9-1ddd-4a19-8748-b0155aa7c97c",
        "colab": {
          "base_uri": "https://localhost:8080/",
          "height": 298
        }
      },
      "source": [
        "# Plot the Residuals for the Training and Testing data\n",
        "\n",
        "### BEGIN SOLUTION\n",
        "plt.scatter(model2.predict(X_train), model2.predict(X_train) - y_train, c=\"blue\", label=\"Training Data\")\n",
        "plt.scatter(model2.predict(X_test), model2.predict(X_test) - y_test, c=\"orange\", label=\"Testing Data\")\n",
        "plt.legend()\n",
        "plt.hlines(y=0, xmin=y.min(), xmax=y.max())\n",
        "plt.title(\"Residual Plot\")\n",
        "### END SOLUTION"
      ],
      "execution_count": 67,
      "outputs": [
        {
          "output_type": "execute_result",
          "data": {
            "text/plain": [
              "Text(0.5, 1.0, 'Residual Plot')"
            ]
          },
          "metadata": {
            "tags": []
          },
          "execution_count": 67
        },
        {
          "output_type": "display_data",
          "data": {
            "image/png": "[encoded data removed]",
            "text/plain": [
              "<Figure size 432x288 with 1 Axes>"
            ]
          },
          "metadata": {
            "tags": [],
            "needs_background": "light"
          }
        }
      ]
    },
    {
      "cell_type": "code",
      "metadata": {
        "id": "D_yjCKFdUosd"
      },
      "source": [
        "from sklearn.preprocessing import StandardScaler\n",
        "\n",
        "# Create a StandardScater model and fit it to the training data\n",
        "\n",
        "### BEGIN SOLUTION\n",
        "X_scaler2 = StandardScaler().fit(X_train)\n",
        "y_scaler2 = StandardScaler().fit(y_train)\n",
        "### END SOLUTION"
      ],
      "execution_count": 68,
      "outputs": []
    },
    {
      "cell_type": "code",
      "metadata": {
        "id": "9k3tRhjkZmSV"
      },
      "source": [
        "# Transform the training and testing data using the X_scaler and y_scaler models\n",
        "\n",
        "### BEGIN SOLUTION\n",
        "X_train_scaled2 = X_scaler2.transform(X_train)\n",
        "X_test_scaled2 = X_scaler2.transform(X_test)\n",
        "y_train_scaled2 = y_scaler2.transform(y_train)\n",
        "y_test_scaled2 = y_scaler2.transform(y_test)\n",
        "### END SOLUTION"
      ],
      "execution_count": 69,
      "outputs": []
    },
    {
      "cell_type": "code",
      "metadata": {
        "id": "Ffl22C76ZmXm",
        "outputId": "9969bfff-27c6-4154-8188-0ea8690d7b21",
        "colab": {
          "base_uri": "https://localhost:8080/"
        }
      },
      "source": [
        "# Create a LinearRegression model and fit it to the scaled training data\n",
        "\n",
        "### BEGIN SOLUTION\n",
        "from sklearn.linear_model import LinearRegression\n",
        "model2 = LinearRegression()\n",
        "model2.fit(X_train_scaled2, y_train_scaled2)\n",
        "### END SOLUTION"
      ],
      "execution_count": 70,
      "outputs": [
        {
          "output_type": "execute_result",
          "data": {
            "text/plain": [
              "LinearRegression(copy_X=True, fit_intercept=True, n_jobs=None, normalize=False)"
            ]
          },
          "metadata": {
            "tags": []
          },
          "execution_count": 70
        }
      ]
    },
    {
      "cell_type": "code",
      "metadata": {
        "id": "ubbTofyrZmbu",
        "outputId": "aaa6b7ca-5e8e-402a-985c-07b7191b0ed6",
        "colab": {
          "base_uri": "https://localhost:8080/",
          "height": 281
        }
      },
      "source": [
        "# Make predictions using a fitted model\n",
        "# Plot the difference between the model predicted values and actual y values, versus the model predicted values\n",
        "# Hint: You can predict values of X training and testing data using the model.predict() method on a fitted model\n",
        "\n",
        "### BEGIN SOLUTION\n",
        "predictions2 = model2.predict(X_test_scaled2)\n",
        "model2.fit(X_train_scaled2, y_train_scaled2)\n",
        "plt.scatter(model2.predict(X_train_scaled2), model2.predict(X_train_scaled2) - y_train_scaled2, c=\"blue\", label=\"Training Data\")\n",
        "plt.scatter(model2.predict(X_test_scaled2), model2.predict(X_test_scaled2) - y_test_scaled2, c=\"orange\", label=\"Testing Data\")\n",
        "plt.legend()\n",
        "plt.hlines(y=0, xmin=y_test_scaled2.min(), xmax=y_test_scaled2.max())\n",
        "plt.title(\"Residual Plot\")\n",
        "plt.show()\n",
        "### END SOLUTION"
      ],
      "execution_count": 71,
      "outputs": [
        {
          "output_type": "display_data",
          "data": {
            "image/png": "[encoded data removed]",
            "text/plain": [
              "<Figure size 432x288 with 1 Axes>"
            ]
          },
          "metadata": {
            "tags": [],
            "needs_background": "light"
          }
        }
      ]
    },
    {
      "cell_type": "code",
      "metadata": {
        "id": "bK6WEKB6ZmfZ",
        "outputId": "b670159e-cf36-47ea-e6ac-807bb91575e9",
        "colab": {
          "base_uri": "https://localhost:8080/"
        }
      },
      "source": [
        "# Used X_test_scaled, y_test_scaled, and model.predict(X_test_scaled) to calculate MSE and R2\n",
        "\n",
        "### BEGIN SOLUTION\n",
        "from sklearn.metrics import mean_squared_error\n",
        "\n",
        "MSE2 = mean_squared_error(y_test_scaled2, predictions2)\n",
        "r22 = model2.score(X_test_scaled2, y_test_scaled2)\n",
        "### END SOLUTION\n",
        "\n",
        "print(f\"MSE: {MSE2}, R2: {r22}\")"
      ],
      "execution_count": 72,
      "outputs": [
        {
          "output_type": "stream",
          "text": [
            "MSE: 0.22270430998772647, R2: 0.8773236083267318\n"
          ],
          "name": "stdout"
        }
      ]
    },
    {
      "cell_type": "code",
      "metadata": {
        "id": "-IMYHoIWZmjm",
        "outputId": "73462f75-ec18-4c62-93f4-249d32b0d145",
        "colab": {
          "base_uri": "https://localhost:8080/"
        }
      },
      "source": [
        "# LASSO model\n",
        "# Note: Use an alpha of .01 when creating the model for this activity\n",
        "from sklearn.linear_model import Lasso\n",
        "\n",
        "### BEGIN SOLUTION\n",
        "lasso2a = Lasso(alpha=.01).fit(X_train_scaled2, y_train_scaled2)\n",
        "\n",
        "predictions2a = lasso2a.predict(X_test_scaled2)\n",
        "\n",
        "MSE2a = mean_squared_error(y_test_scaled2, predictions2)\n",
        "r22a = lasso2a.score(X_test_scaled2, y_test_scaled2)\n",
        "### END SOLUTION\n",
        "\n",
        "print(f\"MSE: {MSE2a}, R2: {r22a}\")"
      ],
      "execution_count": 73,
      "outputs": [
        {
          "output_type": "stream",
          "text": [
            "MSE: 0.22270430998772647, R2: 0.8775988468271152\n"
          ],
          "name": "stdout"
        }
      ]
    },
    {
      "cell_type": "code",
      "metadata": {
        "id": "VAY-gy2tZmoR",
        "outputId": "109b065d-413f-49ff-8577-a533b2b7db0a",
        "colab": {
          "base_uri": "https://localhost:8080/"
        }
      },
      "source": [
        "# Ridge model\n",
        "# Note: Use an alpha of .01 when creating the model for this activity\n",
        "from sklearn.linear_model import Ridge\n",
        "\n",
        "### BEGIN SOLUTION\n",
        "ridge2b = Ridge(alpha=.01).fit(X_train_scaled2, y_train_scaled2)\n",
        "\n",
        "predictions2b = ridge2b.predict(X_test_scaled2)\n",
        "\n",
        "MSE2b = mean_squared_error(y_test_scaled2, predictions2b)\n",
        "r22b = ridge2b.score(X_test_scaled2, y_test_scaled2)\n",
        "### END SOLUTION\n",
        "\n",
        "print(f\"MSE: {MSE2b}, R2: {r22b}\")"
      ],
      "execution_count": 74,
      "outputs": [
        {
          "output_type": "stream",
          "text": [
            "MSE: 0.22270539131547298, R2: 0.8773230126786898\n"
          ],
          "name": "stdout"
        }
      ]
    },
    {
      "cell_type": "code",
      "metadata": {
        "id": "ovO1z4izZmtN",
        "outputId": "2d9e1713-ec1b-4252-f94c-e2cc471ed4dc",
        "colab": {
          "base_uri": "https://localhost:8080/"
        }
      },
      "source": [
        "# ElasticNet model\n",
        "# Note: Use an alpha of .01 when creating the model for this activity\n",
        "from sklearn.linear_model import ElasticNet\n",
        "\n",
        "### BEGIN SOLUTION\n",
        "elasticnet2c = ElasticNet(alpha=.01).fit(X_train_scaled2, y_train_scaled2)\n",
        "\n",
        "predictions2c = elasticnet2c.predict(X_test_scaled2)\n",
        "\n",
        "MSE2c = mean_squared_error(y_test_scaled2, predictions2)\n",
        "r22c = elasticnet2c.score(X_test_scaled2, y_test_scaled2)\n",
        "### END SOLUTION\n",
        "\n",
        "print(f\"MSE: {MSE2c}, R2: {r22c}\")"
      ],
      "execution_count": 75,
      "outputs": [
        {
          "output_type": "stream",
          "text": [
            "MSE: 0.22270430998772647, R2: 0.8772604189619752\n"
          ],
          "name": "stdout"
        }
      ]
    },
    {
      "cell_type": "code",
      "metadata": {
        "id": "MIiXBwCGZmxZ"
      },
      "source": [
        ""
      ],
      "execution_count": 75,
      "outputs": []
    },
    {
      "cell_type": "code",
      "metadata": {
        "id": "2IQw2uCEZm2K"
      },
      "source": [
        ""
      ],
      "execution_count": 75,
      "outputs": []
    },
    {
      "cell_type": "code",
      "metadata": {
        "id": "0oVG4cW0Zm7S"
      },
      "source": [
        ""
      ],
      "execution_count": 75,
      "outputs": []
    },
    {
      "cell_type": "code",
      "metadata": {
        "id": "dXKVgCymWSn5",
        "outputId": "b33e14de-02d8-48ad-8a3c-94c531cf2d10",
        "colab": {
          "base_uri": "https://localhost:8080/"
        }
      },
      "source": [
        "#What I think the new Triple Crown Should be, based on Top Correlations to Run Scored\n",
        "\n",
        "# Assign the data to X and y\n",
        "X3 = data[[\"slg\",\"rbi\",\"hr\"]]\n",
        "y3 = data[\"r\"].values.reshape(-1, 1)\n",
        "print(X.shape, y.shape)"
      ],
      "execution_count": 76,
      "outputs": [
        {
          "output_type": "stream",
          "text": [
            "(829, 19) (829, 1)\n"
          ],
          "name": "stdout"
        }
      ]
    },
    {
      "cell_type": "code",
      "metadata": {
        "id": "QcP_1nOqW3x3"
      },
      "source": [
        "# Create the model using LinearRegression\n",
        "\n",
        "### BEGIN SOLUTION\n",
        "from sklearn.linear_model import LinearRegression\n",
        "model3 = LinearRegression()\n",
        "### END SOLUTION"
      ],
      "execution_count": 77,
      "outputs": []
    },
    {
      "cell_type": "code",
      "metadata": {
        "id": "PAb5WOVRXaTt",
        "outputId": "47e81317-e206-49e2-97e3-56ac0c9cafc6",
        "colab": {
          "base_uri": "https://localhost:8080/"
        }
      },
      "source": [
        "# Fit the model to the training data and calculate the scores for the training and testing data\n",
        "\n",
        "### BEGIN SOLUTION\n",
        "model3.fit(X_train, y_train)\n",
        "training_score3 = model3.score(X_train, y_train)\n",
        "testing_score3 = model3.score(X_test, y_test)\n",
        "\n",
        "### END SOLUTION \n",
        "\n",
        "print(f\"Training Score: {training_score3}\")\n",
        "print(f\"Testing Score: {testing_score3}\")"
      ],
      "execution_count": 78,
      "outputs": [
        {
          "output_type": "stream",
          "text": [
            "Training Score: 0.8882930549987295\n",
            "Testing Score: 0.8773236083267314\n"
          ],
          "name": "stdout"
        }
      ]
    },
    {
      "cell_type": "code",
      "metadata": {
        "id": "UjeVQ0OAXjv1",
        "outputId": "5ea4e967-3902-4157-ce2d-3364937711b7",
        "colab": {
          "base_uri": "https://localhost:8080/",
          "height": 298
        }
      },
      "source": [
        "# Plot the Residuals for the Training and Testing data\n",
        "\n",
        "### BEGIN SOLUTION\n",
        "plt.scatter(model3.predict(X_train), model3.predict(X_train) - y_train, c=\"blue\", label=\"Training Data\")\n",
        "plt.scatter(model3.predict(X_test), model3.predict(X_test) - y_test, c=\"orange\", label=\"Testing Data\")\n",
        "plt.legend()\n",
        "plt.hlines(y=0, xmin=y.min(), xmax=y.max())\n",
        "plt.title(\"Residual Plot\")\n",
        "### END SOLUTION"
      ],
      "execution_count": 79,
      "outputs": [
        {
          "output_type": "execute_result",
          "data": {
            "text/plain": [
              "Text(0.5, 1.0, 'Residual Plot')"
            ]
          },
          "metadata": {
            "tags": []
          },
          "execution_count": 79
        },
        {
          "output_type": "display_data",
          "data": {
            "image/png": "[encoded data removed]",
            "text/plain": [
              "<Figure size 432x288 with 1 Axes>"
            ]
          },
          "metadata": {
            "tags": [],
            "needs_background": "light"
          }
        }
      ]
    },
    {
      "cell_type": "code",
      "metadata": {
        "id": "NaO9d4vCXuIz"
      },
      "source": [
        "from sklearn.preprocessing import StandardScaler\n",
        "\n",
        "# Create a StandardScater model and fit it to the training data\n",
        "\n",
        "### BEGIN SOLUTION\n",
        "X_scaler3 = StandardScaler().fit(X_train)\n",
        "y_scaler3 = StandardScaler().fit(y_train)\n",
        "### END SOLUTION"
      ],
      "execution_count": 80,
      "outputs": []
    },
    {
      "cell_type": "code",
      "metadata": {
        "id": "iJVLfVfHZoAY"
      },
      "source": [
        "# Transform the training and testing data using the X_scaler and y_scaler models\n",
        "\n",
        "### BEGIN SOLUTION\n",
        "X_train_scaled3 = X_scaler3.transform(X_train)\n",
        "X_test_scaled3 = X_scaler3.transform(X_test)\n",
        "y_train_scaled3 = y_scaler3.transform(y_train)\n",
        "y_test_scaled3 = y_scaler3.transform(y_test)\n",
        "### END SOLUTION"
      ],
      "execution_count": 81,
      "outputs": []
    },
    {
      "cell_type": "code",
      "metadata": {
        "id": "dfLwXwRaZoFt",
        "outputId": "9f6c1a24-3922-4408-c7b8-001521a639d1",
        "colab": {
          "base_uri": "https://localhost:8080/"
        }
      },
      "source": [
        "# Create a LinearRegression model and fit it to the scaled training data\n",
        "\n",
        "### BEGIN SOLUTION\n",
        "from sklearn.linear_model import LinearRegression\n",
        "model3 = LinearRegression()\n",
        "model3.fit(X_train_scaled3, y_train_scaled3)\n",
        "### END SOLUTION"
      ],
      "execution_count": 82,
      "outputs": [
        {
          "output_type": "execute_result",
          "data": {
            "text/plain": [
              "LinearRegression(copy_X=True, fit_intercept=True, n_jobs=None, normalize=False)"
            ]
          },
          "metadata": {
            "tags": []
          },
          "execution_count": 82
        }
      ]
    },
    {
      "cell_type": "code",
      "metadata": {
        "id": "oJBJ7nLmZoJ4",
        "outputId": "f69b4579-5f98-4ca2-e5ac-abeabd7956b8",
        "colab": {
          "base_uri": "https://localhost:8080/",
          "height": 281
        }
      },
      "source": [
        "# Make predictions using a fitted model\n",
        "# Plot the difference between the model predicted values and actual y values, versus the model predicted values\n",
        "# Hint: You can predict values of X training and testing data using the model.predict() method on a fitted model\n",
        "\n",
        "### BEGIN SOLUTION\n",
        "predictions3 = model3.predict(X_test_scaled3)\n",
        "model3.fit(X_train_scaled3, y_train_scaled3)\n",
        "plt.scatter(model3.predict(X_train_scaled3), model3.predict(X_train_scaled3) - y_train_scaled3, c=\"blue\", label=\"Training Data\")\n",
        "plt.scatter(model3.predict(X_test_scaled3), model3.predict(X_test_scaled3) - y_test_scaled3, c=\"orange\", label=\"Testing Data\")\n",
        "plt.legend()\n",
        "plt.hlines(y=0, xmin=y_test_scaled3.min(), xmax=y_test_scaled3.max())\n",
        "plt.title(\"Residual Plot\")\n",
        "plt.show()\n",
        "### END SOLUTION"
      ],
      "execution_count": 83,
      "outputs": [
        {
          "output_type": "display_data",
          "data": {
            "image/png": "[encoded data removed]",
            "text/plain": [
              "<Figure size 432x288 with 1 Axes>"
            ]
          },
          "metadata": {
            "tags": [],
            "needs_background": "light"
          }
        }
      ]
    },
    {
      "cell_type": "code",
      "metadata": {
        "id": "lZs4cGr-ZoNw",
        "outputId": "7e1b10a7-ff0f-4a9d-9ba1-623c3e1e1bf9",
        "colab": {
          "base_uri": "https://localhost:8080/"
        }
      },
      "source": [
        "# Used X_test_scaled, y_test_scaled, and model.predict(X_test_scaled) to calculate MSE and R2\n",
        "\n",
        "### BEGIN SOLUTION\n",
        "from sklearn.metrics import mean_squared_error\n",
        "\n",
        "MSE3 = mean_squared_error(y_test_scaled3, predictions3)\n",
        "r23 = model3.score(X_test_scaled3, y_test_scaled3)\n",
        "### END SOLUTION\n",
        "\n",
        "print(f\"MSE: {MSE3}, R2: {r23}\")"
      ],
      "execution_count": 84,
      "outputs": [
        {
          "output_type": "stream",
          "text": [
            "MSE: 0.22270430998772647, R2: 0.8773236083267318\n"
          ],
          "name": "stdout"
        }
      ]
    },
    {
      "cell_type": "code",
      "metadata": {
        "id": "q8hAXKxqZoR_",
        "outputId": "187ac75c-be97-4937-bac9-c99db8557d3c",
        "colab": {
          "base_uri": "https://localhost:8080/"
        }
      },
      "source": [
        "# LASSO model\n",
        "# Note: Use an alpha of .01 when creating the model for this activity\n",
        "from sklearn.linear_model import Lasso\n",
        "\n",
        "### BEGIN SOLUTION\n",
        "lasso3a = Lasso(alpha=.01).fit(X_train_scaled3, y_train_scaled3)\n",
        "\n",
        "predictions3a = lasso3a.predict(X_test_scaled3)\n",
        "\n",
        "MSE3a = mean_squared_error(y_test_scaled3, predictions3a)\n",
        "r23a = lasso3a.score(X_test_scaled3, y_test_scaled3)\n",
        "### END SOLUTION\n",
        "\n",
        "print(f\"MSE: {MSE3a}, R2: {r23a}\")"
      ],
      "execution_count": 85,
      "outputs": [
        {
          "output_type": "stream",
          "text": [
            "MSE: 0.22220464742450738, R2: 0.8775988468271152\n"
          ],
          "name": "stdout"
        }
      ]
    },
    {
      "cell_type": "code",
      "metadata": {
        "id": "ReupthaYZoVO",
        "outputId": "a18cedfb-10f2-4330-82d3-dfbd88c739bc",
        "colab": {
          "base_uri": "https://localhost:8080/"
        }
      },
      "source": [
        "# Ridge model\n",
        "# Note: Use an alpha of .01 when creating the model for this activity\n",
        "from sklearn.linear_model import Ridge\n",
        "\n",
        "### BEGIN SOLUTION\n",
        "ridge3b = Ridge(alpha=.01).fit(X_train_scaled3, y_train_scaled3)\n",
        "\n",
        "predictions3b = ridge3b.predict(X_test_scaled3)\n",
        "\n",
        "MSE3b = mean_squared_error(y_test_scaled3, predictions3b)\n",
        "r23b = ridge2b.score(X_test_scaled3, y_test_scaled3)\n",
        "### END SOLUTION\n",
        "\n",
        "print(f\"MSE: {MSE3b}, R2: {r23b}\")"
      ],
      "execution_count": 86,
      "outputs": [
        {
          "output_type": "stream",
          "text": [
            "MSE: 0.22270539131547298, R2: 0.8773230126786898\n"
          ],
          "name": "stdout"
        }
      ]
    },
    {
      "cell_type": "code",
      "metadata": {
        "id": "2GaMhBgdZoaI",
        "outputId": "efd846e7-ab71-464c-ee7e-67904e1979ab",
        "colab": {
          "base_uri": "https://localhost:8080/"
        }
      },
      "source": [
        "# ElasticNet model\n",
        "# Note: Use an alpha of .01 when creating the model for this activity\n",
        "from sklearn.linear_model import ElasticNet\n",
        "\n",
        "### BEGIN SOLUTION\n",
        "elasticnet3c = ElasticNet(alpha=.01).fit(X_train_scaled3, y_train_scaled3)\n",
        "\n",
        "predictions3c = elasticnet3c.predict(X_test_scaled3)\n",
        "\n",
        "MSE3c = mean_squared_error(y_test_scaled3, predictions3c)\n",
        "r23c = elasticnet3c.score(X_test_scaled3, y_test_scaled3)\n",
        "### END SOLUTION\n",
        "\n",
        "print(f\"MSE: {MSE3c}, R2: {r23c}\")"
      ],
      "execution_count": 88,
      "outputs": [
        {
          "output_type": "stream",
          "text": [
            "MSE: 0.2228190227183893, R2: 0.8772604189619752\n"
          ],
          "name": "stdout"
        }
      ]
    },
    {
      "cell_type": "code",
      "metadata": {
        "id": "mBWFWdHQZod3"
      },
      "source": [
        ""
      ],
      "execution_count": 87,
      "outputs": []
    },
    {
      "cell_type": "code",
      "metadata": {
        "id": "CtWhBh1wZooG"
      },
      "source": [
        ""
      ],
      "execution_count": 87,
      "outputs": []
    }
  ]
}