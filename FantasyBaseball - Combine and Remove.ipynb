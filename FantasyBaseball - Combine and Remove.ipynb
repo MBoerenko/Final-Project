{
 "cells": [
  {
   "cell_type": "code",
   "execution_count": 109,
   "metadata": {},
   "outputs": [],
   "source": [
    "# Dependencies and Setup\n",
    "import pandas as pd\n",
    "import numpy as np\n",
    "import matplotlib.pyplot as plt"
   ]
  },
  {
   "cell_type": "code",
   "execution_count": 110,
   "metadata": {},
   "outputs": [],
   "source": [
    "# Load Batter Data\n",
    "batters_data_to_load = \"All Batters Data/Batters_2010-2019.csv\"\n",
    "batters_leaders_data_to_load = \"Data - Lead Batters/Batters_leaders__2010-2019.csv\"\n",
    "batters2019_data_to_load = \"Data Sets/mlb-player-stats-Batters (2019).csv\"\n",
    "batters_leaders_2019_data_to_load = \"Data Sets/Batter Leaders/Batter Leaders 2019.csv\""
   ]
  },
  {
   "cell_type": "code",
   "execution_count": 111,
   "metadata": {},
   "outputs": [],
   "source": [
    "# Read batters Data File and store into Pandas DataFrames\n",
    "batters_data = pd.read_csv(batters_data_to_load)\n",
    "batters_leaders_data = pd.read_csv(batters_leaders_data_to_load)\n",
    "batters2019_data = pd.read_csv(batters2019_data_to_load)\n",
    "batters_leaders_2019 = pd.read_csv(batters_leaders_2019_data_to_load)"
   ]
  },
  {
   "cell_type": "code",
   "execution_count": 112,
   "metadata": {},
   "outputs": [],
   "source": [
    "batters2019_data['Year'] = 2019\n",
    "batters_leaders_2019['Year'] = 2019"
   ]
  },
  {
   "cell_type": "code",
   "execution_count": 113,
   "metadata": {},
   "outputs": [
    {
     "name": "stdout",
     "output_type": "stream",
     "text": [
      "6850\n",
      "694\n"
     ]
    }
   ],
   "source": [
    "print(len(batters_data))\n",
    "print(len(batters2019_data))"
   ]
  },
  {
   "cell_type": "code",
   "execution_count": 114,
   "metadata": {},
   "outputs": [
    {
     "name": "stdout",
     "output_type": "stream",
     "text": [
      "1367\n",
      "135\n"
     ]
    }
   ],
   "source": [
    "print(len(batters_leaders_data))\n",
    "print(len(batters_leaders_2019))"
   ]
  },
  {
   "cell_type": "code",
   "execution_count": 115,
   "metadata": {},
   "outputs": [
    {
     "data": {
      "text/html": [
       "<div>\n",
       "<style scoped>\n",
       "    .dataframe tbody tr th:only-of-type {\n",
       "        vertical-align: middle;\n",
       "    }\n",
       "\n",
       "    .dataframe tbody tr th {\n",
       "        vertical-align: top;\n",
       "    }\n",
       "\n",
       "    .dataframe thead th {\n",
       "        text-align: right;\n",
       "    }\n",
       "</style>\n",
       "<table border=\"1\" class=\"dataframe\">\n",
       "  <thead>\n",
       "    <tr style=\"text-align: right;\">\n",
       "      <th></th>\n",
       "      <th>Unnamed: 0</th>\n",
       "      <th>Player</th>\n",
       "      <th>Team</th>\n",
       "      <th>Pos</th>\n",
       "      <th>Age</th>\n",
       "      <th>G</th>\n",
       "      <th>AB</th>\n",
       "      <th>R</th>\n",
       "      <th>H</th>\n",
       "      <th>2B</th>\n",
       "      <th>...</th>\n",
       "      <th>BB</th>\n",
       "      <th>SO</th>\n",
       "      <th>SH</th>\n",
       "      <th>SF</th>\n",
       "      <th>HBP</th>\n",
       "      <th>AVG</th>\n",
       "      <th>OBP</th>\n",
       "      <th>SLG</th>\n",
       "      <th>OPS</th>\n",
       "      <th>Year</th>\n",
       "    </tr>\n",
       "  </thead>\n",
       "  <tbody>\n",
       "    <tr>\n",
       "      <th>0</th>\n",
       "      <td>0</td>\n",
       "      <td>Whit Merrifield</td>\n",
       "      <td>KC</td>\n",
       "      <td>2B</td>\n",
       "      <td>31</td>\n",
       "      <td>162</td>\n",
       "      <td>681</td>\n",
       "      <td>105</td>\n",
       "      <td>206</td>\n",
       "      <td>41</td>\n",
       "      <td>...</td>\n",
       "      <td>45</td>\n",
       "      <td>126</td>\n",
       "      <td>0</td>\n",
       "      <td>4</td>\n",
       "      <td>5</td>\n",
       "      <td>0.302</td>\n",
       "      <td>0.348</td>\n",
       "      <td>0.463</td>\n",
       "      <td>0.811</td>\n",
       "      <td>2019</td>\n",
       "    </tr>\n",
       "    <tr>\n",
       "      <th>1</th>\n",
       "      <td>1</td>\n",
       "      <td>Marcus Semien</td>\n",
       "      <td>OAK</td>\n",
       "      <td>SS</td>\n",
       "      <td>30</td>\n",
       "      <td>162</td>\n",
       "      <td>657</td>\n",
       "      <td>123</td>\n",
       "      <td>187</td>\n",
       "      <td>43</td>\n",
       "      <td>...</td>\n",
       "      <td>87</td>\n",
       "      <td>102</td>\n",
       "      <td>0</td>\n",
       "      <td>1</td>\n",
       "      <td>2</td>\n",
       "      <td>0.285</td>\n",
       "      <td>0.369</td>\n",
       "      <td>0.522</td>\n",
       "      <td>0.891</td>\n",
       "      <td>2019</td>\n",
       "    </tr>\n",
       "    <tr>\n",
       "      <th>2</th>\n",
       "      <td>2</td>\n",
       "      <td>Rafael Devers</td>\n",
       "      <td>BOS</td>\n",
       "      <td>3B</td>\n",
       "      <td>24</td>\n",
       "      <td>156</td>\n",
       "      <td>647</td>\n",
       "      <td>129</td>\n",
       "      <td>201</td>\n",
       "      <td>54</td>\n",
       "      <td>...</td>\n",
       "      <td>48</td>\n",
       "      <td>119</td>\n",
       "      <td>1</td>\n",
       "      <td>2</td>\n",
       "      <td>4</td>\n",
       "      <td>0.311</td>\n",
       "      <td>0.361</td>\n",
       "      <td>0.555</td>\n",
       "      <td>0.916</td>\n",
       "      <td>2019</td>\n",
       "    </tr>\n",
       "    <tr>\n",
       "      <th>3</th>\n",
       "      <td>3</td>\n",
       "      <td>Jonathan Villar</td>\n",
       "      <td>BAL</td>\n",
       "      <td>2B</td>\n",
       "      <td>29</td>\n",
       "      <td>162</td>\n",
       "      <td>642</td>\n",
       "      <td>111</td>\n",
       "      <td>176</td>\n",
       "      <td>33</td>\n",
       "      <td>...</td>\n",
       "      <td>61</td>\n",
       "      <td>176</td>\n",
       "      <td>2</td>\n",
       "      <td>4</td>\n",
       "      <td>4</td>\n",
       "      <td>0.274</td>\n",
       "      <td>0.339</td>\n",
       "      <td>0.453</td>\n",
       "      <td>0.792</td>\n",
       "      <td>2019</td>\n",
       "    </tr>\n",
       "    <tr>\n",
       "      <th>4</th>\n",
       "      <td>4</td>\n",
       "      <td>Ozzie Albies</td>\n",
       "      <td>ATL</td>\n",
       "      <td>2B</td>\n",
       "      <td>23</td>\n",
       "      <td>160</td>\n",
       "      <td>640</td>\n",
       "      <td>102</td>\n",
       "      <td>189</td>\n",
       "      <td>43</td>\n",
       "      <td>...</td>\n",
       "      <td>54</td>\n",
       "      <td>112</td>\n",
       "      <td>0</td>\n",
       "      <td>4</td>\n",
       "      <td>4</td>\n",
       "      <td>0.295</td>\n",
       "      <td>0.352</td>\n",
       "      <td>0.500</td>\n",
       "      <td>0.852</td>\n",
       "      <td>2019</td>\n",
       "    </tr>\n",
       "  </tbody>\n",
       "</table>\n",
       "<p>5 rows × 25 columns</p>\n",
       "</div>"
      ],
      "text/plain": [
       "   Unnamed: 0           Player Team Pos  Age    G   AB    R    H  2B  ...  BB  \\\n",
       "0           0  Whit Merrifield   KC  2B   31  162  681  105  206  41  ...  45   \n",
       "1           1    Marcus Semien  OAK  SS   30  162  657  123  187  43  ...  87   \n",
       "2           2    Rafael Devers  BOS  3B   24  156  647  129  201  54  ...  48   \n",
       "3           3  Jonathan Villar  BAL  2B   29  162  642  111  176  33  ...  61   \n",
       "4           4     Ozzie Albies  ATL  2B   23  160  640  102  189  43  ...  54   \n",
       "\n",
       "    SO  SH  SF  HBP    AVG    OBP    SLG    OPS  Year  \n",
       "0  126   0   4    5  0.302  0.348  0.463  0.811  2019  \n",
       "1  102   0   1    2  0.285  0.369  0.522  0.891  2019  \n",
       "2  119   1   2    4  0.311  0.361  0.555  0.916  2019  \n",
       "3  176   2   4    4  0.274  0.339  0.453  0.792  2019  \n",
       "4  112   0   4    4  0.295  0.352  0.500  0.852  2019  \n",
       "\n",
       "[5 rows x 25 columns]"
      ]
     },
     "execution_count": 115,
     "metadata": {},
     "output_type": "execute_result"
    }
   ],
   "source": [
    "batters_leaders_data.head()"
   ]
  },
  {
   "cell_type": "code",
   "execution_count": 116,
   "metadata": {},
   "outputs": [
    {
     "data": {
      "text/html": [
       "<div>\n",
       "<style scoped>\n",
       "    .dataframe tbody tr th:only-of-type {\n",
       "        vertical-align: middle;\n",
       "    }\n",
       "\n",
       "    .dataframe tbody tr th {\n",
       "        vertical-align: top;\n",
       "    }\n",
       "\n",
       "    .dataframe thead th {\n",
       "        text-align: right;\n",
       "    }\n",
       "</style>\n",
       "<table border=\"1\" class=\"dataframe\">\n",
       "  <thead>\n",
       "    <tr style=\"text-align: right;\">\n",
       "      <th></th>\n",
       "      <th>Player</th>\n",
       "      <th>Team</th>\n",
       "      <th>Pos</th>\n",
       "      <th>Age</th>\n",
       "      <th>G</th>\n",
       "      <th>AB</th>\n",
       "      <th>R</th>\n",
       "      <th>H</th>\n",
       "      <th>2B</th>\n",
       "      <th>3B</th>\n",
       "      <th>...</th>\n",
       "      <th>BB</th>\n",
       "      <th>SO</th>\n",
       "      <th>SH</th>\n",
       "      <th>SF</th>\n",
       "      <th>HBP</th>\n",
       "      <th>AVG</th>\n",
       "      <th>OBP</th>\n",
       "      <th>SLG</th>\n",
       "      <th>OPS</th>\n",
       "      <th>Year</th>\n",
       "    </tr>\n",
       "  </thead>\n",
       "  <tbody>\n",
       "    <tr>\n",
       "      <th>0</th>\n",
       "      <td>Whit Merrifield</td>\n",
       "      <td>KC</td>\n",
       "      <td>2B</td>\n",
       "      <td>31</td>\n",
       "      <td>162</td>\n",
       "      <td>681</td>\n",
       "      <td>105</td>\n",
       "      <td>206</td>\n",
       "      <td>41</td>\n",
       "      <td>10</td>\n",
       "      <td>...</td>\n",
       "      <td>45</td>\n",
       "      <td>126</td>\n",
       "      <td>0</td>\n",
       "      <td>4</td>\n",
       "      <td>5</td>\n",
       "      <td>0.302</td>\n",
       "      <td>0.348</td>\n",
       "      <td>0.463</td>\n",
       "      <td>0.811</td>\n",
       "      <td>2019</td>\n",
       "    </tr>\n",
       "    <tr>\n",
       "      <th>1</th>\n",
       "      <td>Marcus Semien</td>\n",
       "      <td>OAK</td>\n",
       "      <td>SS</td>\n",
       "      <td>30</td>\n",
       "      <td>162</td>\n",
       "      <td>657</td>\n",
       "      <td>123</td>\n",
       "      <td>187</td>\n",
       "      <td>43</td>\n",
       "      <td>7</td>\n",
       "      <td>...</td>\n",
       "      <td>87</td>\n",
       "      <td>102</td>\n",
       "      <td>0</td>\n",
       "      <td>1</td>\n",
       "      <td>2</td>\n",
       "      <td>0.285</td>\n",
       "      <td>0.369</td>\n",
       "      <td>0.522</td>\n",
       "      <td>0.891</td>\n",
       "      <td>2019</td>\n",
       "    </tr>\n",
       "    <tr>\n",
       "      <th>2</th>\n",
       "      <td>Rafael Devers</td>\n",
       "      <td>BOS</td>\n",
       "      <td>3B</td>\n",
       "      <td>24</td>\n",
       "      <td>156</td>\n",
       "      <td>647</td>\n",
       "      <td>129</td>\n",
       "      <td>201</td>\n",
       "      <td>54</td>\n",
       "      <td>4</td>\n",
       "      <td>...</td>\n",
       "      <td>48</td>\n",
       "      <td>119</td>\n",
       "      <td>1</td>\n",
       "      <td>2</td>\n",
       "      <td>4</td>\n",
       "      <td>0.311</td>\n",
       "      <td>0.361</td>\n",
       "      <td>0.555</td>\n",
       "      <td>0.916</td>\n",
       "      <td>2019</td>\n",
       "    </tr>\n",
       "    <tr>\n",
       "      <th>3</th>\n",
       "      <td>Jonathan Villar</td>\n",
       "      <td>BAL</td>\n",
       "      <td>2B</td>\n",
       "      <td>29</td>\n",
       "      <td>162</td>\n",
       "      <td>642</td>\n",
       "      <td>111</td>\n",
       "      <td>176</td>\n",
       "      <td>33</td>\n",
       "      <td>5</td>\n",
       "      <td>...</td>\n",
       "      <td>61</td>\n",
       "      <td>176</td>\n",
       "      <td>2</td>\n",
       "      <td>4</td>\n",
       "      <td>4</td>\n",
       "      <td>0.274</td>\n",
       "      <td>0.339</td>\n",
       "      <td>0.453</td>\n",
       "      <td>0.792</td>\n",
       "      <td>2019</td>\n",
       "    </tr>\n",
       "    <tr>\n",
       "      <th>4</th>\n",
       "      <td>Ozzie Albies</td>\n",
       "      <td>ATL</td>\n",
       "      <td>2B</td>\n",
       "      <td>23</td>\n",
       "      <td>160</td>\n",
       "      <td>640</td>\n",
       "      <td>102</td>\n",
       "      <td>189</td>\n",
       "      <td>43</td>\n",
       "      <td>8</td>\n",
       "      <td>...</td>\n",
       "      <td>54</td>\n",
       "      <td>112</td>\n",
       "      <td>0</td>\n",
       "      <td>4</td>\n",
       "      <td>4</td>\n",
       "      <td>0.295</td>\n",
       "      <td>0.352</td>\n",
       "      <td>0.500</td>\n",
       "      <td>0.852</td>\n",
       "      <td>2019</td>\n",
       "    </tr>\n",
       "  </tbody>\n",
       "</table>\n",
       "<p>5 rows × 24 columns</p>\n",
       "</div>"
      ],
      "text/plain": [
       "            Player Team Pos  Age    G   AB    R    H  2B  3B  ...  BB   SO  \\\n",
       "0  Whit Merrifield   KC  2B   31  162  681  105  206  41  10  ...  45  126   \n",
       "1    Marcus Semien  OAK  SS   30  162  657  123  187  43   7  ...  87  102   \n",
       "2    Rafael Devers  BOS  3B   24  156  647  129  201  54   4  ...  48  119   \n",
       "3  Jonathan Villar  BAL  2B   29  162  642  111  176  33   5  ...  61  176   \n",
       "4     Ozzie Albies  ATL  2B   23  160  640  102  189  43   8  ...  54  112   \n",
       "\n",
       "   SH  SF  HBP    AVG    OBP    SLG    OPS  Year  \n",
       "0   0   4    5  0.302  0.348  0.463  0.811  2019  \n",
       "1   0   1    2  0.285  0.369  0.522  0.891  2019  \n",
       "2   1   2    4  0.311  0.361  0.555  0.916  2019  \n",
       "3   2   4    4  0.274  0.339  0.453  0.792  2019  \n",
       "4   0   4    4  0.295  0.352  0.500  0.852  2019  \n",
       "\n",
       "[5 rows x 24 columns]"
      ]
     },
     "execution_count": 116,
     "metadata": {},
     "output_type": "execute_result"
    }
   ],
   "source": [
    "batters_leaders_2019.head()"
   ]
  },
  {
   "cell_type": "code",
   "execution_count": 117,
   "metadata": {},
   "outputs": [],
   "source": [
    "#combine all batters datasets into one\n",
    "batters_without_leaders = pd.concat([batters_data, batters_leaders_data])\n",
    "batters2019_without_leaders = pd.concat([batters2019_data, batters_leaders_2019])"
   ]
  },
  {
   "cell_type": "code",
   "execution_count": 118,
   "metadata": {},
   "outputs": [
    {
     "name": "stdout",
     "output_type": "stream",
     "text": [
      "8217\n",
      "829\n"
     ]
    }
   ],
   "source": [
    "print(len(batters_without_leaders))\n",
    "print(len(batters2019_without_leaders))"
   ]
  },
  {
   "cell_type": "code",
   "execution_count": 119,
   "metadata": {},
   "outputs": [],
   "source": [
    "batters_without_leaders_df = batters_without_leaders.drop_duplicates(subset=['Player','Year'], keep=False)"
   ]
  },
  {
   "cell_type": "code",
   "execution_count": 120,
   "metadata": {},
   "outputs": [
    {
     "name": "stdout",
     "output_type": "stream",
     "text": [
      "4386\n",
      "448\n"
     ]
    }
   ],
   "source": [
    "batters2019_without_leaders_df = batters2019_without_leaders.drop_duplicates(subset=['Player'], keep=False)\n",
    "print(len(batters_without_leaders_df))\n",
    "print(len(batters2019_without_leaders_df))"
   ]
  },
  {
   "cell_type": "code",
   "execution_count": 121,
   "metadata": {},
   "outputs": [
    {
     "name": "stderr",
     "output_type": "stream",
     "text": [
      "C:\\Users\\ssbne\\anaconda3\\envs\\PythonData\\lib\\site-packages\\pandas\\core\\frame.py:4304: SettingWithCopyWarning: \n",
      "A value is trying to be set on a copy of a slice from a DataFrame\n",
      "\n",
      "See the caveats in the documentation: https://pandas.pydata.org/pandas-docs/stable/user_guide/indexing.html#returning-a-view-versus-a-copy\n",
      "  errors=errors,\n",
      "C:\\Users\\ssbne\\anaconda3\\envs\\PythonData\\lib\\site-packages\\pandas\\core\\frame.py:4170: SettingWithCopyWarning: \n",
      "A value is trying to be set on a copy of a slice from a DataFrame\n",
      "\n",
      "See the caveats in the documentation: https://pandas.pydata.org/pandas-docs/stable/user_guide/indexing.html#returning-a-view-versus-a-copy\n",
      "  errors=errors,\n"
     ]
    }
   ],
   "source": [
    "batters_without_leaders_df.rename({\"Unnamed: 0\":\"a\"}, axis=\"columns\", inplace=True)\n",
    "\n",
    "# Then, drop the column as usual.\n",
    "batters_without_leaders_df.drop([\"a\"], axis=1, inplace=True)"
   ]
  },
  {
   "cell_type": "code",
   "execution_count": 122,
   "metadata": {},
   "outputs": [],
   "source": [
    "#Write larger data sets to a CSV File\n",
    "batters_without_leaders_df.to_csv(\"Arun Data/batters_without_leaders 2010-2019.csv\")\n",
    "batters2019_without_leaders_df.to_csv(\"Arun Data/batters_without_leaders 2019 Only.csv\")"
   ]
  },
  {
   "cell_type": "code",
   "execution_count": null,
   "metadata": {},
   "outputs": [],
   "source": []
  }
 ],
 "metadata": {
  "anaconda-cloud": {},
  "kernel_info": {
   "name": "python3"
  },
  "kernelspec": {
   "display_name": "Python 3",
   "language": "python",
   "name": "python3"
  },
  "language_info": {
   "codemirror_mode": {
    "name": "ipython",
    "version": 3
   },
   "file_extension": ".py",
   "mimetype": "text/x-python",
   "name": "python",
   "nbconvert_exporter": "python",
   "pygments_lexer": "ipython3",
   "version": "3.6.11"
  },
  "latex_envs": {
   "LaTeX_envs_menu_present": true,
   "autoclose": false,
   "autocomplete": true,
   "bibliofile": "biblio.bib",
   "cite_by": "apalike",
   "current_citInitial": 1,
   "eqLabelWithNumbers": true,
   "eqNumInitial": 1,
   "hotkeys": {
    "equation": "Ctrl-E",
    "itemize": "Ctrl-I"
   },
   "labels_anchors": false,
   "latex_user_defs": false,
   "report_style_numbering": false,
   "user_envs_cfg": false
  },
  "nteract": {
   "version": "0.8.4"
  }
 },
 "nbformat": 4,
 "nbformat_minor": 4
}
