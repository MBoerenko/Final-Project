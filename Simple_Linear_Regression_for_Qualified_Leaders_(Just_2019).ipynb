{
  "nbformat": 4,
  "nbformat_minor": 0,
  "metadata": {
    "colab": {
      "name": "Simple Linear Regression for Qualified Leaders (Just 2019).ipynb",
      "provenance": [],
      "mount_file_id": "1WGL2pSnmRsEYzed0gJvFH_YD9D6pcR9O",
      "authorship_tag": "ABX9TyN6LgYrw+LqwzauSKLyWCsQ",
      "include_colab_link": true
    },
    "kernelspec": {
      "name": "python3",
      "display_name": "Python 3"
    }
  },
  "cells": [
    {
      "cell_type": "markdown",
      "metadata": {
        "id": "view-in-github",
        "colab_type": "text"
      },
      "source": [
        "<a href=\"https://colab.research.google.com/github/MBoerenko/Final-Project/blob/main/Simple_Linear_Regression_for_Qualified_Leaders_(Just_2019).ipynb\" target=\"_parent\"><img src=\"https://colab.research.google.com/assets/colab-badge.svg\" alt=\"Open In Colab\"/></a>"
      ]
    },
    {
      "cell_type": "code",
      "metadata": {
        "id": "AboUh2AXR8UA"
      },
      "source": [
        "#Runs Scored = index 6\n",
        "\n",
        "import numpy as np\n",
        "import matplotlib.pyplot as plt  # To visualize\n",
        "import pandas as pd  # To read data\n",
        "from sklearn.linear_model import LinearRegression"
      ],
      "execution_count": 11,
      "outputs": []
    },
    {
      "cell_type": "code",
      "metadata": {
        "id": "hgquN9-9xfpo"
      },
      "source": [
        ""
      ],
      "execution_count": 11,
      "outputs": []
    },
    {
      "cell_type": "code",
      "metadata": {
        "id": "MFGhVKlWSBuB"
      },
      "source": [
        "#Age vs. Runs Scored\n",
        "\n",
        "data = pd.read_csv('/content/drive/My Drive/Batters_Data_Sets/Simple_Linear_Regression_for_Batters/Qualified_Leaders_2019.csv')  # load data set\n",
        "age_X = data.iloc[:, 3].values.reshape(-1, 1)  # values converts it into a numpy array\n",
        "runs_Y = data.iloc[:, 6].values.reshape(-1, 1)  # -1 means that calculate the dimension of rows, but have 1 column\n",
        "simple_age_vs_runs = LinearRegression()  # create object for the class\n",
        "simple_age_vs_runs.fit(age_X, runs_Y)  # perform linear regression\n",
        "runs_Y_pred = simple_age_vs_runs.predict(age_X)  # make predictions\n"
      ],
      "execution_count": 18,
      "outputs": []
    },
    {
      "cell_type": "code",
      "metadata": {
        "id": "k_tSWZ90SEfk",
        "outputId": "e85bbf27-cec7-419e-fcfc-7748af3fe316",
        "colab": {
          "base_uri": "https://localhost:8080/",
          "height": 265
        }
      },
      "source": [
        "plt.scatter(age_X, runs_Y)\n",
        "plt.plot(age_X, runs_Y_pred, color='red')\n",
        "plt.show()"
      ],
      "execution_count": 19,
      "outputs": [
        {
          "output_type": "display_data",
          "data": {
            "image/png": "[encoded data removed]",
            "text/plain": [
              "<Figure size 432x288 with 1 Axes>"
            ]
          },
          "metadata": {
            "tags": [],
            "needs_background": "light"
          }
        }
      ]
    },
    {
      "cell_type": "code",
      "metadata": {
        "id": "C74U3JdcS7tO",
        "outputId": "9235eeb8-577c-4248-88fc-1bc4f7318b47",
        "colab": {
          "base_uri": "https://localhost:8080/"
        }
      },
      "source": [
        "print('Weight coefficients: ', simple_age_vs_runs.coef_)\n",
        "print('y-axis intercept: ', simple_age_vs_runs.intercept_) \n",
        "age_predictions = simple_age_vs_runs.predict(age_X)\n",
        "print(f\"True output: {runs_Y_pred[3]}\")\n",
        "print(f\"Predicted output: {age_predictions[3]}\")\n",
        "print(f\"Prediction Error: {age_predictions[3]-runs_Y_pred[3]}\")\n",
        "\n",
        "from sklearn.metrics import mean_squared_error, r2_score\n",
        "\n",
        "# Use our model to predict a value\n",
        "age_predicted = simple_age_vs_runs.predict(age_X)\n",
        "\n",
        "# Score the prediction with mse and r2\n",
        "age_mse = mean_squared_error(runs_Y, age_predicted)\n",
        "age_r2 = r2_score(runs_Y, age_predicted)\n",
        "\n",
        "print(f\"Mean Squared Error (MSE): {age_mse}\")\n",
        "print(f\"R-squared (R2 ): {age_r2}\")\n",
        "\n",
        "linear_regressor_age = simple_age_vs_runs.score(age_X, runs_Y)\n",
        "print(f\"Linear Regressor Score (X, Y): {linear_regressor_age}\")"
      ],
      "execution_count": 20,
      "outputs": [
        {
          "output_type": "stream",
          "text": [
            "Weight coefficients:  [[-1.04982556]]\n",
            "y-axis intercept:  [114.39820468]\n",
            "True output: [83.95326356]\n",
            "Predicted output: [83.95326356]\n",
            "Prediction Error: [0.]\n",
            "Mean Squared Error (MSE): 350.13219217909574\n",
            "R-squared (R2 ): 0.04101786291270515\n",
            "Linear Regressor Score (X, Y): 0.04101786291270515\n"
          ],
          "name": "stdout"
        }
      ]
    },
    {
      "cell_type": "code",
      "metadata": {
        "id": "8StOqAd5xqmR"
      },
      "source": [
        ""
      ],
      "execution_count": 20,
      "outputs": []
    },
    {
      "cell_type": "code",
      "metadata": {
        "id": "hxZlybAUUqA0"
      },
      "source": [
        "#Games Played vs. Runs Scored\n",
        "\n",
        "\n",
        "games_X = data.iloc[:, 4].values.reshape(-1, 1)  # values converts it into a numpy array\n",
        "runs_Y = data.iloc[:, 6].values.reshape(-1, 1)  # -1 means that calculate the dimension of rows, but have 1 column\n",
        "simple_games_vs_runs = LinearRegression()  # create object for the class\n",
        "simple_games_vs_runs.fit(games_X, runs_Y)  # perform linear regression\n",
        "games_Y_pred = simple_games_vs_runs.predict(games_X)  # make predictions\n"
      ],
      "execution_count": 21,
      "outputs": []
    },
    {
      "cell_type": "code",
      "metadata": {
        "id": "alj-BN51UzOc",
        "outputId": "29a8e2ff-9a0c-4439-a387-4b781cf22edf",
        "colab": {
          "base_uri": "https://localhost:8080/",
          "height": 265
        }
      },
      "source": [
        "plt.scatter(games_X, runs_Y)\n",
        "plt.plot(games_X, games_Y_pred, color='red')\n",
        "plt.show()"
      ],
      "execution_count": 22,
      "outputs": [
        {
          "output_type": "display_data",
          "data": {
            "image/png": "[encoded data removed]",
            "text/plain": [
              "<Figure size 432x288 with 1 Axes>"
            ]
          },
          "metadata": {
            "tags": [],
            "needs_background": "light"
          }
        }
      ]
    },
    {
      "cell_type": "code",
      "metadata": {
        "id": "V9YvSX5nU2IM",
        "outputId": "7ec8d60e-d192-473a-ccef-11152efd422a",
        "colab": {
          "base_uri": "https://localhost:8080/"
        }
      },
      "source": [
        "print('Weight coefficients: ', simple_games_vs_runs.coef_)\n",
        "print('y-axis intercept: ', simple_games_vs_runs.intercept_) \n",
        "games_predictions = simple_games_vs_runs.predict(age_X)\n",
        "print(f\"True output: {runs_Y_pred[4]}\")\n",
        "print(f\"Predicted output: {games_predictions[4]}\")\n",
        "print(f\"Prediction Error: {games_predictions[4]-runs_Y_pred[4]}\")\n",
        "\n",
        "from sklearn.metrics import mean_squared_error, r2_score\n",
        "\n",
        "# Use our model to predict a value\n",
        "games_predicted = simple_games_vs_runs.predict(age_X)\n",
        "\n",
        "# Score the prediction with mse and r2\n",
        "games_mse = mean_squared_error(runs_Y, games_predicted)\n",
        "games_r2 = r2_score(runs_Y, games_predicted)\n",
        "\n",
        "print(f\"Mean Squared Error (MSE): {games_mse}\")\n",
        "print(f\"R-squared (R2 ): {games_r2}\")\n",
        "\n",
        "linear_regressor_games = simple_games_vs_runs.score(games_X, runs_Y)\n",
        "print(f\"Linear Regressor Score (X, Y): {linear_regressor_games}\")"
      ],
      "execution_count": 23,
      "outputs": [
        {
          "output_type": "stream",
          "text": [
            "Weight coefficients:  [[0.70151774]]\n",
            "y-axis intercept:  [-17.32932781]\n",
            "True output: [90.25221689]\n",
            "Predicted output: [-1.19441988]\n",
            "Prediction Error: [-91.44663678]\n",
            "Mean Squared Error (MSE): 6829.952821420294\n",
            "R-squared (R2 ): -17.706656797615313\n",
            "Linear Regressor Score (X, Y): 0.19121459257512674\n"
          ],
          "name": "stdout"
        }
      ]
    },
    {
      "cell_type": "code",
      "metadata": {
        "id": "pAFLHXZAVPQM"
      },
      "source": [
        ""
      ],
      "execution_count": 23,
      "outputs": []
    },
    {
      "cell_type": "code",
      "metadata": {
        "id": "2y8wmaDgWihv"
      },
      "source": [
        "#At Bats vs Runs Scored\n",
        "\n",
        "\n",
        "bats_X = data.iloc[:, 5].values.reshape(-1, 1)  # values converts it into a numpy array\n",
        "runs_Y = data.iloc[:, 6].values.reshape(-1, 1)  # -1 means that calculate the dimension of rows, but have 1 column\n",
        "simple_bats_vs_runs = LinearRegression()  # create object for the class\n",
        "simple_bats_vs_runs.fit(bats_X, runs_Y)  # perform linear regression\n",
        "runs_Y_pred = simple_bats_vs_runs.predict(bats_X)  # make predictions\n"
      ],
      "execution_count": 24,
      "outputs": []
    },
    {
      "cell_type": "code",
      "metadata": {
        "id": "LJFoMhiUW2pZ",
        "outputId": "a6c02487-3ed9-4486-fe77-0be5d0f32d1b",
        "colab": {
          "base_uri": "https://localhost:8080/",
          "height": 265
        }
      },
      "source": [
        "plt.scatter(bats_X, runs_Y)\n",
        "plt.plot(bats_X, runs_Y_pred, color='red')\n",
        "plt.show()"
      ],
      "execution_count": 25,
      "outputs": [
        {
          "output_type": "display_data",
          "data": {
            "image/png": "[encoded data removed]",
            "text/plain": [
              "<Figure size 432x288 with 1 Axes>"
            ]
          },
          "metadata": {
            "tags": [],
            "needs_background": "light"
          }
        }
      ]
    },
    {
      "cell_type": "code",
      "metadata": {
        "id": "XA4PhbrlW8EA",
        "outputId": "1b81c6b0-2193-436c-99e1-bbc78e0ccca0",
        "colab": {
          "base_uri": "https://localhost:8080/"
        }
      },
      "source": [
        "print('Weight coefficients: ', simple_bats_vs_runs.coef_)\n",
        "print('y-axis intercept: ', simple_bats_vs_runs.intercept_) \n",
        "bats_predictions = simple_bats_vs_runs.predict(age_X)\n",
        "print(f\"True output: {runs_Y_pred[5]}\")\n",
        "print(f\"Predicted output: {bats_predictions[5]}\")\n",
        "print(f\"Prediction Error: {bats_predictions[5]-runs_Y_pred[5]}\")\n",
        "\n",
        "from sklearn.metrics import mean_squared_error, r2_score\n",
        "\n",
        "# Use our model to predict a value\n",
        "bats_predicted = simple_bats_vs_runs.predict(bats_X)\n",
        "\n",
        "# Score the prediction with mse and r2\n",
        "bats_mse = mean_squared_error(runs_Y, bats_predicted)\n",
        "bats_r2 = r2_score(runs_Y, bats_predicted)\n",
        "\n",
        "print(f\"Mean Squared Error (MSE): {bats_mse}\")\n",
        "print(f\"R-squared (R2 ): {bats_r2}\")\n",
        "\n",
        "linear_regressor_bats = simple_bats_vs_runs.score(games_X, runs_Y)\n",
        "print(f\"Linear Regressor Score (X, Y): {linear_regressor_bats}\")"
      ],
      "execution_count": 26,
      "outputs": [
        {
          "output_type": "stream",
          "text": [
            "Weight coefficients:  [[0.21240364]]\n",
            "y-axis intercept:  [-29.82570053]\n",
            "True output: [105.26301198]\n",
            "Predicted output: [-23.24118782]\n",
            "Prediction Error: [-128.5041998]\n",
            "Mean Squared Error (MSE): 218.06682746790324\n",
            "R-squared (R2 ): 0.40273360489500953\n",
            "Linear Regressor Score (X, Y): -18.68842089661522\n"
          ],
          "name": "stdout"
        }
      ]
    },
    {
      "cell_type": "code",
      "metadata": {
        "id": "nh2n2EEdXSnz"
      },
      "source": [
        ""
      ],
      "execution_count": 26,
      "outputs": []
    },
    {
      "cell_type": "code",
      "metadata": {
        "id": "CW9qQ3EBYDTx"
      },
      "source": [
        "#Hitters vs Runs Scored\n",
        "\n",
        "\n",
        "hit_X = data.iloc[:, 7].values.reshape(-1, 1)  # values converts it into a numpy array\n",
        "runs_Y = data.iloc[:, 6].values.reshape(-1, 1)  # -1 means that calculate the dimension of rows, but have 1 column\n",
        "simple_hit_vs_runs = LinearRegression()  # create object for the class\n",
        "simple_hit_vs_runs.fit(hit_X, runs_Y)  # perform linear regression\n",
        "runs_Y_pred = simple_hit_vs_runs.predict(hit_X)  # make predictions"
      ],
      "execution_count": 27,
      "outputs": []
    },
    {
      "cell_type": "code",
      "metadata": {
        "id": "XvEN0M1JYagk",
        "outputId": "919c4a4b-035e-45b0-951b-0c2d5d5f2b4a",
        "colab": {
          "base_uri": "https://localhost:8080/",
          "height": 265
        }
      },
      "source": [
        "plt.scatter(hit_X, runs_Y)\n",
        "plt.plot(hit_X, runs_Y_pred, color='red')\n",
        "plt.show()"
      ],
      "execution_count": 28,
      "outputs": [
        {
          "output_type": "display_data",
          "data": {
            "image/png": "[encoded data removed]",
            "text/plain": [
              "<Figure size 432x288 with 1 Axes>"
            ]
          },
          "metadata": {
            "tags": [],
            "needs_background": "light"
          }
        }
      ]
    },
    {
      "cell_type": "code",
      "metadata": {
        "id": "NoUXg3zIYfu9",
        "outputId": "dc3b0e23-2905-4e95-c04f-c162434ec0f8",
        "colab": {
          "base_uri": "https://localhost:8080/"
        }
      },
      "source": [
        "print('Weight coefficients: ', simple_hit_vs_runs.coef_)\n",
        "print('y-axis intercept: ', simple_hit_vs_runs.intercept_) \n",
        "hit_predictions = simple_hit_vs_runs.predict(hit_X)\n",
        "print(f\"True output: {runs_Y_pred[7]}\")\n",
        "print(f\"Predicted output: {hit_predictions[7]}\")\n",
        "print(f\"Prediction Error: {hit_predictions[7]-runs_Y_pred[7]}\")\n",
        "\n",
        "from sklearn.metrics import mean_squared_error, r2_score\n",
        "\n",
        "# Use our model to predict a value\n",
        "hit_predicted = simple_hit_vs_runs.predict(hit_X)\n",
        "\n",
        "# Score the prediction with mse and r2\n",
        "hit_mse = mean_squared_error(runs_Y, hit_predicted)\n",
        "hit_r2 = r2_score(runs_Y, hit_predicted)\n",
        "\n",
        "print(f\"Mean Squared Error (MSE): {hit_mse}\")\n",
        "print(f\"R-squared (R2 ): {hit_r2}\")\n",
        "\n",
        "linear_regressor_hit = simple_hit_vs_runs.score(games_X, runs_Y)\n",
        "print(f\"Linear Regressor Score (X, Y): {linear_regressor_hit}\")"
      ],
      "execution_count": 29,
      "outputs": [
        {
          "output_type": "stream",
          "text": [
            "Weight coefficients:  [[0.53752178]]\n",
            "y-axis intercept:  [5.2661804]\n",
            "True output: [102.02010095]\n",
            "Predicted output: [102.02010095]\n",
            "Prediction Error: [0.]\n",
            "Mean Squared Error (MSE): 199.22786481679847\n",
            "R-squared (R2 ): 0.45433191281187524\n",
            "Linear Regressor Score (X, Y): 0.17811565244941943\n"
          ],
          "name": "stdout"
        }
      ]
    },
    {
      "cell_type": "code",
      "metadata": {
        "id": "NFrzVmcbY5-A"
      },
      "source": [
        ""
      ],
      "execution_count": 29,
      "outputs": []
    },
    {
      "cell_type": "code",
      "metadata": {
        "id": "yrRWsiRJZJrD"
      },
      "source": [
        "#Double vs Runs Scored\n",
        "\n",
        "\n",
        "double_X = data.iloc[:, 8].values.reshape(-1, 1)  # values converts it into a numpy array\n",
        "runs_Y = data.iloc[:, 6].values.reshape(-1, 1)  # -1 means that calculate the dimension of rows, but have 1 column\n",
        "simple_double_vs_runs = LinearRegression()  # create object for the class\n",
        "simple_double_vs_runs.fit(double_X, runs_Y)  # perform linear regression\n",
        "runs_Y_pred = simple_double_vs_runs.predict(double_X)  # make predictions"
      ],
      "execution_count": 30,
      "outputs": []
    },
    {
      "cell_type": "code",
      "metadata": {
        "id": "-eyyQZcxZnvV",
        "outputId": "b7f165f5-0750-4ec5-b3ea-d0a031e5618f",
        "colab": {
          "base_uri": "https://localhost:8080/",
          "height": 265
        }
      },
      "source": [
        "plt.scatter(double_X, runs_Y)\n",
        "plt.plot(double_X, runs_Y_pred, color='red')\n",
        "plt.show()"
      ],
      "execution_count": 31,
      "outputs": [
        {
          "output_type": "display_data",
          "data": {
            "image/png": "[encoded data removed]",
            "text/plain": [
              "<Figure size 432x288 with 1 Axes>"
            ]
          },
          "metadata": {
            "tags": [],
            "needs_background": "light"
          }
        }
      ]
    },
    {
      "cell_type": "code",
      "metadata": {
        "id": "VtVBX4WXZpzs",
        "outputId": "570f24cb-e45f-4b67-af52-a19ed382d1ac",
        "colab": {
          "base_uri": "https://localhost:8080/"
        }
      },
      "source": [
        "print('Weight coefficients: ', simple_double_vs_runs.coef_)\n",
        "print('y-axis intercept: ', simple_double_vs_runs.intercept_) \n",
        "double_predictions = simple_double_vs_runs.predict(double_X)\n",
        "print(f\"True output: {runs_Y_pred[8]}\")\n",
        "print(f\"Predicted output: {double_predictions[8]}\")\n",
        "print(f\"Prediction Error: {double_predictions[8]-runs_Y_pred[8]}\")\n",
        "\n",
        "from sklearn.metrics import mean_squared_error, r2_score\n",
        "\n",
        "# Use our model to predict a value\n",
        "double_predicted = simple_double_vs_runs.predict(double_X)\n",
        "\n",
        "# Score the prediction with mse and r2\n",
        "double_mse = mean_squared_error(runs_Y, double_predicted)\n",
        "double_r2 = r2_score(runs_Y, double_predicted)\n",
        "\n",
        "print(f\"Mean Squared Error (MSE): {double_mse}\")\n",
        "print(f\"R-squared (R2 ): {double_r2}\")\n",
        "\n",
        "linear_regressor_double = simple_double_vs_runs.score(double_X, runs_Y)\n",
        "print(f\"Linear Regressor Score (X, Y): {linear_regressor_double}\")"
      ],
      "execution_count": 32,
      "outputs": [
        {
          "output_type": "stream",
          "text": [
            "Weight coefficients:  [[1.51510308]]\n",
            "y-axis intercept:  [38.93318795]\n",
            "True output: [99.53731102]\n",
            "Predicted output: [99.53731102]\n",
            "Prediction Error: [0.]\n",
            "Mean Squared Error (MSE): 235.95926550100603\n",
            "R-squared (R2 ): 0.35372774697632325\n",
            "Linear Regressor Score (X, Y): 0.3537277469763232\n"
          ],
          "name": "stdout"
        }
      ]
    },
    {
      "cell_type": "code",
      "metadata": {
        "id": "odnmwaM4aDIk"
      },
      "source": [
        ""
      ],
      "execution_count": 32,
      "outputs": []
    },
    {
      "cell_type": "code",
      "metadata": {
        "id": "xw8Oip-3eCGJ"
      },
      "source": [
        "#Triple vs. Runs Scored\n",
        "\n",
        "\n",
        "triple_X = data.iloc[:, 9].values.reshape(-1, 1)  # values converts it into a numpy array\n",
        "runs_Y = data.iloc[:, 6].values.reshape(-1, 1)  # -1 means that calculate the dimension of rows, but have 1 column\n",
        "simple_triple_vs_runs = LinearRegression()  # create object for the class\n",
        "simple_triple_vs_runs.fit(triple_X, runs_Y)  # perform linear regression\n",
        "runs_Y_pred = simple_triple_vs_runs.predict(triple_X)  # make predictions"
      ],
      "execution_count": 33,
      "outputs": []
    },
    {
      "cell_type": "code",
      "metadata": {
        "id": "nSAInquveO-L",
        "outputId": "472c4f74-a237-4977-f84f-97fa76aadfd6",
        "colab": {
          "base_uri": "https://localhost:8080/",
          "height": 265
        }
      },
      "source": [
        "plt.scatter(triple_X, runs_Y)\n",
        "plt.plot(triple_X, runs_Y_pred, color='red')\n",
        "plt.show()"
      ],
      "execution_count": 34,
      "outputs": [
        {
          "output_type": "display_data",
          "data": {
            "image/png": "[encoded data removed]",
            "text/plain": [
              "<Figure size 432x288 with 1 Axes>"
            ]
          },
          "metadata": {
            "tags": [],
            "needs_background": "light"
          }
        }
      ]
    },
    {
      "cell_type": "code",
      "metadata": {
        "id": "UqzxtqUQeTTO",
        "outputId": "bd568f96-fa65-4141-eb67-7cfb9e5c07e6",
        "colab": {
          "base_uri": "https://localhost:8080/"
        }
      },
      "source": [
        "print('Weight coefficients: ', simple_triple_vs_runs.coef_)\n",
        "print('y-axis intercept: ', simple_triple_vs_runs.intercept_) \n",
        "triple_predictions = simple_triple_vs_runs.predict(double_X)\n",
        "print(f\"True output: {runs_Y_pred[9]}\")\n",
        "print(f\"Predicted output: {triple_predictions[9]}\")\n",
        "print(f\"Prediction Error: {triple_predictions[9]-runs_Y_pred[9]}\")\n",
        "\n",
        "from sklearn.metrics import mean_squared_error, r2_score\n",
        "\n",
        "# Use our model to predict a value\n",
        "triple_predicted = simple_triple_vs_runs.predict(triple_X)\n",
        "\n",
        "# Score the prediction with mse and r2\n",
        "triple_mse = mean_squared_error(runs_Y, triple_predicted)\n",
        "triple_r2 = r2_score(runs_Y, triple_predicted)\n",
        "\n",
        "print(f\"Mean Squared Error (MSE): {triple_mse}\")\n",
        "print(f\"R-squared (R2 ): {triple_r2}\")\n",
        "\n",
        "linear_regressor_triple = simple_triple_vs_runs.score(triple_X, runs_Y)\n",
        "print(f\"Linear Regressor Score (X, Y): {linear_regressor_triple}\")"
      ],
      "execution_count": 35,
      "outputs": [
        {
          "output_type": "stream",
          "text": [
            "Weight coefficients:  [[2.09023459]]\n",
            "y-axis intercept:  [77.71164292]\n",
            "True output: [81.8921121]\n",
            "Predicted output: [123.6968039]\n",
            "Prediction Error: [41.80469181]\n",
            "Mean Squared Error (MSE): 340.74581886460186\n",
            "R-squared (R2 ): 0.06672633685967722\n",
            "Linear Regressor Score (X, Y): 0.06672633685967722\n"
          ],
          "name": "stdout"
        }
      ]
    },
    {
      "cell_type": "code",
      "metadata": {
        "id": "CEJpDdn0erlR"
      },
      "source": [
        ""
      ],
      "execution_count": 35,
      "outputs": []
    },
    {
      "cell_type": "code",
      "metadata": {
        "id": "zcEl8VHqe3dW"
      },
      "source": [
        "#Home Runs vs. Runs Scored\n",
        "\n",
        "home_X = data.iloc[:, 10].values.reshape(-1, 1)  # values converts it into a numpy array\n",
        "runs_Y = data.iloc[:, 6].values.reshape(-1, 1)  # -1 means that calculate the dimension of rows, but have 1 column\n",
        "simple_home_vs_runs = LinearRegression()  # create object for the class\n",
        "simple_home_vs_runs.fit(home_X, runs_Y)  # perform linear regression\n",
        "runs_Y_pred = simple_home_vs_runs.predict(home_X)  # make predictions"
      ],
      "execution_count": 36,
      "outputs": []
    },
    {
      "cell_type": "code",
      "metadata": {
        "id": "9SsPJ2NRfJPK",
        "outputId": "727fe2a5-62d6-4c18-be04-13068c893255",
        "colab": {
          "base_uri": "https://localhost:8080/",
          "height": 265
        }
      },
      "source": [
        "plt.scatter(home_X, runs_Y)\n",
        "plt.plot(home_X, runs_Y_pred, color='red')\n",
        "plt.show()"
      ],
      "execution_count": 37,
      "outputs": [
        {
          "output_type": "display_data",
          "data": {
            "image/png": "[encoded data removed]",
            "text/plain": [
              "<Figure size 432x288 with 1 Axes>"
            ]
          },
          "metadata": {
            "tags": [],
            "needs_background": "light"
          }
        }
      ]
    },
    {
      "cell_type": "code",
      "metadata": {
        "id": "MPC83_JAfNGT",
        "outputId": "2a6db2de-150a-4a0a-c5de-9f66d766b7de",
        "colab": {
          "base_uri": "https://localhost:8080/"
        }
      },
      "source": [
        "print('Weight coefficients: ', simple_home_vs_runs.coef_)\n",
        "print('y-axis intercept: ', simple_home_vs_runs.intercept_) \n",
        "home_predictions = simple_home_vs_runs.predict(home_X)\n",
        "print(f\"True output: {runs_Y_pred[10]}\")\n",
        "print(f\"Predicted output: {home_predictions[10]}\")\n",
        "print(f\"Prediction Error: {home_predictions[10]-runs_Y_pred[10]}\")\n",
        "\n",
        "from sklearn.metrics import mean_squared_error, r2_score\n",
        "\n",
        "# Use our model to predict a value\n",
        "home_predicted = simple_home_vs_runs.predict(home_X)\n",
        "\n",
        "# Score the prediction with mse and r2\n",
        "home_mse = mean_squared_error(runs_Y, home_predicted)\n",
        "home_r2 = r2_score(runs_Y, home_predicted)\n",
        "\n",
        "print(f\"Mean Squared Error (MSE): {home_mse}\")\n",
        "print(f\"R-squared (R2 ): {home_r2}\")\n",
        "\n",
        "linear_regressor_home = simple_home_vs_runs.score(home_X, runs_Y)\n",
        "print(f\"Linear Regressor Score (X, Y): {linear_regressor_home}\")"
      ],
      "execution_count": 38,
      "outputs": [
        {
          "output_type": "stream",
          "text": [
            "Weight coefficients:  [[1.16187147]]\n",
            "y-axis intercept:  [53.89270111]\n",
            "True output: [79.4538735]\n",
            "Predicted output: [79.4538735]\n",
            "Prediction Error: [0.]\n",
            "Mean Squared Error (MSE): 226.45643118429263\n",
            "R-squared (R2 ): 0.37975519765063004\n",
            "Linear Regressor Score (X, Y): 0.37975519765063004\n"
          ],
          "name": "stdout"
        }
      ]
    },
    {
      "cell_type": "code",
      "metadata": {
        "id": "Tv-TQ77Kf_A3"
      },
      "source": [
        ""
      ],
      "execution_count": 38,
      "outputs": []
    },
    {
      "cell_type": "code",
      "metadata": {
        "id": "-YXaBQrFgDey"
      },
      "source": [
        "#Runs Batted In vs. Runs Scored\n",
        "\n",
        "\n",
        "rbi_X = data.iloc[:, 11].values.reshape(-1, 1)  # values converts it into a numpy array\n",
        "runs_Y = data.iloc[:, 6].values.reshape(-1, 1)  # -1 means that calculate the dimension of rows, but have 1 column\n",
        "simple_rbi_vs_runs = LinearRegression()  # create object for the class\n",
        "simple_rbi_vs_runs.fit(rbi_X, runs_Y)  # perform linear regression\n",
        "runs_Y_pred = simple_rbi_vs_runs.predict(rbi_X)  # make predictions"
      ],
      "execution_count": 39,
      "outputs": []
    },
    {
      "cell_type": "code",
      "metadata": {
        "id": "X0oXfAVvg4fL",
        "outputId": "1c0f04d7-88ff-4b24-96e7-8ee85c24fd9a",
        "colab": {
          "base_uri": "https://localhost:8080/",
          "height": 265
        }
      },
      "source": [
        "plt.scatter(rbi_X, runs_Y)\n",
        "plt.plot(rbi_X, runs_Y_pred, color='red')\n",
        "plt.show()"
      ],
      "execution_count": 40,
      "outputs": [
        {
          "output_type": "display_data",
          "data": {
            "image/png": "[encoded data removed]",
            "text/plain": [
              "<Figure size 432x288 with 1 Axes>"
            ]
          },
          "metadata": {
            "tags": [],
            "needs_background": "light"
          }
        }
      ]
    },
    {
      "cell_type": "code",
      "metadata": {
        "id": "HUjVjv0vhTlU",
        "outputId": "ce31decf-0195-40bf-df3c-6fed44e9201b",
        "colab": {
          "base_uri": "https://localhost:8080/"
        }
      },
      "source": [
        "print('Weight coefficients: ', simple_rbi_vs_runs.coef_)\n",
        "print('y-axis intercept: ', simple_rbi_vs_runs.intercept_) \n",
        "rbi_predictions = simple_rbi_vs_runs.predict(rbi_X)\n",
        "print(f\"True output: {runs_Y_pred[11]}\")\n",
        "print(f\"Predicted output: {rbi_predictions[11]}\")\n",
        "print(f\"Prediction Error: {rbi_predictions[11]-runs_Y_pred[11]}\")\n",
        "\n",
        "from sklearn.metrics import mean_squared_error, r2_score\n",
        "\n",
        "# Use our model to predict a value\n",
        "rbi_predicted = simple_rbi_vs_runs.predict(rbi_X)\n",
        "\n",
        "# Score the prediction with mse and r2\n",
        "rbi_mse = mean_squared_error(runs_Y, rbi_predicted)\n",
        "rbi_r2 = r2_score(runs_Y, rbi_predicted)\n",
        "\n",
        "print(f\"Mean Squared Error (MSE): {rbi_mse}\")\n",
        "print(f\"R-squared (R2 ): {rbi_r2}\")\n",
        "\n",
        "linear_regressor_rbi = simple_rbi_vs_runs.score(rbi_X, runs_Y)\n",
        "print(f\"Linear Regressor Score (X, Y): {linear_regressor_rbi}\")"
      ],
      "execution_count": 41,
      "outputs": [
        {
          "output_type": "stream",
          "text": [
            "Weight coefficients:  [[0.55312436]]\n",
            "y-axis intercept:  [39.18914823]\n",
            "True output: [79.01410242]\n",
            "Predicted output: [79.01410242]\n",
            "Prediction Error: [0.]\n",
            "Mean Squared Error (MSE): 245.39673956388475\n",
            "R-squared (R2 ): 0.32787931244878343\n",
            "Linear Regressor Score (X, Y): 0.32787931244878343\n"
          ],
          "name": "stdout"
        }
      ]
    },
    {
      "cell_type": "code",
      "metadata": {
        "id": "nQ1xP2v1hokY"
      },
      "source": [
        ""
      ],
      "execution_count": 41,
      "outputs": []
    },
    {
      "cell_type": "code",
      "metadata": {
        "id": "cvQRp7hHhpad"
      },
      "source": [
        "#Stolen Base In vs. Runs Scored\n",
        "\n",
        "stolen_X = data.iloc[:, 12].values.reshape(-1, 1)  # values converts it into a numpy array\n",
        "runs_Y = data.iloc[:, 6].values.reshape(-1, 1)  # -1 means that calculate the dimension of rows, but have 1 column\n",
        "simple_stolen_vs_runs = LinearRegression()  # create object for the class\n",
        "simple_stolen_vs_runs.fit(stolen_X, runs_Y)  # perform linear regression\n",
        "runs_Y_pred = simple_stolen_vs_runs.predict(stolen_X)  # make predictions"
      ],
      "execution_count": 42,
      "outputs": []
    },
    {
      "cell_type": "code",
      "metadata": {
        "id": "-hUOLybLiYUz",
        "outputId": "7a64f2cf-7677-4441-94e7-cc684837bf03",
        "colab": {
          "base_uri": "https://localhost:8080/",
          "height": 265
        }
      },
      "source": [
        "plt.scatter(stolen_X, runs_Y)\n",
        "plt.plot(stolen_X, runs_Y_pred, color='red')\n",
        "plt.show()"
      ],
      "execution_count": 43,
      "outputs": [
        {
          "output_type": "display_data",
          "data": {
            "image/png": "[encoded data removed]",
            "text/plain": [
              "<Figure size 432x288 with 1 Axes>"
            ]
          },
          "metadata": {
            "tags": [],
            "needs_background": "light"
          }
        }
      ]
    },
    {
      "cell_type": "code",
      "metadata": {
        "id": "vBS0gCPXiey7",
        "outputId": "8d53c038-0de9-4cf3-8ba1-8dc66573d201",
        "colab": {
          "base_uri": "https://localhost:8080/"
        }
      },
      "source": [
        "print('Weight coefficients: ', simple_stolen_vs_runs.coef_)\n",
        "print('y-axis intercept: ', simple_stolen_vs_runs.intercept_) \n",
        "stolen_predictions = simple_stolen_vs_runs.predict(stolen_X)\n",
        "print(f\"True output: {runs_Y_pred[12]}\")\n",
        "print(f\"Predicted output: {stolen_predictions[12]}\")\n",
        "print(f\"Prediction Error: {stolen_predictions[12]-runs_Y_pred[12]}\")\n",
        "\n",
        "from sklearn.metrics import mean_squared_error, r2_score\n",
        "\n",
        "# Use our model to predict a value\n",
        "stolen_predicted = simple_stolen_vs_runs.predict(stolen_X)\n",
        "\n",
        "# Score the prediction with mse and r2\n",
        "stolen_mse = mean_squared_error(runs_Y, stolen_predicted)\n",
        "stolen_r2 = r2_score(runs_Y, stolen_predicted)\n",
        "\n",
        "print(f\"Mean Squared Error (MSE): {stolen_mse}\")\n",
        "print(f\"R-squared (R2 ): {stolen_r2}\")\n",
        "\n",
        "linear_regressor_stolen = simple_stolen_vs_runs.score(stolen_X, runs_Y)\n",
        "print(f\"Linear Regressor Score (X, Y): {linear_regressor_stolen}\")"
      ],
      "execution_count": 44,
      "outputs": [
        {
          "output_type": "stream",
          "text": [
            "Weight coefficients:  [[0.49526306]]\n",
            "y-axis intercept:  [79.33276882]\n",
            "True output: [81.31382108]\n",
            "Predicted output: [81.31382108]\n",
            "Prediction Error: [0.]\n",
            "Mean Squared Error (MSE): 346.1145039005347\n",
            "R-squared (R2 ): 0.05202196758398947\n",
            "Linear Regressor Score (X, Y): 0.05202196758398947\n"
          ],
          "name": "stdout"
        }
      ]
    },
    {
      "cell_type": "code",
      "metadata": {
        "id": "r-fAo3Zui1tD"
      },
      "source": [
        ""
      ],
      "execution_count": 44,
      "outputs": []
    },
    {
      "cell_type": "code",
      "metadata": {
        "id": "t1qio4cbjEYl"
      },
      "source": [
        "#Caught Stealing In vs. Runs Scored\n",
        "\n",
        "caught_X = data.iloc[:, 13].values.reshape(-1, 1)  # values converts it into a numpy array\n",
        "runs_Y = data.iloc[:, 6].values.reshape(-1, 1)  # -1 means that calculate the dimension of rows, but have 1 column\n",
        "simple_caught_vs_runs = LinearRegression()  # create object for the class\n",
        "simple_caught_vs_runs.fit(caught_X, runs_Y)  # perform linear regression\n",
        "runs_Y_pred = simple_caught_vs_runs.predict(caught_X)  # make predictions"
      ],
      "execution_count": 45,
      "outputs": []
    },
    {
      "cell_type": "code",
      "metadata": {
        "id": "QxPKk9_gjbG2",
        "outputId": "65b91513-41e1-4508-ef3d-af7ca274587e",
        "colab": {
          "base_uri": "https://localhost:8080/",
          "height": 265
        }
      },
      "source": [
        "plt.scatter(caught_X, runs_Y)\n",
        "plt.plot(caught_X, runs_Y_pred, color='red')\n",
        "plt.show()"
      ],
      "execution_count": 46,
      "outputs": [
        {
          "output_type": "display_data",
          "data": {
            "image/png": "[encoded data removed]",
            "text/plain": [
              "<Figure size 432x288 with 1 Axes>"
            ]
          },
          "metadata": {
            "tags": [],
            "needs_background": "light"
          }
        }
      ]
    },
    {
      "cell_type": "code",
      "metadata": {
        "id": "7AAvrI6qjjUO",
        "outputId": "b6a30c5e-632a-448d-cd3f-013287088a22",
        "colab": {
          "base_uri": "https://localhost:8080/"
        }
      },
      "source": [
        "print('Weight coefficients: ', simple_caught_vs_runs.coef_)\n",
        "print('y-axis intercept: ', simple_caught_vs_runs.intercept_) \n",
        "caught_predictions = simple_caught_vs_runs.predict(caught_X)\n",
        "print(f\"True output: {runs_Y_pred[13]}\")\n",
        "print(f\"Predicted output: {caught_predictions[13]}\")\n",
        "print(f\"Prediction Error: {caught_predictions[13]-runs_Y_pred[13]}\")\n",
        "\n",
        "from sklearn.metrics import mean_squared_error, r2_score\n",
        "\n",
        "# Use our model to predict a value\n",
        "caught_predicted = simple_caught_vs_runs.predict(caught_X)\n",
        "\n",
        "# Score the prediction with mse and r2\n",
        "caught_mse = mean_squared_error(runs_Y, caught_predicted)\n",
        "caught_r2 = r2_score(runs_Y, caught_predicted)\n",
        "\n",
        "print(f\"Mean Squared Error (MSE): {caught_mse}\")\n",
        "print(f\"R-squared (R2 ): {caught_r2}\")\n",
        "\n",
        "linear_regressor_caught = simple_caught_vs_runs.score(caught_X, runs_Y)\n",
        "print(f\"Linear Regressor Score (X, Y): {linear_regressor_caught}\")"
      ],
      "execution_count": 47,
      "outputs": [
        {
          "output_type": "stream",
          "text": [
            "Weight coefficients:  [[1.27839105]]\n",
            "y-axis intercept:  [79.75497757]\n",
            "True output: [82.31175967]\n",
            "Predicted output: [82.31175967]\n",
            "Prediction Error: [0.]\n",
            "Mean Squared Error (MSE): 354.4340563760494\n",
            "R-squared (R2 ): 0.029235424698786927\n",
            "Linear Regressor Score (X, Y): 0.029235424698786927\n"
          ],
          "name": "stdout"
        }
      ]
    },
    {
      "cell_type": "code",
      "metadata": {
        "id": "8IoJKCc7j4pV"
      },
      "source": [
        ""
      ],
      "execution_count": 47,
      "outputs": []
    },
    {
      "cell_type": "code",
      "metadata": {
        "id": "2-022ji6j_vi"
      },
      "source": [
        "#Walks In vs. Runs Scored\n",
        "\n",
        "walk_X = data.iloc[:, 14].values.reshape(-1, 1)  # values converts it into a numpy array\n",
        "runs_Y = data.iloc[:, 6].values.reshape(-1, 1)  # -1 means that calculate the dimension of rows, but have 1 column\n",
        "simple_walk_vs_runs = LinearRegression()  # create object for the class\n",
        "simple_walk_vs_runs.fit(walk_X, runs_Y)  # perform linear regression\n",
        "runs_Y_pred = simple_walk_vs_runs.predict(walk_X)  # make predictions"
      ],
      "execution_count": 48,
      "outputs": []
    },
    {
      "cell_type": "code",
      "metadata": {
        "id": "OLdsblU6kMAA",
        "outputId": "478d4759-db6b-4048-ca6b-fa8cc5ade996",
        "colab": {
          "base_uri": "https://localhost:8080/",
          "height": 265
        }
      },
      "source": [
        "plt.scatter(walk_X, runs_Y)\n",
        "plt.plot(walk_X, runs_Y_pred, color='red')\n",
        "plt.show()"
      ],
      "execution_count": 49,
      "outputs": [
        {
          "output_type": "display_data",
          "data": {
            "image/png": "[encoded data removed]",
            "text/plain": [
              "<Figure size 432x288 with 1 Axes>"
            ]
          },
          "metadata": {
            "tags": [],
            "needs_background": "light"
          }
        }
      ]
    },
    {
      "cell_type": "code",
      "metadata": {
        "id": "7I4GBezUkQau",
        "outputId": "4eb70f40-90f2-44cb-9aaa-f0f2f0937158",
        "colab": {
          "base_uri": "https://localhost:8080/"
        }
      },
      "source": [
        "print('Weight coefficients: ', simple_walk_vs_runs.coef_)\n",
        "print('y-axis intercept: ', simple_walk_vs_runs.intercept_) \n",
        "walk_predictions = simple_walk_vs_runs.predict(walk_X)\n",
        "print(f\"True output: {runs_Y_pred[14]}\")\n",
        "print(f\"Predicted output: {walk_predictions[14]}\")\n",
        "print(f\"Prediction Error: {walk_predictions[14]-runs_Y_pred[14]}\")\n",
        "\n",
        "from sklearn.metrics import mean_squared_error, r2_score\n",
        "\n",
        "# Use our model to predict a value\n",
        "walk_predicted = simple_walk_vs_runs.predict(walk_X)\n",
        "\n",
        "# Score the prediction with mse and r2\n",
        "walk_mse = mean_squared_error(runs_Y, walk_predicted)\n",
        "walk_r2 = r2_score(runs_Y, walk_predicted)\n",
        "\n",
        "print(f\"Mean Squared Error (MSE): {walk_mse}\")\n",
        "print(f\"R-squared (R2 ): {walk_r2}\")\n",
        "\n",
        "linear_regressor_walk = simple_walk_vs_runs.score(walk_X, runs_Y)\n",
        "print(f\"Linear Regressor Score (X, Y): {linear_regressor_walk}\")"
      ],
      "execution_count": 50,
      "outputs": [
        {
          "output_type": "stream",
          "text": [
            "Weight coefficients:  [[0.43472604]]\n",
            "y-axis intercept:  [59.35934506]\n",
            "True output: [79.35674311]\n",
            "Predicted output: [79.35674311]\n",
            "Prediction Error: [0.]\n",
            "Mean Squared Error (MSE): 270.6397098421437\n",
            "R-squared (R2 ): 0.2587409752018802\n",
            "Linear Regressor Score (X, Y): 0.2587409752018802\n"
          ],
          "name": "stdout"
        }
      ]
    },
    {
      "cell_type": "code",
      "metadata": {
        "id": "guWOhIi-kjjp"
      },
      "source": [
        ""
      ],
      "execution_count": 50,
      "outputs": []
    },
    {
      "cell_type": "code",
      "metadata": {
        "id": "pFu_Gi3DkkaQ"
      },
      "source": [
        "#Stike Out vs. Runs Scored\n",
        "\n",
        "strike_X = data.iloc[:, 15].values.reshape(-1, 1)  # values converts it into a numpy array\n",
        "runs_Y = data.iloc[:, 6].values.reshape(-1, 1)  # -1 means that calculate the dimension of rows, but have 1 column\n",
        "simple_strike_vs_runs = LinearRegression()  # create object for the class\n",
        "simple_strike_vs_runs.fit(strike_X, runs_Y)  # perform linear regression\n",
        "runs_Y_pred = simple_strike_vs_runs.predict(strike_X)  # make predictions"
      ],
      "execution_count": 51,
      "outputs": []
    },
    {
      "cell_type": "code",
      "metadata": {
        "id": "Q1sPaj6Vk0MT",
        "outputId": "ffe2fbee-219e-46d8-e485-ecb98f91d62a",
        "colab": {
          "base_uri": "https://localhost:8080/",
          "height": 265
        }
      },
      "source": [
        "plt.scatter(strike_X, runs_Y)\n",
        "plt.plot(strike_X, runs_Y_pred, color='red')\n",
        "plt.show()"
      ],
      "execution_count": 52,
      "outputs": [
        {
          "output_type": "display_data",
          "data": {
            "image/png": "[encoded data removed]",
            "text/plain": [
              "<Figure size 432x288 with 1 Axes>"
            ]
          },
          "metadata": {
            "tags": [],
            "needs_background": "light"
          }
        }
      ]
    },
    {
      "cell_type": "code",
      "metadata": {
        "id": "qu5JxoULk-H7",
        "outputId": "855fa594-6fe2-4d0b-aa6b-0ab74a18de13",
        "colab": {
          "base_uri": "https://localhost:8080/"
        }
      },
      "source": [
        "print('Weight coefficients: ', simple_strike_vs_runs.coef_)\n",
        "print('y-axis intercept: ', simple_strike_vs_runs.intercept_) \n",
        "strike_predictions = simple_strike_vs_runs.predict(strike_X)\n",
        "print(f\"True output: {runs_Y_pred[15]}\")\n",
        "print(f\"Predicted output: {strike_predictions[15]}\")\n",
        "print(f\"Prediction Error: {strike_predictions[15]-runs_Y_pred[15]}\")\n",
        "\n",
        "from sklearn.metrics import mean_squared_error, r2_score\n",
        "\n",
        "# Use our model to predict a value\n",
        "strike_predicted = simple_strike_vs_runs.predict(strike_X)\n",
        "\n",
        "# Score the prediction with mse and r2\n",
        "strike_mse = mean_squared_error(runs_Y, strike_predicted)\n",
        "strike_r2 = r2_score(runs_Y, strike_predicted)\n",
        "\n",
        "print(f\"Mean Squared Error (MSE): {strike_mse}\")\n",
        "print(f\"R-squared (R2 ): {strike_r2}\")\n",
        "\n",
        "linear_regressor_strike = simple_strike_vs_runs.score(strike_X, runs_Y)\n",
        "print(f\"Linear Regressor Score (X, Y): {linear_regressor_strike}\")"
      ],
      "execution_count": 53,
      "outputs": [
        {
          "output_type": "stream",
          "text": [
            "Weight coefficients:  [[0.12940553]]\n",
            "y-axis intercept:  [68.01138012]\n",
            "True output: [86.51637035]\n",
            "Predicted output: [86.51637035]\n",
            "Prediction Error: [0.]\n",
            "Mean Squared Error (MSE): 348.5761288844506\n",
            "R-squared (R2 ): 0.045279787228932\n",
            "Linear Regressor Score (X, Y): 0.04527978722893199\n"
          ],
          "name": "stdout"
        }
      ]
    },
    {
      "cell_type": "code",
      "metadata": {
        "id": "tTdsPmzslToJ"
      },
      "source": [
        ""
      ],
      "execution_count": 53,
      "outputs": []
    },
    {
      "cell_type": "code",
      "metadata": {
        "id": "7Nfbw4rxlUby"
      },
      "source": [
        "#Sacrifice Bunt vs. Runs Scored\n",
        "\n",
        "bunt_X = data.iloc[:, 16].values.reshape(-1, 1)  # values converts it into a numpy array\n",
        "runs_Y = data.iloc[:, 6].values.reshape(-1, 1)  # -1 means that calculate the dimension of rows, but have 1 column\n",
        "simple_bunt_vs_runs = LinearRegression()  # create object for the class\n",
        "simple_bunt_vs_runs.fit(bunt_X, runs_Y)  # perform linear regression\n",
        "runs_Y_pred = simple_bunt_vs_runs.predict(bunt_X)  # make predictions"
      ],
      "execution_count": 54,
      "outputs": []
    },
    {
      "cell_type": "code",
      "metadata": {
        "id": "ZCKmlkagljmW",
        "outputId": "20421ac7-7534-4af1-e2df-83379adeb4d0",
        "colab": {
          "base_uri": "https://localhost:8080/",
          "height": 265
        }
      },
      "source": [
        "plt.scatter(bunt_X, runs_Y)\n",
        "plt.plot(bunt_X, runs_Y_pred, color='red')\n",
        "plt.show()"
      ],
      "execution_count": 55,
      "outputs": [
        {
          "output_type": "display_data",
          "data": {
            "image/png": "[encoded data removed]",
            "text/plain": [
              "<Figure size 432x288 with 1 Axes>"
            ]
          },
          "metadata": {
            "tags": [],
            "needs_background": "light"
          }
        }
      ]
    },
    {
      "cell_type": "code",
      "metadata": {
        "id": "H6ujdiRalm67",
        "outputId": "97500ba8-f201-44c2-8671-7ed107e2e016",
        "colab": {
          "base_uri": "https://localhost:8080/"
        }
      },
      "source": [
        "print('Weight coefficients: ', simple_bunt_vs_runs.coef_)\n",
        "print('y-axis intercept: ', simple_bunt_vs_runs.intercept_) \n",
        "bunt_predictions = simple_bunt_vs_runs.predict(bunt_X)\n",
        "print(f\"True output: {runs_Y_pred[16]}\")\n",
        "print(f\"Predicted output: {bunt_predictions[16]}\")\n",
        "print(f\"Prediction Error: {bunt_predictions[16]-runs_Y_pred[16]}\")\n",
        "\n",
        "from sklearn.metrics import mean_squared_error, r2_score\n",
        "\n",
        "# Use our model to predict a value\n",
        "bunt_predicted = simple_bunt_vs_runs.predict(bunt_X)\n",
        "\n",
        "# Score the prediction with mse and r2\n",
        "bunt_mse = mean_squared_error(runs_Y, bunt_predicted)\n",
        "bunt_r2 = r2_score(runs_Y, bunt_predicted)\n",
        "\n",
        "print(f\"Mean Squared Error (MSE): {bunt_mse}\")\n",
        "print(f\"R-squared (R2 ): {bunt_r2}\")\n",
        "\n",
        "linear_regressor_bunt = simple_bunt_vs_runs.score(bunt_X, runs_Y)\n",
        "print(f\"Linear Regressor Score (X, Y): {linear_regressor_bunt}\")"
      ],
      "execution_count": 56,
      "outputs": [
        {
          "output_type": "stream",
          "text": [
            "Weight coefficients:  [[-1.28730916]]\n",
            "y-axis intercept:  [84.43921756]\n",
            "True output: [84.43921756]\n",
            "Predicted output: [84.43921756]\n",
            "Prediction Error: [0.]\n",
            "Mean Squared Error (MSE): 360.3435149844501\n",
            "R-squared (R2 ): 0.01304992284577755\n",
            "Linear Regressor Score (X, Y): 0.013049922845777552\n"
          ],
          "name": "stdout"
        }
      ]
    },
    {
      "cell_type": "code",
      "metadata": {
        "id": "WR0Oc78KmClS"
      },
      "source": [
        ""
      ],
      "execution_count": 56,
      "outputs": []
    },
    {
      "cell_type": "code",
      "metadata": {
        "id": "jLbckwrNmGM8"
      },
      "source": [
        "#Sacrifice Fly vs. Runs Scored\n",
        "\n",
        "fly_X = data.iloc[:, 17].values.reshape(-1, 1)  # values converts it into a numpy array\n",
        "runs_Y = data.iloc[:, 6].values.reshape(-1, 1)  # -1 means that calculate the dimension of rows, but have 1 column\n",
        "simple_fly_vs_runs = LinearRegression()  # create object for the class\n",
        "simple_fly_vs_runs.fit(fly_X, runs_Y)  # perform linear regression\n",
        "runs_Y_pred = simple_fly_vs_runs.predict(fly_X)  # make predictions"
      ],
      "execution_count": 57,
      "outputs": []
    },
    {
      "cell_type": "code",
      "metadata": {
        "id": "cbz91GJgmJf_",
        "outputId": "1a832540-b248-42ec-f114-3d38e40fee03",
        "colab": {
          "base_uri": "https://localhost:8080/",
          "height": 265
        }
      },
      "source": [
        "plt.scatter(fly_X, runs_Y)\n",
        "plt.plot(fly_X, runs_Y_pred, color='red')\n",
        "plt.show()"
      ],
      "execution_count": 58,
      "outputs": [
        {
          "output_type": "display_data",
          "data": {
            "image/png": "[encoded data removed]",
            "text/plain": [
              "<Figure size 432x288 with 1 Axes>"
            ]
          },
          "metadata": {
            "tags": [],
            "needs_background": "light"
          }
        }
      ]
    },
    {
      "cell_type": "code",
      "metadata": {
        "id": "162Q7LlXmYK5",
        "outputId": "db164a6e-dc9f-426c-bfff-92c7d1282050",
        "colab": {
          "base_uri": "https://localhost:8080/"
        }
      },
      "source": [
        "print('Weight coefficients: ', simple_fly_vs_runs.coef_)\n",
        "print('y-axis intercept: ', simple_fly_vs_runs.intercept_) \n",
        "fly_predictions = simple_fly_vs_runs.predict(fly_X)\n",
        "print(f\"True output: {runs_Y_pred[17]}\")\n",
        "print(f\"Predicted output: {fly_predictions[17]}\")\n",
        "print(f\"Prediction Error: {fly_predictions[17]-runs_Y_pred[18]}\")\n",
        "\n",
        "from sklearn.metrics import mean_squared_error, r2_score\n",
        "\n",
        "# Use our model to predict a value\n",
        "fly_predicted = simple_fly_vs_runs.predict(fly_X)\n",
        "\n",
        "# Score the prediction with mse and r2\n",
        "fly_mse = mean_squared_error(runs_Y, fly_predicted)\n",
        "fly_r2 = r2_score(runs_Y, fly_predicted)\n",
        "\n",
        "print(f\"Mean Squared Error (MSE): {fly_mse}\")\n",
        "print(f\"R-squared (R2 ): {fly_r2}\")\n",
        "\n",
        "linear_regressor_fly = simple_fly_vs_runs.score(fly_X, runs_Y)\n",
        "print(f\"Linear Regressor Score (X, Y): {linear_regressor_fly}\")"
      ],
      "execution_count": 59,
      "outputs": [
        {
          "output_type": "stream",
          "text": [
            "Weight coefficients:  [[1.07244396]]\n",
            "y-axis intercept:  [79.38655003]\n",
            "True output: [85.82121378]\n",
            "Predicted output: [85.82121378]\n",
            "Prediction Error: [3.21733188]\n",
            "Mean Squared Error (MSE): 358.87526274223916\n",
            "R-squared (R2 ): 0.017071340197480023\n",
            "Linear Regressor Score (X, Y): 0.017071340197480023\n"
          ],
          "name": "stdout"
        }
      ]
    },
    {
      "cell_type": "code",
      "metadata": {
        "id": "Wm9S5dLBmzGS"
      },
      "source": [
        ""
      ],
      "execution_count": 59,
      "outputs": []
    },
    {
      "cell_type": "code",
      "metadata": {
        "id": "EjOIYFXMm6Ta"
      },
      "source": [
        "#Hit by Pitch vs. Runs Scored\n",
        "\n",
        "pitch_X = data.iloc[:, 18].values.reshape(-1, 1)  # values converts it into a numpy array\n",
        "runs_Y = data.iloc[:, 6].values.reshape(-1, 1)  # -1 means that calculate the dimension of rows, but have 1 column\n",
        "simple_pitch_vs_runs = LinearRegression()  # create object for the class\n",
        "simple_pitch_vs_runs.fit(pitch_X, runs_Y)  # perform linear regression\n",
        "runs_Y_pred = simple_pitch_vs_runs.predict(pitch_X)  # make predictions"
      ],
      "execution_count": 60,
      "outputs": []
    },
    {
      "cell_type": "code",
      "metadata": {
        "id": "LNIB2eEPnIHJ",
        "outputId": "03107d89-0544-4131-c07c-69bc3264af21",
        "colab": {
          "base_uri": "https://localhost:8080/",
          "height": 265
        }
      },
      "source": [
        "plt.scatter(pitch_X, runs_Y)\n",
        "plt.plot(pitch_X, runs_Y_pred, color='red')\n",
        "plt.show()"
      ],
      "execution_count": 61,
      "outputs": [
        {
          "output_type": "display_data",
          "data": {
            "image/png": "[encoded data removed]",
            "text/plain": [
              "<Figure size 432x288 with 1 Axes>"
            ]
          },
          "metadata": {
            "tags": [],
            "needs_background": "light"
          }
        }
      ]
    },
    {
      "cell_type": "code",
      "metadata": {
        "id": "7EfuCLcuob4s",
        "outputId": "b75e9603-7817-48af-f747-ff2d41934ffc",
        "colab": {
          "base_uri": "https://localhost:8080/"
        }
      },
      "source": [
        "print('Weight coefficients: ', simple_pitch_vs_runs.coef_)\n",
        "print('y-axis intercept: ', simple_pitch_vs_runs.intercept_) \n",
        "pitch_predictions = simple_pitch_vs_runs.predict(fly_X)\n",
        "print(f\"True output: {runs_Y_pred[18]}\")\n",
        "print(f\"Predicted output: {pitch_predictions[18]}\")\n",
        "print(f\"Prediction Error: {pitch_predictions[18]-runs_Y_pred[18]}\")\n",
        "\n",
        "from sklearn.metrics import mean_squared_error, r2_score\n",
        "\n",
        "# Use our model to predict a value\n",
        "pitch_predicted = simple_pitch_vs_runs.predict(pitch_X)\n",
        "\n",
        "# Score the prediction with mse and r2\n",
        "pitch_mse = mean_squared_error(runs_Y, pitch_predicted)\n",
        "pitch_r2 = r2_score(runs_Y, pitch_predicted)\n",
        "\n",
        "print(f\"Mean Squared Error (MSE): {pitch_mse}\")\n",
        "print(f\"R-squared (R2 ): {pitch_r2}\")\n",
        "\n",
        "linear_regressor_pitch = simple_pitch_vs_runs.score(pitch_X, runs_Y)\n",
        "print(f\"Linear Regressor Score (X, Y): {linear_regressor_pitch}\")"
      ],
      "execution_count": 62,
      "outputs": [
        {
          "output_type": "stream",
          "text": [
            "Weight coefficients:  [[0.46446667]]\n",
            "y-axis intercept:  [80.39904344]\n",
            "True output: [81.32797677]\n",
            "Predicted output: [81.79244344]\n",
            "Prediction Error: [0.46446667]\n",
            "Mean Squared Error (MSE): 359.73019752640784\n",
            "R-squared (R2 ): 0.014729746922980569\n",
            "Linear Regressor Score (X, Y): 0.014729746922980569\n"
          ],
          "name": "stdout"
        }
      ]
    },
    {
      "cell_type": "code",
      "metadata": {
        "id": "ZE3nO8cjo2QT"
      },
      "source": [
        ""
      ],
      "execution_count": 62,
      "outputs": []
    },
    {
      "cell_type": "code",
      "metadata": {
        "id": "FSvzlr85o3MC"
      },
      "source": [
        "#Batting Average vs. Runs Scored\n",
        "\n",
        "ba_X = data.iloc[:, 19].values.reshape(-1, 1)  # values converts it into a numpy array\n",
        "ba_Y = data.iloc[:, 6].values.reshape(-1, 1)  # -1 means that calculate the dimension of rows, but have 1 column\n",
        "simple_ba_vs_runs = LinearRegression()  # create object for the class\n",
        "simple_ba_vs_runs.fit(ba_X, runs_Y)  # perform linear regression\n",
        "runs_Y_pred = simple_ba_vs_runs.predict(ba_X)  # make predictions"
      ],
      "execution_count": 63,
      "outputs": []
    },
    {
      "cell_type": "code",
      "metadata": {
        "id": "yvj9FKJ-pLku",
        "outputId": "93222f5e-6b37-4ed0-dc30-f720295ddbe4",
        "colab": {
          "base_uri": "https://localhost:8080/",
          "height": 265
        }
      },
      "source": [
        "plt.scatter(ba_X, runs_Y)\n",
        "plt.plot(ba_X, runs_Y_pred, color='red')\n",
        "plt.show()"
      ],
      "execution_count": 64,
      "outputs": [
        {
          "output_type": "display_data",
          "data": {
            "image/png": "[encoded data removed]",
            "text/plain": [
              "<Figure size 432x288 with 1 Axes>"
            ]
          },
          "metadata": {
            "tags": [],
            "needs_background": "light"
          }
        }
      ]
    },
    {
      "cell_type": "code",
      "metadata": {
        "id": "g0hDNT7SpRRS",
        "outputId": "4e7033e9-0509-4eb3-a5c6-b5dbd3489c8b",
        "colab": {
          "base_uri": "https://localhost:8080/"
        }
      },
      "source": [
        "print('Weight coefficients: ', simple_ba_vs_runs.coef_)\n",
        "print('y-axis intercept: ', simple_ba_vs_runs.intercept_) \n",
        "ba_predictions = simple_ba_vs_runs.predict(ba_X)\n",
        "print(f\"True output: {runs_Y_pred[19]}\")\n",
        "print(f\"Predicted output: {ba_predictions[19]}\")\n",
        "print(f\"Prediction Error: {ba_predictions[19]-runs_Y_pred[19]}\")\n",
        "\n",
        "from sklearn.metrics import mean_squared_error, r2_score\n",
        "\n",
        "# Use our model to predict a value\n",
        "ba_predicted = simple_ba_vs_runs.predict(ba_X)\n",
        "\n",
        "# Score the prediction with mse and r2\n",
        "ba_mse = mean_squared_error(runs_Y, ba_predicted)\n",
        "ba_r2 = r2_score(runs_Y, ba_predicted)\n",
        "\n",
        "print(f\"Mean Squared Error (MSE): {ba_mse}\")\n",
        "print(f\"R-squared (R2 ): {ba_r2}\")\n",
        "\n",
        "linear_regressor_ba = simple_ba_vs_runs.score(ba_X, runs_Y)\n",
        "print(f\"Linear Regressor Score (X, Y): {linear_regressor_ba}\")"
      ],
      "execution_count": 65,
      "outputs": [
        {
          "output_type": "stream",
          "text": [
            "Weight coefficients:  [[308.254915]]\n",
            "y-axis intercept:  [-0.31885366]\n",
            "True output: [90.61634627]\n",
            "Predicted output: [90.61634627]\n",
            "Prediction Error: [0.]\n",
            "Mean Squared Error (MSE): 296.25450363731017\n",
            "R-squared (R2 ): 0.1885842451341282\n",
            "Linear Regressor Score (X, Y): 0.1885842451341282\n"
          ],
          "name": "stdout"
        }
      ]
    },
    {
      "cell_type": "code",
      "metadata": {
        "id": "nn_yd33Hp13Z"
      },
      "source": [
        ""
      ],
      "execution_count": 65,
      "outputs": []
    },
    {
      "cell_type": "code",
      "metadata": {
        "id": "7jN70Iukp2pK"
      },
      "source": [
        "#On Base Percentage vs. Runs Scored\n",
        "\n",
        "obp_X = data.iloc[:, 20].values.reshape(-1, 1)  # values converts it into a numpy array\n",
        "obp_Y = data.iloc[:, 6].values.reshape(-1, 1)  # -1 means that calculate the dimension of rows, but have 1 column\n",
        "simple_obp_vs_runs = LinearRegression()  # create object for the class\n",
        "simple_obp_vs_runs.fit(obp_X, runs_Y)  # perform linear regression\n",
        "runs_Y_pred = simple_obp_vs_runs.predict(obp_X)  # make predictions"
      ],
      "execution_count": 66,
      "outputs": []
    },
    {
      "cell_type": "code",
      "metadata": {
        "id": "XUIgpPLztFpO",
        "outputId": "c53991b0-2886-4c24-ea4a-15d9c6e83f80",
        "colab": {
          "base_uri": "https://localhost:8080/",
          "height": 265
        }
      },
      "source": [
        "plt.scatter(obp_X, runs_Y)\n",
        "plt.plot(obp_X, runs_Y_pred, color='red')\n",
        "plt.show()"
      ],
      "execution_count": 67,
      "outputs": [
        {
          "output_type": "display_data",
          "data": {
            "image/png": "[encoded data removed]",
            "text/plain": [
              "<Figure size 432x288 with 1 Axes>"
            ]
          },
          "metadata": {
            "tags": [],
            "needs_background": "light"
          }
        }
      ]
    },
    {
      "cell_type": "code",
      "metadata": {
        "id": "Dw8M4ybOtNsd",
        "outputId": "bd26739d-a438-4e67-8dc6-fa0ae51026a3",
        "colab": {
          "base_uri": "https://localhost:8080/"
        }
      },
      "source": [
        "print('Weight coefficients: ', simple_obp_vs_runs.coef_)\n",
        "print('y-axis intercept: ', simple_obp_vs_runs.intercept_) \n",
        "obp_predictions = simple_obp_vs_runs.predict(obp_X)\n",
        "print(f\"True output: {runs_Y_pred[20]}\")\n",
        "print(f\"Predicted output: {obp_predictions[20]}\")\n",
        "print(f\"Prediction Error: {obp_predictions[20]-runs_Y_pred[20]}\")\n",
        "\n",
        "from sklearn.metrics import mean_squared_error, r2_score\n",
        "\n",
        "# Use our model to predict a value\n",
        "obp_predicted = simple_obp_vs_runs.predict(obp_X)\n",
        "\n",
        "# Score the prediction with mse and r2\n",
        "obp_mse = mean_squared_error(runs_Y, obp_predicted)\n",
        "obp_r2 = r2_score(runs_Y, obp_predicted)\n",
        "\n",
        "print(f\"Mean Squared Error (MSE): {obp_mse}\")\n",
        "print(f\"R-squared (R2 ): {obp_r2}\")\n",
        "\n",
        "linear_regressor_obp = simple_obp_vs_runs.score(obp_X, runs_Y)\n",
        "print(f\"Linear Regressor Score (X, Y): {linear_regressor_obp}\")"
      ],
      "execution_count": 68,
      "outputs": [
        {
          "output_type": "stream",
          "text": [
            "Weight coefficients:  [[370.76454386]]\n",
            "y-axis intercept:  [-44.60838583]\n",
            "True output: [88.12532087]\n",
            "Predicted output: [88.12532087]\n",
            "Prediction Error: [0.]\n",
            "Mean Squared Error (MSE): 234.0202698321865\n",
            "R-squared (R2 ): 0.35903849032361435\n",
            "Linear Regressor Score (X, Y): 0.35903849032361435\n"
          ],
          "name": "stdout"
        }
      ]
    },
    {
      "cell_type": "code",
      "metadata": {
        "id": "4zW_4EXNtsJw"
      },
      "source": [
        ""
      ],
      "execution_count": 68,
      "outputs": []
    },
    {
      "cell_type": "code",
      "metadata": {
        "id": "syk_qUDBtwR-"
      },
      "source": [
        "#Slugging Percentage vs. Runs Scored\n",
        "\n",
        "slug_X = data.iloc[:, 21].values.reshape(-1, 1)  # values converts it into a numpy array\n",
        "obp_Y = data.iloc[:, 6].values.reshape(-1, 1)  # -1 means that calculate the dimension of rows, but have 1 column\n",
        "simple_slug_vs_runs = LinearRegression()  # create object for the class\n",
        "simple_slug_vs_runs.fit(slug_X, runs_Y)  # perform linear regression\n",
        "runs_Y_pred = simple_slug_vs_runs.predict(slug_X)  # make predictions"
      ],
      "execution_count": 69,
      "outputs": []
    },
    {
      "cell_type": "code",
      "metadata": {
        "id": "Q9NtakJIuEok",
        "outputId": "6ba8f34c-1d5c-4f12-ca80-316817139648",
        "colab": {
          "base_uri": "https://localhost:8080/",
          "height": 265
        }
      },
      "source": [
        "plt.scatter(slug_X, runs_Y)\n",
        "plt.plot(slug_X, runs_Y_pred, color='red')\n",
        "plt.show()"
      ],
      "execution_count": 70,
      "outputs": [
        {
          "output_type": "display_data",
          "data": {
            "image/png": "[encoded data removed]",
            "text/plain": [
              "<Figure size 432x288 with 1 Axes>"
            ]
          },
          "metadata": {
            "tags": [],
            "needs_background": "light"
          }
        }
      ]
    },
    {
      "cell_type": "code",
      "metadata": {
        "id": "Xq5_-UBluJqU",
        "outputId": "e39f69ab-9fde-4d38-a946-f77822467120",
        "colab": {
          "base_uri": "https://localhost:8080/"
        }
      },
      "source": [
        "print('Weight coefficients: ', simple_slug_vs_runs.coef_)\n",
        "print('y-axis intercept: ', simple_slug_vs_runs.intercept_) \n",
        "slug_predictions = simple_slug_vs_runs.predict(obp_X)\n",
        "print(f\"True output: {runs_Y_pred[21]}\")\n",
        "print(f\"Predicted output: {slug_predictions[21]}\")\n",
        "print(f\"Prediction Error: {slug_predictions[21]-runs_Y_pred[21]}\")\n",
        "\n",
        "from sklearn.metrics import mean_squared_error, r2_score\n",
        "\n",
        "# Use our model to predict a value\n",
        "slug_predicted = simple_slug_vs_runs.predict(slug_X)\n",
        "\n",
        "# Score the prediction with mse and r2\n",
        "slug_mse = mean_squared_error(runs_Y, slug_predicted)\n",
        "slug_r2 = r2_score(runs_Y, slug_predicted)\n",
        "\n",
        "print(f\"Mean Squared Error (MSE): {slug_mse}\")\n",
        "print(f\"R-squared (R2 ): {slug_r2}\")\n",
        "\n",
        "linear_regressor_slug = simple_slug_vs_runs.score(slug_X, runs_Y)\n",
        "print(f\"Linear Regressor Score (X, Y): {linear_regressor_slug}\")"
      ],
      "execution_count": 71,
      "outputs": [
        {
          "output_type": "stream",
          "text": [
            "Weight coefficients:  [[187.42664335]]\n",
            "y-axis intercept:  [-6.5786201]\n",
            "True output: [91.63294102]\n",
            "Predicted output: [66.70519745]\n",
            "Prediction Error: [-24.92774357]\n",
            "Mean Squared Error (MSE): 208.3993895748119\n",
            "R-squared (R2 ): 0.4292118906909448\n",
            "Linear Regressor Score (X, Y): 0.4292118906909448\n"
          ],
          "name": "stdout"
        }
      ]
    },
    {
      "cell_type": "code",
      "metadata": {
        "id": "LbIRgK-RuZ9O"
      },
      "source": [
        ""
      ],
      "execution_count": 71,
      "outputs": []
    },
    {
      "cell_type": "code",
      "metadata": {
        "id": "7hHd1cvTuel6"
      },
      "source": [
        "#On Base Plus Slugging vs. Runs Scored\n",
        "\n",
        "ops_X = data.iloc[:, 22].values.reshape(-1, 1)  # values converts it into a numpy array\n",
        "ops_Y = data.iloc[:, 6].values.reshape(-1, 1)  # -1 means that calculate the dimension of rows, but have 1 column\n",
        "simple_ops_vs_runs = LinearRegression()  # create object for the class\n",
        "simple_ops_vs_runs.fit(ops_X, runs_Y)  # perform linear regression\n",
        "runs_Y_pred = simple_ops_vs_runs.predict(ops_X)  # make predictions"
      ],
      "execution_count": 72,
      "outputs": []
    },
    {
      "cell_type": "code",
      "metadata": {
        "id": "59sv2V-Luwp4",
        "outputId": "b64c20dd-95c8-463d-bd97-9127b9d7fe74",
        "colab": {
          "base_uri": "https://localhost:8080/",
          "height": 265
        }
      },
      "source": [
        "plt.scatter(ops_X, runs_Y)\n",
        "plt.plot(ops_X, runs_Y_pred, color='red')\n",
        "plt.show()"
      ],
      "execution_count": 73,
      "outputs": [
        {
          "output_type": "display_data",
          "data": {
            "image/png": "[encoded data removed]",
            "text/plain": [
              "<Figure size 432x288 with 1 Axes>"
            ]
          },
          "metadata": {
            "tags": [],
            "needs_background": "light"
          }
        }
      ]
    },
    {
      "cell_type": "code",
      "metadata": {
        "id": "c3NTzWZcu3yw",
        "outputId": "59535d68-ad66-4c52-8202-146697f87e74",
        "colab": {
          "base_uri": "https://localhost:8080/"
        }
      },
      "source": [
        "print('Weight coefficients: ', simple_ops_vs_runs.coef_)\n",
        "print('y-axis intercept: ', simple_ops_vs_runs.intercept_) \n",
        "ops_predictions = simple_ops_vs_runs.predict(obp_X)\n",
        "print(f\"True output: {runs_Y_pred[22]}\")\n",
        "print(f\"Predicted output: {ops_predictions[22]}\")\n",
        "print(f\"Prediction Error: {ops_predictions[22]-runs_Y_pred[22]}\")\n",
        "\n",
        "from sklearn.metrics import mean_squared_error, r2_score\n",
        "\n",
        "# Use our model to predict a value\n",
        "ops_predicted = simple_ops_vs_runs.predict(ops_X)\n",
        "\n",
        "# Score the prediction with mse and r2\n",
        "ops_mse = mean_squared_error(runs_Y, ops_predicted)\n",
        "ops_r2 = r2_score(runs_Y, ops_predicted)\n",
        "\n",
        "print(f\"Mean Squared Error (MSE): {ops_mse}\")\n",
        "print(f\"R-squared (R2 ): {ops_r2}\")\n",
        "\n",
        "linear_regressor_ops = simple_ops_vs_runs.score(ops_X, runs_Y)\n",
        "print(f\"Linear Regressor Score (X, Y): {linear_regressor_ops}\")"
      ],
      "execution_count": 74,
      "outputs": [
        {
          "output_type": "stream",
          "text": [
            "Weight coefficients:  [[143.97824654]]\n",
            "y-axis intercept:  [-35.45028961]\n",
            "True output: [70.22974335]\n",
            "Predicted output: [14.94209668]\n",
            "Prediction Error: [-55.28764667]\n",
            "Mean Squared Error (MSE): 193.8218142114021\n",
            "R-squared (R2 ): 0.4691386231874618\n",
            "Linear Regressor Score (X, Y): 0.46913862318746186\n"
          ],
          "name": "stdout"
        }
      ]
    },
    {
      "cell_type": "code",
      "metadata": {
        "id": "o5uYBwGMvYKr"
      },
      "source": [
        ""
      ],
      "execution_count": 74,
      "outputs": []
    }
  ]
}