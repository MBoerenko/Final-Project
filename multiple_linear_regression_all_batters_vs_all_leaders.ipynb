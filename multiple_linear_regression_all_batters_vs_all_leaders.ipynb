{
  "nbformat": 4,
  "nbformat_minor": 0,
  "metadata": {
    "colab": {
      "name": "multiple linear regression all batters vs all leaders.ipynb",
      "provenance": [],
      "collapsed_sections": [],
      "mount_file_id": "1k3PPnXFlsiwHeiIga59CnZY5A0ccSDnT",
      "authorship_tag": "ABX9TyMsWdyGSRr+SosHKabin+us",
      "include_colab_link": true
    },
    "kernelspec": {
      "name": "python3",
      "display_name": "Python 3"
    }
  },
  "cells": [
    {
      "cell_type": "markdown",
      "metadata": {
        "id": "view-in-github",
        "colab_type": "text"
      },
      "source": [
        "<a href=\"https://colab.research.google.com/github/MBoerenko/Final-Project/blob/main/multiple_linear_regression_all_batters_vs_all_leaders.ipynb\" target=\"_parent\"><img src=\"https://colab.research.google.com/assets/colab-badge.svg\" alt=\"Open In Colab\"/></a>"
      ]
    },
    {
      "cell_type": "code",
      "metadata": {
        "id": "eVpkNsSHd_ji"
      },
      "source": [
        "%matplotlib inline\n",
        "import matplotlib.pyplot as plt\n",
        "import numpy as np\n",
        "import pandas as pd"
      ],
      "execution_count": 1,
      "outputs": []
    },
    {
      "cell_type": "code",
      "metadata": {
        "id": "n9w0cezneIrh",
        "outputId": "0ffb98ec-d5d5-4785-f3e7-9abfe41a0a35",
        "colab": {
          "base_uri": "https://localhost:8080/",
          "height": 204
        }
      },
      "source": [
        "data = pd.read_csv('/content/drive/My Drive/Batters_Data_Sets/Multiple_Linear_Regression_for_Batters/multi_batters_train_test.csv')\n",
        "data.head()"
      ],
      "execution_count": 2,
      "outputs": [
        {
          "output_type": "execute_result",
          "data": {
            "text/html": [
              "<div>\n",
              "<style scoped>\n",
              "    .dataframe tbody tr th:only-of-type {\n",
              "        vertical-align: middle;\n",
              "    }\n",
              "\n",
              "    .dataframe tbody tr th {\n",
              "        vertical-align: top;\n",
              "    }\n",
              "\n",
              "    .dataframe thead th {\n",
              "        text-align: right;\n",
              "    }\n",
              "</style>\n",
              "<table border=\"1\" class=\"dataframe\">\n",
              "  <thead>\n",
              "    <tr style=\"text-align: right;\">\n",
              "      <th></th>\n",
              "      <th>Player</th>\n",
              "      <th>Team</th>\n",
              "      <th>Pos</th>\n",
              "      <th>Age</th>\n",
              "      <th>G</th>\n",
              "      <th>AB</th>\n",
              "      <th>R</th>\n",
              "      <th>H</th>\n",
              "      <th>2B</th>\n",
              "      <th>3B</th>\n",
              "      <th>HR</th>\n",
              "      <th>RBI</th>\n",
              "      <th>SB</th>\n",
              "      <th>CS</th>\n",
              "      <th>BB</th>\n",
              "      <th>SO</th>\n",
              "      <th>SH</th>\n",
              "      <th>SF</th>\n",
              "      <th>HBP</th>\n",
              "      <th>AVG</th>\n",
              "      <th>OBP</th>\n",
              "      <th>SLG</th>\n",
              "      <th>OPS</th>\n",
              "    </tr>\n",
              "  </thead>\n",
              "  <tbody>\n",
              "    <tr>\n",
              "      <th>0</th>\n",
              "      <td>Whit Merrifield</td>\n",
              "      <td>KC</td>\n",
              "      <td>2B</td>\n",
              "      <td>31</td>\n",
              "      <td>162</td>\n",
              "      <td>681</td>\n",
              "      <td>105</td>\n",
              "      <td>206</td>\n",
              "      <td>41</td>\n",
              "      <td>10</td>\n",
              "      <td>16</td>\n",
              "      <td>74</td>\n",
              "      <td>20</td>\n",
              "      <td>10</td>\n",
              "      <td>45</td>\n",
              "      <td>126</td>\n",
              "      <td>0</td>\n",
              "      <td>4</td>\n",
              "      <td>5</td>\n",
              "      <td>0.302</td>\n",
              "      <td>0.348</td>\n",
              "      <td>0.463</td>\n",
              "      <td>0.811</td>\n",
              "    </tr>\n",
              "    <tr>\n",
              "      <th>1</th>\n",
              "      <td>Marcus Semien</td>\n",
              "      <td>OAK</td>\n",
              "      <td>SS</td>\n",
              "      <td>30</td>\n",
              "      <td>162</td>\n",
              "      <td>657</td>\n",
              "      <td>123</td>\n",
              "      <td>187</td>\n",
              "      <td>43</td>\n",
              "      <td>7</td>\n",
              "      <td>33</td>\n",
              "      <td>92</td>\n",
              "      <td>10</td>\n",
              "      <td>8</td>\n",
              "      <td>87</td>\n",
              "      <td>102</td>\n",
              "      <td>0</td>\n",
              "      <td>1</td>\n",
              "      <td>2</td>\n",
              "      <td>0.285</td>\n",
              "      <td>0.369</td>\n",
              "      <td>0.522</td>\n",
              "      <td>0.891</td>\n",
              "    </tr>\n",
              "    <tr>\n",
              "      <th>2</th>\n",
              "      <td>Rafael Devers</td>\n",
              "      <td>BOS</td>\n",
              "      <td>3B</td>\n",
              "      <td>24</td>\n",
              "      <td>156</td>\n",
              "      <td>647</td>\n",
              "      <td>129</td>\n",
              "      <td>201</td>\n",
              "      <td>54</td>\n",
              "      <td>4</td>\n",
              "      <td>32</td>\n",
              "      <td>115</td>\n",
              "      <td>8</td>\n",
              "      <td>8</td>\n",
              "      <td>48</td>\n",
              "      <td>119</td>\n",
              "      <td>1</td>\n",
              "      <td>2</td>\n",
              "      <td>4</td>\n",
              "      <td>0.311</td>\n",
              "      <td>0.361</td>\n",
              "      <td>0.555</td>\n",
              "      <td>0.916</td>\n",
              "    </tr>\n",
              "    <tr>\n",
              "      <th>3</th>\n",
              "      <td>Jonathan Villar</td>\n",
              "      <td>BAL</td>\n",
              "      <td>2B</td>\n",
              "      <td>29</td>\n",
              "      <td>162</td>\n",
              "      <td>642</td>\n",
              "      <td>111</td>\n",
              "      <td>176</td>\n",
              "      <td>33</td>\n",
              "      <td>5</td>\n",
              "      <td>24</td>\n",
              "      <td>73</td>\n",
              "      <td>40</td>\n",
              "      <td>9</td>\n",
              "      <td>61</td>\n",
              "      <td>176</td>\n",
              "      <td>2</td>\n",
              "      <td>4</td>\n",
              "      <td>4</td>\n",
              "      <td>0.274</td>\n",
              "      <td>0.339</td>\n",
              "      <td>0.453</td>\n",
              "      <td>0.792</td>\n",
              "    </tr>\n",
              "    <tr>\n",
              "      <th>4</th>\n",
              "      <td>Ozzie Albies</td>\n",
              "      <td>ATL</td>\n",
              "      <td>2B</td>\n",
              "      <td>23</td>\n",
              "      <td>160</td>\n",
              "      <td>640</td>\n",
              "      <td>102</td>\n",
              "      <td>189</td>\n",
              "      <td>43</td>\n",
              "      <td>8</td>\n",
              "      <td>24</td>\n",
              "      <td>86</td>\n",
              "      <td>15</td>\n",
              "      <td>4</td>\n",
              "      <td>54</td>\n",
              "      <td>112</td>\n",
              "      <td>0</td>\n",
              "      <td>4</td>\n",
              "      <td>4</td>\n",
              "      <td>0.295</td>\n",
              "      <td>0.352</td>\n",
              "      <td>0.500</td>\n",
              "      <td>0.852</td>\n",
              "    </tr>\n",
              "  </tbody>\n",
              "</table>\n",
              "</div>"
            ],
            "text/plain": [
              "            Player Team Pos  Age    G   AB  ...  SF  HBP    AVG    OBP    SLG    OPS\n",
              "0  Whit Merrifield   KC  2B   31  162  681  ...   4    5  0.302  0.348  0.463  0.811\n",
              "1    Marcus Semien  OAK  SS   30  162  657  ...   1    2  0.285  0.369  0.522  0.891\n",
              "2    Rafael Devers  BOS  3B   24  156  647  ...   2    4  0.311  0.361  0.555  0.916\n",
              "3  Jonathan Villar  BAL  2B   29  162  642  ...   4    4  0.274  0.339  0.453  0.792\n",
              "4     Ozzie Albies  ATL  2B   23  160  640  ...   4    4  0.295  0.352  0.500  0.852\n",
              "\n",
              "[5 rows x 23 columns]"
            ]
          },
          "metadata": {
            "tags": []
          },
          "execution_count": 2
        }
      ]
    },
    {
      "cell_type": "code",
      "metadata": {
        "id": "Ur-tXdX3eUzk",
        "outputId": "ee81fe30-a40a-4ba7-aba3-21af3afe5709",
        "colab": {
          "base_uri": "https://localhost:8080/"
        }
      },
      "source": [
        "#All X Values\n",
        "# Assign the data to X and y\n",
        "X = data[[\"Age\",\"G\",\"AB\",\"H\",\"2B\",\"3B\",\"HR\",\"RBI\",\"SB\",\"CS\",\"BB\",\"SO\",\"SH\",\"SF\",\"HBP\",\"AVG\",\"OBP\",\"SLG\",\"OPS\"]]\n",
        "y = data[\"R\"].values.reshape(-1, 1)\n",
        "print(X.shape, y.shape)"
      ],
      "execution_count": 3,
      "outputs": [
        {
          "output_type": "stream",
          "text": [
            "(8217, 19) (8217, 1)\n"
          ],
          "name": "stdout"
        }
      ]
    },
    {
      "cell_type": "code",
      "metadata": {
        "id": "RgHzVE3zfCMk"
      },
      "source": [
        "# Use train_test_split to create training and testing data\n",
        "\n",
        "### BEGIN SOLUTION\n",
        "from sklearn.model_selection import train_test_split\n",
        "\n",
        "X_train, X_test, y_train, y_test = train_test_split(X, y, test_size = 0.1663, shuffle=False)\n",
        "\n",
        "### END SOLUTION"
      ],
      "execution_count": 4,
      "outputs": []
    },
    {
      "cell_type": "code",
      "metadata": {
        "id": "E2Iw06pJ4AS5",
        "outputId": "9f48c60c-5d48-4333-93ca-c938e4a046f4",
        "colab": {
          "base_uri": "https://localhost:8080/",
          "height": 419
        }
      },
      "source": [
        "X_train"
      ],
      "execution_count": 5,
      "outputs": [
        {
          "output_type": "execute_result",
          "data": {
            "text/html": [
              "<div>\n",
              "<style scoped>\n",
              "    .dataframe tbody tr th:only-of-type {\n",
              "        vertical-align: middle;\n",
              "    }\n",
              "\n",
              "    .dataframe tbody tr th {\n",
              "        vertical-align: top;\n",
              "    }\n",
              "\n",
              "    .dataframe thead th {\n",
              "        text-align: right;\n",
              "    }\n",
              "</style>\n",
              "<table border=\"1\" class=\"dataframe\">\n",
              "  <thead>\n",
              "    <tr style=\"text-align: right;\">\n",
              "      <th></th>\n",
              "      <th>Age</th>\n",
              "      <th>G</th>\n",
              "      <th>AB</th>\n",
              "      <th>H</th>\n",
              "      <th>2B</th>\n",
              "      <th>3B</th>\n",
              "      <th>HR</th>\n",
              "      <th>RBI</th>\n",
              "      <th>SB</th>\n",
              "      <th>CS</th>\n",
              "      <th>BB</th>\n",
              "      <th>SO</th>\n",
              "      <th>SH</th>\n",
              "      <th>SF</th>\n",
              "      <th>HBP</th>\n",
              "      <th>AVG</th>\n",
              "      <th>OBP</th>\n",
              "      <th>SLG</th>\n",
              "      <th>OPS</th>\n",
              "    </tr>\n",
              "  </thead>\n",
              "  <tbody>\n",
              "    <tr>\n",
              "      <th>0</th>\n",
              "      <td>31</td>\n",
              "      <td>162</td>\n",
              "      <td>681</td>\n",
              "      <td>206</td>\n",
              "      <td>41</td>\n",
              "      <td>10</td>\n",
              "      <td>16</td>\n",
              "      <td>74</td>\n",
              "      <td>20</td>\n",
              "      <td>10</td>\n",
              "      <td>45</td>\n",
              "      <td>126</td>\n",
              "      <td>0</td>\n",
              "      <td>4</td>\n",
              "      <td>5</td>\n",
              "      <td>0.302</td>\n",
              "      <td>0.348</td>\n",
              "      <td>0.463</td>\n",
              "      <td>0.811</td>\n",
              "    </tr>\n",
              "    <tr>\n",
              "      <th>1</th>\n",
              "      <td>30</td>\n",
              "      <td>162</td>\n",
              "      <td>657</td>\n",
              "      <td>187</td>\n",
              "      <td>43</td>\n",
              "      <td>7</td>\n",
              "      <td>33</td>\n",
              "      <td>92</td>\n",
              "      <td>10</td>\n",
              "      <td>8</td>\n",
              "      <td>87</td>\n",
              "      <td>102</td>\n",
              "      <td>0</td>\n",
              "      <td>1</td>\n",
              "      <td>2</td>\n",
              "      <td>0.285</td>\n",
              "      <td>0.369</td>\n",
              "      <td>0.522</td>\n",
              "      <td>0.891</td>\n",
              "    </tr>\n",
              "    <tr>\n",
              "      <th>2</th>\n",
              "      <td>24</td>\n",
              "      <td>156</td>\n",
              "      <td>647</td>\n",
              "      <td>201</td>\n",
              "      <td>54</td>\n",
              "      <td>4</td>\n",
              "      <td>32</td>\n",
              "      <td>115</td>\n",
              "      <td>8</td>\n",
              "      <td>8</td>\n",
              "      <td>48</td>\n",
              "      <td>119</td>\n",
              "      <td>1</td>\n",
              "      <td>2</td>\n",
              "      <td>4</td>\n",
              "      <td>0.311</td>\n",
              "      <td>0.361</td>\n",
              "      <td>0.555</td>\n",
              "      <td>0.916</td>\n",
              "    </tr>\n",
              "    <tr>\n",
              "      <th>3</th>\n",
              "      <td>29</td>\n",
              "      <td>162</td>\n",
              "      <td>642</td>\n",
              "      <td>176</td>\n",
              "      <td>33</td>\n",
              "      <td>5</td>\n",
              "      <td>24</td>\n",
              "      <td>73</td>\n",
              "      <td>40</td>\n",
              "      <td>9</td>\n",
              "      <td>61</td>\n",
              "      <td>176</td>\n",
              "      <td>2</td>\n",
              "      <td>4</td>\n",
              "      <td>4</td>\n",
              "      <td>0.274</td>\n",
              "      <td>0.339</td>\n",
              "      <td>0.453</td>\n",
              "      <td>0.792</td>\n",
              "    </tr>\n",
              "    <tr>\n",
              "      <th>4</th>\n",
              "      <td>23</td>\n",
              "      <td>160</td>\n",
              "      <td>640</td>\n",
              "      <td>189</td>\n",
              "      <td>43</td>\n",
              "      <td>8</td>\n",
              "      <td>24</td>\n",
              "      <td>86</td>\n",
              "      <td>15</td>\n",
              "      <td>4</td>\n",
              "      <td>54</td>\n",
              "      <td>112</td>\n",
              "      <td>0</td>\n",
              "      <td>4</td>\n",
              "      <td>4</td>\n",
              "      <td>0.295</td>\n",
              "      <td>0.352</td>\n",
              "      <td>0.500</td>\n",
              "      <td>0.852</td>\n",
              "    </tr>\n",
              "    <tr>\n",
              "      <th>...</th>\n",
              "      <td>...</td>\n",
              "      <td>...</td>\n",
              "      <td>...</td>\n",
              "      <td>...</td>\n",
              "      <td>...</td>\n",
              "      <td>...</td>\n",
              "      <td>...</td>\n",
              "      <td>...</td>\n",
              "      <td>...</td>\n",
              "      <td>...</td>\n",
              "      <td>...</td>\n",
              "      <td>...</td>\n",
              "      <td>...</td>\n",
              "      <td>...</td>\n",
              "      <td>...</td>\n",
              "      <td>...</td>\n",
              "      <td>...</td>\n",
              "      <td>...</td>\n",
              "      <td>...</td>\n",
              "    </tr>\n",
              "    <tr>\n",
              "      <th>6845</th>\n",
              "      <td>41</td>\n",
              "      <td>2</td>\n",
              "      <td>3</td>\n",
              "      <td>0</td>\n",
              "      <td>0</td>\n",
              "      <td>0</td>\n",
              "      <td>0</td>\n",
              "      <td>0</td>\n",
              "      <td>0</td>\n",
              "      <td>0</td>\n",
              "      <td>0</td>\n",
              "      <td>1</td>\n",
              "      <td>0</td>\n",
              "      <td>0</td>\n",
              "      <td>0</td>\n",
              "      <td>0.000</td>\n",
              "      <td>0.000</td>\n",
              "      <td>0.000</td>\n",
              "      <td>0.000</td>\n",
              "    </tr>\n",
              "    <tr>\n",
              "      <th>6846</th>\n",
              "      <td>37</td>\n",
              "      <td>1</td>\n",
              "      <td>3</td>\n",
              "      <td>0</td>\n",
              "      <td>0</td>\n",
              "      <td>0</td>\n",
              "      <td>0</td>\n",
              "      <td>0</td>\n",
              "      <td>0</td>\n",
              "      <td>0</td>\n",
              "      <td>0</td>\n",
              "      <td>0</td>\n",
              "      <td>0</td>\n",
              "      <td>0</td>\n",
              "      <td>0</td>\n",
              "      <td>0.000</td>\n",
              "      <td>0.000</td>\n",
              "      <td>0.000</td>\n",
              "      <td>0.000</td>\n",
              "    </tr>\n",
              "    <tr>\n",
              "      <th>6847</th>\n",
              "      <td>48</td>\n",
              "      <td>1</td>\n",
              "      <td>3</td>\n",
              "      <td>0</td>\n",
              "      <td>0</td>\n",
              "      <td>0</td>\n",
              "      <td>0</td>\n",
              "      <td>0</td>\n",
              "      <td>0</td>\n",
              "      <td>0</td>\n",
              "      <td>1</td>\n",
              "      <td>2</td>\n",
              "      <td>0</td>\n",
              "      <td>0</td>\n",
              "      <td>0</td>\n",
              "      <td>0.000</td>\n",
              "      <td>0.250</td>\n",
              "      <td>0.000</td>\n",
              "      <td>0.250</td>\n",
              "    </tr>\n",
              "    <tr>\n",
              "      <th>6848</th>\n",
              "      <td>38</td>\n",
              "      <td>1</td>\n",
              "      <td>1</td>\n",
              "      <td>0</td>\n",
              "      <td>0</td>\n",
              "      <td>0</td>\n",
              "      <td>0</td>\n",
              "      <td>0</td>\n",
              "      <td>0</td>\n",
              "      <td>0</td>\n",
              "      <td>0</td>\n",
              "      <td>1</td>\n",
              "      <td>0</td>\n",
              "      <td>0</td>\n",
              "      <td>0</td>\n",
              "      <td>0.000</td>\n",
              "      <td>0.000</td>\n",
              "      <td>0.000</td>\n",
              "      <td>0.000</td>\n",
              "    </tr>\n",
              "    <tr>\n",
              "      <th>6849</th>\n",
              "      <td>40</td>\n",
              "      <td>1</td>\n",
              "      <td>0</td>\n",
              "      <td>0</td>\n",
              "      <td>0</td>\n",
              "      <td>0</td>\n",
              "      <td>0</td>\n",
              "      <td>0</td>\n",
              "      <td>0</td>\n",
              "      <td>0</td>\n",
              "      <td>1</td>\n",
              "      <td>0</td>\n",
              "      <td>0</td>\n",
              "      <td>0</td>\n",
              "      <td>0</td>\n",
              "      <td>0.000</td>\n",
              "      <td>1.000</td>\n",
              "      <td>0.000</td>\n",
              "      <td>1.000</td>\n",
              "    </tr>\n",
              "  </tbody>\n",
              "</table>\n",
              "<p>6850 rows × 19 columns</p>\n",
              "</div>"
            ],
            "text/plain": [
              "      Age    G   AB    H  2B  3B  HR  ...  SH  SF  HBP    AVG    OBP    SLG    OPS\n",
              "0      31  162  681  206  41  10  16  ...   0   4    5  0.302  0.348  0.463  0.811\n",
              "1      30  162  657  187  43   7  33  ...   0   1    2  0.285  0.369  0.522  0.891\n",
              "2      24  156  647  201  54   4  32  ...   1   2    4  0.311  0.361  0.555  0.916\n",
              "3      29  162  642  176  33   5  24  ...   2   4    4  0.274  0.339  0.453  0.792\n",
              "4      23  160  640  189  43   8  24  ...   0   4    4  0.295  0.352  0.500  0.852\n",
              "...   ...  ...  ...  ...  ..  ..  ..  ...  ..  ..  ...    ...    ...    ...    ...\n",
              "6845   41    2    3    0   0   0   0  ...   0   0    0  0.000  0.000  0.000  0.000\n",
              "6846   37    1    3    0   0   0   0  ...   0   0    0  0.000  0.000  0.000  0.000\n",
              "6847   48    1    3    0   0   0   0  ...   0   0    0  0.000  0.250  0.000  0.250\n",
              "6848   38    1    1    0   0   0   0  ...   0   0    0  0.000  0.000  0.000  0.000\n",
              "6849   40    1    0    0   0   0   0  ...   0   0    0  0.000  1.000  0.000  1.000\n",
              "\n",
              "[6850 rows x 19 columns]"
            ]
          },
          "metadata": {
            "tags": []
          },
          "execution_count": 5
        }
      ]
    },
    {
      "cell_type": "code",
      "metadata": {
        "id": "ZaS7wSE2fQcE"
      },
      "source": [
        "# Create the model using LinearRegression\n",
        "\n",
        "### BEGIN SOLUTION\n",
        "from sklearn.linear_model import LinearRegression\n",
        "model = LinearRegression()\n",
        "### END SOLUTION"
      ],
      "execution_count": 6,
      "outputs": []
    },
    {
      "cell_type": "code",
      "metadata": {
        "id": "aCDXb3oBfYA4",
        "outputId": "48604bc5-6352-4ff6-ed5a-9b9534e29da1",
        "colab": {
          "base_uri": "https://localhost:8080/"
        }
      },
      "source": [
        "# Fit the model to the training data and calculate the scores for the training and testing data\n",
        "\n",
        "### BEGIN SOLUTION\n",
        "model.fit(X_train, y_train)\n",
        "training_score = model.score(X_train, y_train)\n",
        "testing_score = model.score(X_test, y_test)\n",
        "\n",
        "### END SOLUTION \n",
        "\n",
        "print(f\"Training Score: {training_score}\")\n",
        "print(f\"Testing Score: {testing_score}\")"
      ],
      "execution_count": 7,
      "outputs": [
        {
          "output_type": "stream",
          "text": [
            "Training Score: 0.970855647321879\n",
            "Testing Score: 0.7925011907351289\n"
          ],
          "name": "stdout"
        }
      ]
    },
    {
      "cell_type": "code",
      "metadata": {
        "id": "782u0pAmfdFr",
        "outputId": "5bcd7885-1010-4fd8-f158-7099b4ec4597",
        "colab": {
          "base_uri": "https://localhost:8080/",
          "height": 298
        }
      },
      "source": [
        "# Plot the Residuals for the Training and Testing data\n",
        "\n",
        "### BEGIN SOLUTION\n",
        "plt.scatter(model.predict(X_train), model.predict(X_train) - y_train, c=\"blue\", label=\"Training Data\")\n",
        "plt.scatter(model.predict(X_test), model.predict(X_test) - y_test, c=\"orange\", label=\"Testing Data\")\n",
        "plt.legend()\n",
        "plt.hlines(y=0, xmin=y.min(), xmax=y.max())\n",
        "plt.title(\"Residual Plot\")\n",
        "### END SOLUTION"
      ],
      "execution_count": 8,
      "outputs": [
        {
          "output_type": "execute_result",
          "data": {
            "text/plain": [
              "Text(0.5, 1.0, 'Residual Plot')"
            ]
          },
          "metadata": {
            "tags": []
          },
          "execution_count": 8
        },
        {
          "output_type": "display_data",
          "data": {
            "image/png": "[encoded data removed]",
            "text/plain": [
              "<Figure size 432x288 with 1 Axes>"
            ]
          },
          "metadata": {
            "tags": [],
            "needs_background": "light"
          }
        }
      ]
    },
    {
      "cell_type": "code",
      "metadata": {
        "id": "3NpmIVKMffce"
      },
      "source": [
        "from sklearn.preprocessing import StandardScaler\n",
        "\n",
        "# Create a StandardScater model and fit it to the training data\n",
        "\n",
        "### BEGIN SOLUTION\n",
        "X_scaler = StandardScaler().fit(X_train)\n",
        "y_scaler = StandardScaler().fit(y_train)\n",
        "### END SOLUTION"
      ],
      "execution_count": 9,
      "outputs": []
    },
    {
      "cell_type": "code",
      "metadata": {
        "id": "aK3mWZU8Ye4u"
      },
      "source": [
        "# Transform the training and testing data using the X_scaler and y_scaler models\n",
        "\n",
        "### BEGIN SOLUTION\n",
        "X_train_scaled = X_scaler.transform(X_train)\n",
        "X_test_scaled = X_scaler.transform(X_test)\n",
        "y_train_scaled = y_scaler.transform(y_train)\n",
        "y_test_scaled = y_scaler.transform(y_test)\n",
        "### END SOLUTION"
      ],
      "execution_count": 10,
      "outputs": []
    },
    {
      "cell_type": "code",
      "metadata": {
        "id": "tOebRps6Ypv4",
        "outputId": "677583a5-ebe6-4b41-8c94-d22eaa296003",
        "colab": {
          "base_uri": "https://localhost:8080/"
        }
      },
      "source": [
        "# Create a LinearRegression model and fit it to the scaled training data\n",
        "\n",
        "### BEGIN SOLUTION\n",
        "from sklearn.linear_model import LinearRegression\n",
        "model = LinearRegression()\n",
        "model.fit(X_train_scaled, y_train_scaled)\n",
        "### END SOLUTION"
      ],
      "execution_count": 11,
      "outputs": [
        {
          "output_type": "execute_result",
          "data": {
            "text/plain": [
              "LinearRegression(copy_X=True, fit_intercept=True, n_jobs=None, normalize=False)"
            ]
          },
          "metadata": {
            "tags": []
          },
          "execution_count": 11
        }
      ]
    },
    {
      "cell_type": "code",
      "metadata": {
        "id": "tXH1gW1FYp3g",
        "outputId": "5be17b82-01c5-4a22-85ea-60580ccf3931",
        "colab": {
          "base_uri": "https://localhost:8080/",
          "height": 281
        }
      },
      "source": [
        "# Make predictions using a fitted model\n",
        "# Plot the difference between the model predicted values and actual y values, versus the model predicted values\n",
        "# Hint: You can predict values of X training and testing data using the model.predict() method on a fitted model\n",
        "\n",
        "### BEGIN SOLUTION\n",
        "predictions = model.predict(X_test_scaled)\n",
        "model.fit(X_train_scaled, y_train_scaled)\n",
        "plt.scatter(model.predict(X_train_scaled), model.predict(X_train_scaled) - y_train_scaled, c=\"blue\", label=\"Training Data\")\n",
        "plt.scatter(model.predict(X_test_scaled), model.predict(X_test_scaled) - y_test_scaled, c=\"orange\", label=\"Testing Data\")\n",
        "plt.legend()\n",
        "plt.hlines(y=0, xmin=y_test_scaled.min(), xmax=y_test_scaled.max())\n",
        "plt.title(\"Residual Plot\")\n",
        "plt.show()\n",
        "### END SOLUTION"
      ],
      "execution_count": 12,
      "outputs": [
        {
          "output_type": "display_data",
          "data": {
            "image/png": "[encoded data removed]",
            "text/plain": [
              "<Figure size 432x288 with 1 Axes>"
            ]
          },
          "metadata": {
            "tags": [],
            "needs_background": "light"
          }
        }
      ]
    },
    {
      "cell_type": "code",
      "metadata": {
        "id": "bOpuZoN-Yp8O",
        "outputId": "a9c43ac6-3777-4bac-cfb2-b88048706b97",
        "colab": {
          "base_uri": "https://localhost:8080/"
        }
      },
      "source": [
        "# Used X_test_scaled, y_test_scaled, and model.predict(X_test_scaled) to calculate MSE and R2\n",
        "\n",
        "### BEGIN SOLUTION\n",
        "from sklearn.metrics import mean_squared_error\n",
        "\n",
        "MSE = mean_squared_error(y_test_scaled, predictions)\n",
        "r2 = model.score(X_test_scaled, y_test_scaled)\n",
        "### END SOLUTION\n",
        "\n",
        "print(f\"MSE: {MSE}, R2: {r2}\")"
      ],
      "execution_count": 13,
      "outputs": [
        {
          "output_type": "stream",
          "text": [
            "MSE: 0.07592563636501963, R2: 0.7925011907351287\n"
          ],
          "name": "stdout"
        }
      ]
    },
    {
      "cell_type": "code",
      "metadata": {
        "id": "Ggnf8dopYp_5",
        "outputId": "7f2b248d-e30f-4deb-cb17-f7ac99e1b31e",
        "colab": {
          "base_uri": "https://localhost:8080/"
        }
      },
      "source": [
        "# LASSO model\n",
        "# Note: Use an alpha of .01 when creating the model for this activity\n",
        "from sklearn.linear_model import Lasso\n",
        "\n",
        "### BEGIN SOLUTION\n",
        "lasso1a = Lasso(alpha=.01).fit(X_train_scaled, y_train_scaled)\n",
        "\n",
        "predictions1a = lasso1a.predict(X_test_scaled)\n",
        "\n",
        "MSE1a = mean_squared_error(y_test_scaled, predictions)\n",
        "r21a = lasso1a.score(X_test_scaled, y_test_scaled)\n",
        "### END SOLUTION\n",
        "\n",
        "print(f\"MSE: {MSE1a}, R2: {r21a}\")"
      ],
      "execution_count": 14,
      "outputs": [
        {
          "output_type": "stream",
          "text": [
            "MSE: 0.07592563636501963, R2: 0.7762750533511534\n"
          ],
          "name": "stdout"
        }
      ]
    },
    {
      "cell_type": "code",
      "metadata": {
        "id": "mpA6wc0rYfDh",
        "outputId": "e802d709-f9a4-480e-89d2-a1172fc41da4",
        "colab": {
          "base_uri": "https://localhost:8080/"
        }
      },
      "source": [
        "# Ridge model\n",
        "# Note: Use an alpha of .01 when creating the model for this activity\n",
        "from sklearn.linear_model import Ridge\n",
        "\n",
        "### BEGIN SOLUTION\n",
        "ridge = Ridge(alpha=.01).fit(X_train_scaled, y_train_scaled)\n",
        "\n",
        "predictions1b = ridge.predict(X_test_scaled)\n",
        "\n",
        "MSE1b = mean_squared_error(y_test_scaled, predictions1b)\n",
        "r21b = ridge.score(X_test_scaled, y_test_scaled)\n",
        "### END SOLUTION\n",
        "\n",
        "print(f\"MSE: {MSE1b}, R2: {r21b}\")"
      ],
      "execution_count": 15,
      "outputs": [
        {
          "output_type": "stream",
          "text": [
            "MSE: 0.07592573560001091, R2: 0.7925009195336806\n"
          ],
          "name": "stdout"
        }
      ]
    },
    {
      "cell_type": "code",
      "metadata": {
        "id": "fypYWxCyZNbh",
        "outputId": "87bd4816-ceb7-4d63-9211-6da2007a49e4",
        "colab": {
          "base_uri": "https://localhost:8080/"
        }
      },
      "source": [
        "# ElasticNet model\n",
        "# Note: Use an alpha of .01 when creating the model for this activity\n",
        "from sklearn.linear_model import ElasticNet\n",
        "\n",
        "### BEGIN SOLUTION\n",
        "elasticnet = ElasticNet(alpha=.01).fit(X_train_scaled, y_train_scaled)\n",
        "\n",
        "predictions1c = elasticnet.predict(X_test_scaled)\n",
        "\n",
        "MSE1c = mean_squared_error(y_test_scaled, predictions1c)\n",
        "r21c = elasticnet.score(X_test_scaled, y_test_scaled)\n",
        "### END SOLUTION\n",
        "\n",
        "print(f\"MSE: {MSE1c}, R2: {r21c}\")"
      ],
      "execution_count": 16,
      "outputs": [
        {
          "output_type": "stream",
          "text": [
            "MSE: 0.08088980258011323, R2: 0.7789345138136113\n"
          ],
          "name": "stdout"
        }
      ]
    },
    {
      "cell_type": "code",
      "metadata": {
        "id": "XyhpdsQnZNnm"
      },
      "source": [
        ""
      ],
      "execution_count": 16,
      "outputs": []
    },
    {
      "cell_type": "code",
      "metadata": {
        "id": "AuEHyKH0Zch2"
      },
      "source": [
        ""
      ],
      "execution_count": 16,
      "outputs": []
    },
    {
      "cell_type": "code",
      "metadata": {
        "id": "sSg7s6WgZNrs"
      },
      "source": [
        ""
      ],
      "execution_count": 16,
      "outputs": []
    },
    {
      "cell_type": "code",
      "metadata": {
        "id": "CfiLNbXmVAda",
        "outputId": "018af4c3-74f6-446d-918c-c20d381e9b9b",
        "colab": {
          "base_uri": "https://localhost:8080/"
        }
      },
      "source": [
        "#multiple regression of \"Triple Crown\"\n",
        "\n",
        "# Assign the data to X and y\n",
        "X2 = data[[\"HR\",\"RBI\",\"AVG\"]]\n",
        "y2 = data[\"R\"].values.reshape(-1, 1)\n",
        "print(X.shape, y.shape)"
      ],
      "execution_count": 17,
      "outputs": [
        {
          "output_type": "stream",
          "text": [
            "(8217, 19) (8217, 1)\n"
          ],
          "name": "stdout"
        }
      ]
    },
    {
      "cell_type": "code",
      "metadata": {
        "id": "e35NFawQVA39"
      },
      "source": [
        "# Use train_test_split to create training and testing data\n",
        "\n",
        "### BEGIN SOLUTION\n",
        "from sklearn.model_selection import train_test_split\n",
        "\n",
        "X_train, X_test, y_train, y_test = train_test_split(X2, y2, test_size = 0.24, shuffle=False)\n",
        "\n",
        "### END SOLUTION"
      ],
      "execution_count": 18,
      "outputs": []
    },
    {
      "cell_type": "code",
      "metadata": {
        "id": "ef2XfFVWVCYY"
      },
      "source": [
        "# Create the model using LinearRegression\n",
        "\n",
        "### BEGIN SOLUTION\n",
        "from sklearn.linear_model import LinearRegression\n",
        "model2 = LinearRegression()\n",
        "### END SOLUTION"
      ],
      "execution_count": 19,
      "outputs": []
    },
    {
      "cell_type": "code",
      "metadata": {
        "id": "-514kQQHVadI",
        "outputId": "177a58ae-a382-48a0-943b-60cd4991acaf",
        "colab": {
          "base_uri": "https://localhost:8080/"
        }
      },
      "source": [
        "# Fit the model to the training data and calculate the scores for the training and testing data\n",
        "\n",
        "### BEGIN SOLUTION\n",
        "model2.fit(X_train, y_train)\n",
        "training_score2 = model2.score(X_train, y_train)\n",
        "testing_score2 = model2.score(X_test, y_test)\n",
        "\n",
        "### END SOLUTION \n",
        "\n",
        "print(f\"Training Score: {training_score2}\")\n",
        "print(f\"Testing Score: {testing_score2}\")"
      ],
      "execution_count": 20,
      "outputs": [
        {
          "output_type": "stream",
          "text": [
            "Training Score: 0.8638174995307092\n",
            "Testing Score: 0.718724580468197\n"
          ],
          "name": "stdout"
        }
      ]
    },
    {
      "cell_type": "code",
      "metadata": {
        "id": "pC5kQLZcVb2a",
        "outputId": "c7271a49-24a8-417f-c066-2d0e1889d3fd",
        "colab": {
          "base_uri": "https://localhost:8080/",
          "height": 298
        }
      },
      "source": [
        "# Plot the Residuals for the Training and Testing data\n",
        "\n",
        "### BEGIN SOLUTION\n",
        "plt.scatter(model2.predict(X_train), model2.predict(X_train) - y_train, c=\"blue\", label=\"Training Data\")\n",
        "plt.scatter(model2.predict(X_test), model2.predict(X_test) - y_test, c=\"orange\", label=\"Testing Data\")\n",
        "plt.legend()\n",
        "plt.hlines(y=0, xmin=y.min(), xmax=y.max())\n",
        "plt.title(\"Residual Plot\")\n",
        "### END SOLUTION"
      ],
      "execution_count": 21,
      "outputs": [
        {
          "output_type": "execute_result",
          "data": {
            "text/plain": [
              "Text(0.5, 1.0, 'Residual Plot')"
            ]
          },
          "metadata": {
            "tags": []
          },
          "execution_count": 21
        },
        {
          "output_type": "display_data",
          "data": {
            "image/png": "[encoded data removed]",
            "text/plain": [
              "<Figure size 432x288 with 1 Axes>"
            ]
          },
          "metadata": {
            "tags": [],
            "needs_background": "light"
          }
        }
      ]
    },
    {
      "cell_type": "code",
      "metadata": {
        "id": "tqJ6gIdZVdvV"
      },
      "source": [
        "from sklearn.preprocessing import StandardScaler\n",
        "\n",
        "# Create a StandardScater model and fit it to the training data\n",
        "\n",
        "### BEGIN SOLUTION\n",
        "X_scaler2 = StandardScaler().fit(X_train)\n",
        "y_scaler2 = StandardScaler().fit(y_train)\n",
        "### END SOLUTION"
      ],
      "execution_count": 22,
      "outputs": []
    },
    {
      "cell_type": "code",
      "metadata": {
        "id": "Ohog6MFyZei6"
      },
      "source": [
        "# Transform the training and testing data using the X_scaler and y_scaler models\n",
        "\n",
        "### BEGIN SOLUTION\n",
        "X_train_scaled2 = X_scaler2.transform(X_train)\n",
        "X_test_scaled2 = X_scaler2.transform(X_test)\n",
        "y_train_scaled2 = y_scaler2.transform(y_train)\n",
        "y_test_scaled2 = y_scaler2.transform(y_test)\n",
        "### END SOLUTION"
      ],
      "execution_count": 23,
      "outputs": []
    },
    {
      "cell_type": "code",
      "metadata": {
        "id": "0pqOq6GzZett",
        "outputId": "7345e3fa-5840-41a9-f018-b8ef1a92543f",
        "colab": {
          "base_uri": "https://localhost:8080/"
        }
      },
      "source": [
        "# Create a LinearRegression model and fit it to the scaled training data\n",
        "\n",
        "### BEGIN SOLUTION\n",
        "from sklearn.linear_model import LinearRegression\n",
        "model2 = LinearRegression()\n",
        "model2.fit(X_train_scaled2, y_train_scaled2)\n",
        "### END SOLUTION"
      ],
      "execution_count": 24,
      "outputs": [
        {
          "output_type": "execute_result",
          "data": {
            "text/plain": [
              "LinearRegression(copy_X=True, fit_intercept=True, n_jobs=None, normalize=False)"
            ]
          },
          "metadata": {
            "tags": []
          },
          "execution_count": 24
        }
      ]
    },
    {
      "cell_type": "code",
      "metadata": {
        "id": "ELiMFZMCZe1h",
        "outputId": "c94adbb2-c0ee-4f8f-8ff7-e0a27e034e20",
        "colab": {
          "base_uri": "https://localhost:8080/",
          "height": 281
        }
      },
      "source": [
        "# Make predictions using a fitted model\n",
        "# Plot the difference between the model predicted values and actual y values, versus the model predicted values\n",
        "# Hint: You can predict values of X training and testing data using the model.predict() method on a fitted model\n",
        "\n",
        "### BEGIN SOLUTION\n",
        "predictions2 = model2.predict(X_test_scaled2)\n",
        "model2.fit(X_train_scaled2, y_train_scaled2)\n",
        "plt.scatter(model2.predict(X_train_scaled2), model2.predict(X_train_scaled2) - y_train_scaled2, c=\"blue\", label=\"Training Data\")\n",
        "plt.scatter(model2.predict(X_test_scaled2), model2.predict(X_test_scaled2) - y_test_scaled2, c=\"orange\", label=\"Testing Data\")\n",
        "plt.legend()\n",
        "plt.hlines(y=0, xmin=y_test_scaled2.min(), xmax=y_test_scaled2.max())\n",
        "plt.title(\"Residual Plot\")\n",
        "plt.show()\n",
        "### END SOLUTION"
      ],
      "execution_count": 25,
      "outputs": [
        {
          "output_type": "display_data",
          "data": {
            "image/png": "[encoded data removed]",
            "text/plain": [
              "<Figure size 432x288 with 1 Axes>"
            ]
          },
          "metadata": {
            "tags": [],
            "needs_background": "light"
          }
        }
      ]
    },
    {
      "cell_type": "code",
      "metadata": {
        "id": "coh6WaHoZe7l",
        "outputId": "24e9639f-baf7-4f42-dcbd-6a2f8e8cc4b2",
        "colab": {
          "base_uri": "https://localhost:8080/"
        }
      },
      "source": [
        "# Used X_test_scaled, y_test_scaled, and model.predict(X_test_scaled) to calculate MSE and R2\n",
        "\n",
        "### BEGIN SOLUTION\n",
        "from sklearn.metrics import mean_squared_error\n",
        "\n",
        "MSE2 = mean_squared_error(y_test_scaled2, predictions2)\n",
        "r22 = model2.score(X_test_scaled2, y_test_scaled2)\n",
        "### END SOLUTION\n",
        "\n",
        "print(f\"MSE: {MSE2}, R2: {r22}\")"
      ],
      "execution_count": 26,
      "outputs": [
        {
          "output_type": "stream",
          "text": [
            "MSE: 0.3094403913113848, R2: 0.718724580468197\n"
          ],
          "name": "stdout"
        }
      ]
    },
    {
      "cell_type": "code",
      "metadata": {
        "id": "RLuq_L0UZfBh",
        "outputId": "d3a0c77e-e646-4aed-80b5-00d395a6f6ee",
        "colab": {
          "base_uri": "https://localhost:8080/"
        }
      },
      "source": [
        "# LASSO model\n",
        "# Note: Use an alpha of .01 when creating the model for this activity\n",
        "from sklearn.linear_model import Lasso\n",
        "\n",
        "### BEGIN SOLUTION\n",
        "lasso2a = Lasso(alpha=.01).fit(X_train_scaled2, y_train_scaled2)\n",
        "\n",
        "predictions2a = lasso2a.predict(X_test_scaled2)\n",
        "\n",
        "MSE2a = mean_squared_error(y_test_scaled2, predictions2)\n",
        "r22a = lasso2a.score(X_test_scaled2, y_test_scaled2)\n",
        "### END SOLUTION\n",
        "\n",
        "print(f\"MSE: {MSE2a}, R2: {r22a}\")"
      ],
      "execution_count": 27,
      "outputs": [
        {
          "output_type": "stream",
          "text": [
            "MSE: 0.3094403913113848, R2: 0.7174329853020682\n"
          ],
          "name": "stdout"
        }
      ]
    },
    {
      "cell_type": "code",
      "metadata": {
        "id": "U2TMQBrvZfHk",
        "outputId": "ce969645-c8ef-44ee-d5b7-6c1f3b1b5459",
        "colab": {
          "base_uri": "https://localhost:8080/"
        }
      },
      "source": [
        "# Ridge model\n",
        "# Note: Use an alpha of .01 when creating the model for this activity\n",
        "from sklearn.linear_model import Ridge\n",
        "\n",
        "### BEGIN SOLUTION\n",
        "ridge2b = Ridge(alpha=.01).fit(X_train_scaled2, y_train_scaled2)\n",
        "\n",
        "predictions2b = ridge2b.predict(X_test_scaled2)\n",
        "\n",
        "MSE2b = mean_squared_error(y_test_scaled2, predictions2b)\n",
        "r22b = ridge2b.score(X_test_scaled2, y_test_scaled2)\n",
        "### END SOLUTION\n",
        "\n",
        "print(f\"MSE: {MSE2b}, R2: {r22b}\")"
      ],
      "execution_count": 28,
      "outputs": [
        {
          "output_type": "stream",
          "text": [
            "MSE: 0.30944031729633453, R2: 0.7187246477464675\n"
          ],
          "name": "stdout"
        }
      ]
    },
    {
      "cell_type": "code",
      "metadata": {
        "id": "ui8QpQQZZfOH",
        "outputId": "49c210af-05b1-47fd-b89f-814b0d24a4b0",
        "colab": {
          "base_uri": "https://localhost:8080/"
        }
      },
      "source": [
        "# ElasticNet model\n",
        "# Note: Use an alpha of .01 when creating the model for this activity\n",
        "from sklearn.linear_model import ElasticNet\n",
        "\n",
        "### BEGIN SOLUTION\n",
        "elasticnet2c = ElasticNet(alpha=.01).fit(X_train_scaled2, y_train_scaled2)\n",
        "\n",
        "predictions2c = elasticnet2c.predict(X_test_scaled2)\n",
        "\n",
        "MSE2c = mean_squared_error(y_test_scaled2, predictions2)\n",
        "r22c = elasticnet2c.score(X_test_scaled2, y_test_scaled2)\n",
        "### END SOLUTION\n",
        "\n",
        "print(f\"MSE: {MSE2c}, R2: {r22c}\")"
      ],
      "execution_count": 29,
      "outputs": [
        {
          "output_type": "stream",
          "text": [
            "MSE: 0.3094403913113848, R2: 0.7181748431991186\n"
          ],
          "name": "stdout"
        }
      ]
    },
    {
      "cell_type": "code",
      "metadata": {
        "id": "p76fhMMHZfV9"
      },
      "source": [
        ""
      ],
      "execution_count": 29,
      "outputs": []
    },
    {
      "cell_type": "code",
      "metadata": {
        "id": "TCYK2MSoZfbc"
      },
      "source": [
        ""
      ],
      "execution_count": 29,
      "outputs": []
    },
    {
      "cell_type": "code",
      "metadata": {
        "id": "ar_d43_qZfhn"
      },
      "source": [
        ""
      ],
      "execution_count": 29,
      "outputs": []
    },
    {
      "cell_type": "code",
      "metadata": {
        "id": "cYER-dk0XyOE",
        "outputId": "7440030b-537b-473c-d3ec-286177f17310",
        "colab": {
          "base_uri": "https://localhost:8080/"
        }
      },
      "source": [
        "#What I think the new Triple Crown Should be, based on Top Correlations to Run Scored\n",
        "\n",
        "# Assign the data to X and y\n",
        "X3 = data[[\"SLG\",\"RBI\",\"HR\"]]\n",
        "y3 = data[\"R\"].values.reshape(-1, 1)\n",
        "print(X.shape, y.shape)"
      ],
      "execution_count": 30,
      "outputs": [
        {
          "output_type": "stream",
          "text": [
            "(8217, 19) (8217, 1)\n"
          ],
          "name": "stdout"
        }
      ]
    },
    {
      "cell_type": "code",
      "metadata": {
        "id": "exiyxemFXzrT"
      },
      "source": [
        "# Create the model using LinearRegression\n",
        "\n",
        "### BEGIN SOLUTION\n",
        "from sklearn.linear_model import LinearRegression\n",
        "model3 = LinearRegression()\n",
        "### END SOLUTION"
      ],
      "execution_count": 31,
      "outputs": []
    },
    {
      "cell_type": "code",
      "metadata": {
        "id": "e0DXW0vpX35X",
        "outputId": "27b9f510-9636-408e-a40a-41b67981c018",
        "colab": {
          "base_uri": "https://localhost:8080/"
        }
      },
      "source": [
        "# Fit the model to the training data and calculate the scores for the training and testing data\n",
        "\n",
        "### BEGIN SOLUTION\n",
        "model3.fit(X_train, y_train)\n",
        "training_score3 = model3.score(X_train, y_train)\n",
        "testing_score3 = model3.score(X_test, y_test)\n",
        "\n",
        "### END SOLUTION \n",
        "\n",
        "print(f\"Training Score: {training_score3}\")\n",
        "print(f\"Testing Score: {testing_score3}\")"
      ],
      "execution_count": 32,
      "outputs": [
        {
          "output_type": "stream",
          "text": [
            "Training Score: 0.8638174995307092\n",
            "Testing Score: 0.718724580468197\n"
          ],
          "name": "stdout"
        }
      ]
    },
    {
      "cell_type": "code",
      "metadata": {
        "id": "Sz2sjMLQX5ML",
        "outputId": "710267b4-a569-4634-b2a6-0c7696d14a85",
        "colab": {
          "base_uri": "https://localhost:8080/",
          "height": 298
        }
      },
      "source": [
        "# Plot the Residuals for the Training and Testing data\n",
        "\n",
        "### BEGIN SOLUTION\n",
        "plt.scatter(model3.predict(X_train), model3.predict(X_train) - y_train, c=\"blue\", label=\"Training Data\")\n",
        "plt.scatter(model3.predict(X_test), model3.predict(X_test) - y_test, c=\"orange\", label=\"Testing Data\")\n",
        "plt.legend()\n",
        "plt.hlines(y=0, xmin=y.min(), xmax=y.max())\n",
        "plt.title(\"Residual Plot\")\n",
        "### END SOLUTION"
      ],
      "execution_count": 33,
      "outputs": [
        {
          "output_type": "execute_result",
          "data": {
            "text/plain": [
              "Text(0.5, 1.0, 'Residual Plot')"
            ]
          },
          "metadata": {
            "tags": []
          },
          "execution_count": 33
        },
        {
          "output_type": "display_data",
          "data": {
            "image/png": "[encoded data removed]",
            "text/plain": [
              "<Figure size 432x288 with 1 Axes>"
            ]
          },
          "metadata": {
            "tags": [],
            "needs_background": "light"
          }
        }
      ]
    },
    {
      "cell_type": "code",
      "metadata": {
        "id": "qjj3LvEZX6cA"
      },
      "source": [
        "from sklearn.preprocessing import StandardScaler\n",
        "\n",
        "# Create a StandardScater model and fit it to the training data\n",
        "\n",
        "### BEGIN SOLUTION\n",
        "X_scaler3 = StandardScaler().fit(X_train)\n",
        "y_scaler3 = StandardScaler().fit(y_train)\n",
        "### END SOLUTION"
      ],
      "execution_count": 34,
      "outputs": []
    },
    {
      "cell_type": "code",
      "metadata": {
        "id": "eMyrHC43PXvR"
      },
      "source": [
        "# Transform the training and testing data using the X_scaler and y_scaler models\n",
        "\n",
        "### BEGIN SOLUTION\n",
        "X_train_scaled3 = X_scaler3.transform(X_train)\n",
        "X_test_scaled3 = X_scaler3.transform(X_test)\n",
        "y_train_scaled3 = y_scaler3.transform(y_train)\n",
        "y_test_scaled3 = y_scaler3.transform(y_test)\n",
        "### END SOLUTION"
      ],
      "execution_count": 35,
      "outputs": []
    },
    {
      "cell_type": "code",
      "metadata": {
        "id": "GaMV304pPZMd",
        "outputId": "acc3e45b-318d-4e3a-b791-50de7f59912e",
        "colab": {
          "base_uri": "https://localhost:8080/"
        }
      },
      "source": [
        "# Create a LinearRegression model and fit it to the scaled training data\n",
        "\n",
        "### BEGIN SOLUTION\n",
        "from sklearn.linear_model import LinearRegression\n",
        "model3 = LinearRegression()\n",
        "model3.fit(X_train_scaled3, y_train_scaled3)\n",
        "### END SOLUTION"
      ],
      "execution_count": 36,
      "outputs": [
        {
          "output_type": "execute_result",
          "data": {
            "text/plain": [
              "LinearRegression(copy_X=True, fit_intercept=True, n_jobs=None, normalize=False)"
            ]
          },
          "metadata": {
            "tags": []
          },
          "execution_count": 36
        }
      ]
    },
    {
      "cell_type": "code",
      "metadata": {
        "id": "9ayWWihIPa1B",
        "outputId": "2212b903-347f-43a7-feb1-aa63bc59abda",
        "colab": {
          "base_uri": "https://localhost:8080/",
          "height": 281
        }
      },
      "source": [
        "# Make predictions using a fitted model\n",
        "# Plot the difference between the model predicted values and actual y values, versus the model predicted values\n",
        "# Hint: You can predict values of X training and testing data using the model.predict() method on a fitted model\n",
        "\n",
        "### BEGIN SOLUTION\n",
        "predictions3 = model3.predict(X_test_scaled3)\n",
        "model3.fit(X_train_scaled3, y_train_scaled3)\n",
        "plt.scatter(model3.predict(X_train_scaled3), model3.predict(X_train_scaled3) - y_train_scaled3, c=\"blue\", label=\"Training Data\")\n",
        "plt.scatter(model3.predict(X_test_scaled3), model3.predict(X_test_scaled3) - y_test_scaled3, c=\"orange\", label=\"Testing Data\")\n",
        "plt.legend()\n",
        "plt.hlines(y=0, xmin=y_test_scaled3.min(), xmax=y_test_scaled3.max())\n",
        "plt.title(\"Residual Plot\")\n",
        "plt.show()\n",
        "### END SOLUTION"
      ],
      "execution_count": 37,
      "outputs": [
        {
          "output_type": "display_data",
          "data": {
            "image/png": "[encoded data removed]",
            "text/plain": [
              "<Figure size 432x288 with 1 Axes>"
            ]
          },
          "metadata": {
            "tags": [],
            "needs_background": "light"
          }
        }
      ]
    },
    {
      "cell_type": "code",
      "metadata": {
        "id": "g4Fir5TSPcfF",
        "outputId": "4c6d82a2-139f-49be-a19e-4ee0c44a941e",
        "colab": {
          "base_uri": "https://localhost:8080/"
        }
      },
      "source": [
        "# Used X_test_scaled, y_test_scaled, and model.predict(X_test_scaled) to calculate MSE and R2\n",
        "\n",
        "### BEGIN SOLUTION\n",
        "from sklearn.metrics import mean_squared_error\n",
        "\n",
        "MSE3 = mean_squared_error(y_test_scaled3, predictions3)\n",
        "r23 = model3.score(X_test_scaled3, y_test_scaled3)\n",
        "### END SOLUTION\n",
        "\n",
        "print(f\"MSE: {MSE3}, R2: {r23}\")"
      ],
      "execution_count": 38,
      "outputs": [
        {
          "output_type": "stream",
          "text": [
            "MSE: 0.3094403913113848, R2: 0.718724580468197\n"
          ],
          "name": "stdout"
        }
      ]
    },
    {
      "cell_type": "code",
      "metadata": {
        "id": "AG6gOYAePeK2",
        "outputId": "a833e7c3-85f8-4339-ea4e-b1a2f2f2c670",
        "colab": {
          "base_uri": "https://localhost:8080/"
        }
      },
      "source": [
        "# LASSO model\n",
        "# Note: Use an alpha of .01 when creating the model for this activity\n",
        "from sklearn.linear_model import Lasso\n",
        "\n",
        "### BEGIN SOLUTION\n",
        "lasso3a = Lasso(alpha=.01).fit(X_train_scaled3, y_train_scaled3)\n",
        "\n",
        "predictions3a = lasso3a.predict(X_test_scaled3)\n",
        "\n",
        "MSE3a = mean_squared_error(y_test_scaled3, predictions3a)\n",
        "r23a = lasso3a.score(X_test_scaled3, y_test_scaled3)\n",
        "### END SOLUTION\n",
        "\n",
        "print(f\"MSE: {MSE3a}, R2: {r23a}\")"
      ],
      "execution_count": 39,
      "outputs": [
        {
          "output_type": "stream",
          "text": [
            "MSE: 0.31086131786902016, R2: 0.7174329853020682\n"
          ],
          "name": "stdout"
        }
      ]
    },
    {
      "cell_type": "code",
      "metadata": {
        "id": "VBM1sOkcPfl4",
        "outputId": "7338e482-74ee-4644-ddd5-067b73333803",
        "colab": {
          "base_uri": "https://localhost:8080/"
        }
      },
      "source": [
        "# Ridge model\n",
        "# Note: Use an alpha of .01 when creating the model for this activity\n",
        "from sklearn.linear_model import Ridge\n",
        "\n",
        "### BEGIN SOLUTION\n",
        "ridge3b = Ridge(alpha=.01).fit(X_train_scaled3, y_train_scaled3)\n",
        "\n",
        "predictions3b = ridge3b.predict(X_test_scaled3)\n",
        "\n",
        "MSE3b = mean_squared_error(y_test_scaled3, predictions3b)\n",
        "r23b = ridge2b.score(X_test_scaled3, y_test_scaled3)\n",
        "### END SOLUTION\n",
        "\n",
        "print(f\"MSE: {MSE3b}, R2: {r23b}\")"
      ],
      "execution_count": 40,
      "outputs": [
        {
          "output_type": "stream",
          "text": [
            "MSE: 0.30944031729633453, R2: 0.7187246477464675\n"
          ],
          "name": "stdout"
        }
      ]
    },
    {
      "cell_type": "code",
      "metadata": {
        "id": "O-Qj14f7Pg_l",
        "outputId": "cd6d533d-1879-4ad5-b1a6-67356ca2de8f",
        "colab": {
          "base_uri": "https://localhost:8080/"
        }
      },
      "source": [
        "# ElasticNet model\n",
        "# Note: Use an alpha of .01 when creating the model for this activity\n",
        "from sklearn.linear_model import ElasticNet\n",
        "\n",
        "### BEGIN SOLUTION\n",
        "elasticnet3c = ElasticNet(alpha=.01).fit(X_train_scaled3, y_train_scaled3)\n",
        "\n",
        "predictions3c = elasticnet3c.predict(X_test_scaled3)\n",
        "\n",
        "MSE3c = mean_squared_error(y_test_scaled3, predictions3c)\n",
        "r23c = elasticnet3c.score(X_test_scaled3, y_test_scaled3)\n",
        "### END SOLUTION\n",
        "\n",
        "print(f\"MSE: {MSE3c}, R2: {r23c}\")"
      ],
      "execution_count": 41,
      "outputs": [
        {
          "output_type": "stream",
          "text": [
            "MSE: 0.31004517546189897, R2: 0.7181748431991186\n"
          ],
          "name": "stdout"
        }
      ]
    },
    {
      "cell_type": "code",
      "metadata": {
        "id": "kEiLXQBxPiez"
      },
      "source": [
        ""
      ],
      "execution_count": 41,
      "outputs": []
    }
  ]
}